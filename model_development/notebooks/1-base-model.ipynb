{
 "metadata": {
  "language_info": {
   "codemirror_mode": {
    "name": "ipython",
    "version": 3
   },
   "file_extension": ".py",
   "mimetype": "text/x-python",
   "name": "python",
   "nbconvert_exporter": "python",
   "pygments_lexer": "ipython3",
   "version": "3.7.9-final"
  },
  "orig_nbformat": 2,
  "kernelspec": {
   "name": "Python 3.7.9 64-bit ('youreit': conda)",
   "display_name": "Python 3.7.9 64-bit ('youreit': conda)",
   "metadata": {
    "interpreter": {
     "hash": "036400ab147c727a32e1594addfccc86371338bb65175d19c34515eac00cc03e"
    }
   }
  }
 },
 "nbformat": 4,
 "nbformat_minor": 2,
 "cells": [
  {
   "source": [
    "# 1. Base Model\n",
    "---\n",
    "\n",
    "In this notebook, we will prepare dataset and build a base model.\n",
    "\n",
    "## Import Libraries"
   ],
   "cell_type": "markdown",
   "metadata": {}
  },
  {
   "cell_type": "code",
   "execution_count": 1,
   "metadata": {},
   "outputs": [
    {
     "output_type": "stream",
     "name": "stderr",
     "text": [
      "Using TensorFlow backend.\n"
     ]
    }
   ],
   "source": [
    "from keras import preprocessing, Input, Model, regularizers, optimizers\n",
    "from keras.preprocessing.image import ImageDataGenerator\n",
    "from keras.layers import Dense, Activation, Flatten, Dropout, BatchNormalization\n",
    "from keras.layers import Conv2D, MaxPooling2D\n",
    "from keras.models import load_model\n",
    "import pandas as pd\n",
    "import numpy as np\n",
    "from sklearn.feature_extraction.text import CountVectorizer\n",
    "from sklearn.utils import shuffle\n",
    "\n",
    "from PIL import ImageFile\n",
    "ImageFile.LOAD_TRUNCATED_IMAGES = True\n",
    "\n",
    "import sys\n",
    "sys.path.append(\"../src\")\n",
    "from utils import destination, save_models"
   ]
  },
  {
   "source": [
    "## Create the Target Matrix\n",
    "Form ```tag_list.txt``` and ```data_list.txt``` in HARRISON dataset, we create a target matrix as a DataFrame."
   ],
   "cell_type": "markdown",
   "metadata": {}
  },
  {
   "cell_type": "code",
   "execution_count": 2,
   "metadata": {},
   "outputs": [
    {
     "output_type": "execute_result",
     "data": {
      "text/plain": [
       "             filename                                             labels\n",
       "0    sea_image_50.jpg                sea instapic instagram trip travel \n",
       "1  sea_image_1284.jpg                                               sea \n",
       "2  sea_image_1122.jpg                                          sea love \n",
       "3  sea_image_1679.jpg                       beach sea trip island japan \n",
       "4  sea_image_1736.jpg  sun sand sea sky friend beach thailand trip ad..."
      ],
      "text/html": "<div>\n<style scoped>\n    .dataframe tbody tr th:only-of-type {\n        vertical-align: middle;\n    }\n\n    .dataframe tbody tr th {\n        vertical-align: top;\n    }\n\n    .dataframe thead th {\n        text-align: right;\n    }\n</style>\n<table border=\"1\" class=\"dataframe\">\n  <thead>\n    <tr style=\"text-align: right;\">\n      <th></th>\n      <th>filename</th>\n      <th>labels</th>\n    </tr>\n  </thead>\n  <tbody>\n    <tr>\n      <th>0</th>\n      <td>sea_image_50.jpg</td>\n      <td>sea instapic instagram trip travel</td>\n    </tr>\n    <tr>\n      <th>1</th>\n      <td>sea_image_1284.jpg</td>\n      <td>sea</td>\n    </tr>\n    <tr>\n      <th>2</th>\n      <td>sea_image_1122.jpg</td>\n      <td>sea love</td>\n    </tr>\n    <tr>\n      <th>3</th>\n      <td>sea_image_1679.jpg</td>\n      <td>beach sea trip island japan</td>\n    </tr>\n    <tr>\n      <th>4</th>\n      <td>sea_image_1736.jpg</td>\n      <td>sun sand sea sky friend beach thailand trip ad...</td>\n    </tr>\n  </tbody>\n</table>\n</div>"
     },
     "metadata": {},
     "execution_count": 2
    }
   ],
   "source": [
    "# Read files\n",
    "filename = pd.read_csv(\"../HARRISON/data_list.txt\", names=[\"filename\"], header=None)\n",
    "hashtag = pd.read_csv(\"../HARRISON/tag_list.txt\", names=[\"labels\"], header=None)\n",
    "\n",
    "# Convert filenames from \"instagram_dataset/xxx/yyy.jpg\" to \"xxx_yyy.jpg\"\n",
    "filename[\"filename\"] = filename[\"filename\"].apply(lambda x: \"_\".join(x.split(\"/\")[1:]))\n",
    "\n",
    "# Concatenate filname and labels\n",
    "target = pd.concat([filename, hashtag], axis=1)\n",
    "target.head(5)"
   ]
  },
  {
   "cell_type": "code",
   "execution_count": 3,
   "metadata": {},
   "outputs": [],
   "source": [
    "# Use vectorizer to generate a one-hot encoding\n",
    "vectorizer = CountVectorizer()\n",
    "X = vectorizer.fit_transform(target[\"labels\"])\n",
    "columns = vectorizer.get_feature_names()\n",
    "X_df = pd.DataFrame(X.toarray(), columns=columns)\n",
    "\n",
    "# Combine hashtag encodings with file names\n",
    "target = pd.concat([target, X_df], axis=1)\n",
    "target = shuffle(target, random_state=42)\n",
    "\n",
    "num_images = target.shape[0]\n",
    "num_hashtags = X_df.shape[1]"
   ]
  },
  {
   "source": [
    "## Prepare Images"
   ],
   "cell_type": "markdown",
   "metadata": {}
  },
  {
   "cell_type": "code",
   "execution_count": 4,
   "metadata": {},
   "outputs": [
    {
     "output_type": "stream",
     "name": "stdout",
     "text": [
      "Found 40168 validated image filenames.\n",
      "Found 11476 validated image filenames.\n",
      "Found 5739 validated image filenames.\n"
     ]
    }
   ],
   "source": [
    "IMAGE_DIR = \"../HARRISON/images\"\n",
    "\n",
    "# Instanciate a data generator\n",
    "datagen = ImageDataGenerator(rescale=1./255.)\n",
    "\n",
    "# Use these values to split data into train, val, and test\n",
    "train_idx = int(target.shape[0] * .70)\n",
    "val_idx = int(target.shape[0] * .90)\n",
    "\n",
    "# Create train data generator\n",
    "train_generator = datagen.flow_from_dataframe(\n",
    "        dataframe=target[:train_idx],\n",
    "        directory=IMAGE_DIR,\n",
    "        x_col=\"filename\",\n",
    "        y_col=columns,\n",
    "        batch_size=32,\n",
    "        seed=42,\n",
    "        shuffle=True,\n",
    "        class_mode=\"raw\",\n",
    "        target_size=(100,100)\n",
    "    )\n",
    "\n",
    "# Create val data generator\n",
    "valid_generator = datagen.flow_from_dataframe(\n",
    "        dataframe=target[train_idx:val_idx],\n",
    "        directory=IMAGE_DIR,\n",
    "        x_col=\"filename\",\n",
    "        y_col=columns,\n",
    "        batch_size=32,\n",
    "        seed=42,\n",
    "        shuffle=True,\n",
    "        class_mode=\"raw\",\n",
    "        target_size=(100,100)\n",
    "    )\n",
    "\n",
    "# Create test data generator\n",
    "test_generator = datagen.flow_from_dataframe(\n",
    "        dataframe=target[val_idx:],\n",
    "        directory=IMAGE_DIR,\n",
    "        x_col=\"filename\",\n",
    "        batch_size=1,\n",
    "        seed=42,\n",
    "        shuffle=False,\n",
    "        class_mode=None,\n",
    "        target_size=(100,100)\n",
    "    )"
   ]
  },
  {
   "source": [
    "## Build a Model"
   ],
   "cell_type": "markdown",
   "metadata": {}
  },
  {
   "cell_type": "code",
   "execution_count": 5,
   "metadata": {
    "tags": []
   },
   "outputs": [],
   "source": [
    "# Define model\n",
    "inp = Input(shape=(100,100,3))\n",
    "x = Conv2D(32, (3, 3), padding='same')(inp)\n",
    "x = Activation('relu')(x)\n",
    "x = Conv2D(32, (3, 3))(x)\n",
    "x = Activation('relu')(x)\n",
    "x = MaxPooling2D(pool_size=(2, 2))(x)\n",
    "x = Dropout(0.25)(x)\n",
    "x = Conv2D(64, (3, 3), padding='same')(x)\n",
    "x = Activation('relu')(x)\n",
    "x = Conv2D(64, (3, 3))(x)\n",
    "x = Activation('relu')(x)\n",
    "x = MaxPooling2D(pool_size=(2, 2))(x)\n",
    "x = Dropout(0.25)(x)\n",
    "x = Flatten()(x)\n",
    "x = Dense(512)(x)\n",
    "x = Activation('relu')(x)\n",
    "x = Dropout(0.5)(x)\n",
    "output = []\n",
    "for i in range(num_hashtags):\n",
    "    output.append(Dense(1, activation='sigmoid')(x))\n",
    "\n",
    "model = Model(inp,output)\n",
    "\n",
    "# Compile model\n",
    "model.compile(optimizers.rmsprop(\n",
    "    lr=0.0001,\n",
    "    decay=1e-6),\n",
    "    loss = [\"binary_crossentropy\" for i in range(num_hashtags)],\n",
    "    metrics=[\"accuracy\"])"
   ]
  },
  {
   "source": [
    "## Fitting the Model"
   ],
   "cell_type": "markdown",
   "metadata": {}
  },
  {
   "cell_type": "code",
   "execution_count": 6,
   "metadata": {},
   "outputs": [],
   "source": [
    "def generator_wrapper(generator):\n",
    "    for batch_x,batch_y in generator:\n",
    "        yield (batch_x,[batch_y[:,i] for i in range(num_hashtags)])\n",
    "\n",
    "STEP_SIZE_TRAIN = train_generator.n//train_generator.batch_size\n",
    "STEP_SIZE_VALID = valid_generator.n//valid_generator.batch_size\n",
    "STEP_SIZE_TEST = test_generator.n//test_generator.batch_size\n",
    "\n",
    "model.fit_generator(generator=generator_wrapper(train_generator),\n",
    "    steps_per_epoch=STEP_SIZE_TRAIN,\n",
    "    validation_data=generator_wrapper(valid_generator),\n",
    "    validation_steps=STEP_SIZE_VALID,\n",
    "    epochs=1,\n",
    "    verbose=0)"
   ]
  },
  {
   "cell_type": "code",
   "execution_count": 6,
   "metadata": {},
   "outputs": [],
   "source": [
    "# Save model for future use\n",
    "model.save(destination(\"../model\", \"keras_model\"))"
   ]
  },
  {
   "source": [
    "## Prediction"
   ],
   "cell_type": "markdown",
   "metadata": {}
  },
  {
   "cell_type": "code",
   "execution_count": 14,
   "metadata": {},
   "outputs": [
    {
     "output_type": "stream",
     "name": "stdout",
     "text": [
      "5739/5739 [==============================] - 322s 56ms/step\n"
     ]
    }
   ],
   "source": [
    "test_generator.reset()\n",
    "pred = model.predict_generator(test_generator, steps=STEP_SIZE_TEST, verbose=1)"
   ]
  },
  {
   "cell_type": "code",
   "execution_count": 180,
   "metadata": {},
   "outputs": [
    {
     "output_type": "execute_result",
     "data": {
      "text/plain": [
       "                      filename  \\\n",
       "0  justinbieber_image_1127.jpg   \n",
       "1         makeup_image_696.jpg   \n",
       "2         truth_image_2843.jpg   \n",
       "3           dog_image_1067.jpg   \n",
       "4        family_image_2692.jpg   \n",
       "\n",
       "                                              y_true  \\\n",
       "0  [likeme, follow, onedirection, harrystyles, ar...   \n",
       "1                                           [makeup]   \n",
       "2                       [word, wisdom, truth, quote]   \n",
       "3    [bff, cloud, dog, bestfriends, dogsofinstagram]   \n",
       "4  [kid, boy, child, park, april, outdoors, famil...   \n",
       "\n",
       "                                              y_pred  \n",
       "0  [black, family, fashion, friend, girl, love, n...  \n",
       "1  [beach, beautiful, black, bored, family, fashi...  \n",
       "2  [beach, beautiful, black, family, fashion, fri...  \n",
       "3  [beach, beautiful, beauty, black, bored, boyfr...  \n",
       "4  [beach, beautiful, black, bored, family, fashi...  "
      ],
      "text/html": "<div>\n<style scoped>\n    .dataframe tbody tr th:only-of-type {\n        vertical-align: middle;\n    }\n\n    .dataframe tbody tr th {\n        vertical-align: top;\n    }\n\n    .dataframe thead th {\n        text-align: right;\n    }\n</style>\n<table border=\"1\" class=\"dataframe\">\n  <thead>\n    <tr style=\"text-align: right;\">\n      <th></th>\n      <th>filename</th>\n      <th>y_true</th>\n      <th>y_pred</th>\n    </tr>\n  </thead>\n  <tbody>\n    <tr>\n      <th>0</th>\n      <td>justinbieber_image_1127.jpg</td>\n      <td>[likeme, follow, onedirection, harrystyles, ar...</td>\n      <td>[black, family, fashion, friend, girl, love, n...</td>\n    </tr>\n    <tr>\n      <th>1</th>\n      <td>makeup_image_696.jpg</td>\n      <td>[makeup]</td>\n      <td>[beach, beautiful, black, bored, family, fashi...</td>\n    </tr>\n    <tr>\n      <th>2</th>\n      <td>truth_image_2843.jpg</td>\n      <td>[word, wisdom, truth, quote]</td>\n      <td>[beach, beautiful, black, family, fashion, fri...</td>\n    </tr>\n    <tr>\n      <th>3</th>\n      <td>dog_image_1067.jpg</td>\n      <td>[bff, cloud, dog, bestfriends, dogsofinstagram]</td>\n      <td>[beach, beautiful, beauty, black, bored, boyfr...</td>\n    </tr>\n    <tr>\n      <th>4</th>\n      <td>family_image_2692.jpg</td>\n      <td>[kid, boy, child, park, april, outdoors, famil...</td>\n      <td>[beach, beautiful, black, bored, family, fashi...</td>\n    </tr>\n  </tbody>\n</table>\n</div>"
     },
     "metadata": {},
     "execution_count": 180
    }
   ],
   "source": [
    "# Zscore normalization\n",
    "pred_reshaped = np.array(pred).reshape((num_hashtags, num_images-val_idx)).transpose()\n",
    "normalized = (pred_reshaped - pred_reshaped.mean())/pred_reshaped.std()\n",
    "above3std = (b > 3).astype(int)\n",
    "\n",
    "# Get lists of hashtags\n",
    "y_pred = pd.concat([\n",
    "    pd.Series(test_generator.filenames, name=\"filename\"),\n",
    "    pd.Series(vectorizer.inverse_transform(above3std), name=\"y_pred\")],\n",
    "    axis=1)\n",
    "\n",
    "y_true = target[target[\"filename\"].isin(results[\"filename\"])][[\"filename\", \"labels\"]]\n",
    "y_true[\"y_true\"] = y_true[\"labels\"].apply(lambda x: x.split())\n",
    "y_true.drop([\"labels\"], axis=1, inplace=True)\n",
    "\n",
    "results = pd.merge(y_true, y_pred, left_on=\"filename\", right_on=\"filename\")\n",
    "results.head()"
   ]
  },
  {
   "source": [
    "## Measure Performance\n",
    "Count the number of hashtags that's not in y_true. Note that this metric is not really useful."
   ],
   "cell_type": "markdown",
   "metadata": {}
  },
  {
   "cell_type": "code",
   "execution_count": 191,
   "metadata": {
    "tags": []
   },
   "outputs": [],
   "source": [
    "def performance(row):\n",
    "    err = 0\n",
    "    for hashtag in  row.y_pred:\n",
    "        if hashtag not in row.y_true:\n",
    "            err += 1\n",
    "    return err\n",
    "\n",
    "err = results.apply(performance, axis=1)\n"
   ]
  },
  {
   "source": [
    "## Some of the Pictures with predicted hashtags\n",
    "Only 10 of the predicted hashtags are shown with the pictures."
   ],
   "cell_type": "markdown",
   "metadata": {}
  },
  {
   "cell_type": "code",
   "execution_count": 227,
   "metadata": {},
   "outputs": [
    {
     "output_type": "display_data",
     "data": {
      "text/plain": "<IPython.core.display.HTML object>",
      "text/html": "\n    <style>\n        #ipyplot-html-viewer-toggle-72uxyDSd5dnVmAQSqpMCpq {\n            position: absolute;\n            top: -9999px;\n            left: -9999px;\n            visibility: hidden;\n        }\n\n        #ipyplot-html-viewer-label-72uxyDSd5dnVmAQSqpMCpq { \n            position: relative;\n            display: inline-block;\n            cursor: pointer;\n            color: blue;\n            text-decoration: underline;\n        }\n\n        #ipyplot-html-viewer-textarea-72uxyDSd5dnVmAQSqpMCpq {\n            background: lightgrey;\n            width: 100%;\n            height: 0px;\n            display: none;\n        }\n\n        #ipyplot-html-viewer-toggle-72uxyDSd5dnVmAQSqpMCpq:checked ~ #ipyplot-html-viewer-textarea-72uxyDSd5dnVmAQSqpMCpq {\n            height: 200px;\n            display: block;\n        }\n\n        #ipyplot-html-viewer-toggle-72uxyDSd5dnVmAQSqpMCpq:checked + #ipyplot-html-viewer-label-72uxyDSd5dnVmAQSqpMCpq:after {\n            content: \"hide html\";\n            position: absolute;\n            top: 0;\n            left: 0;\n            right: 0;\n            bottom: 0;\n            background: white;\n            cursor: pointer;\n            color: blue;\n            text-decoration: underline;\n        }\n    </style>\n    <div>\n        <input type=\"checkbox\" id=\"ipyplot-html-viewer-toggle-72uxyDSd5dnVmAQSqpMCpq\">\n        <label id=\"ipyplot-html-viewer-label-72uxyDSd5dnVmAQSqpMCpq\" for=\"ipyplot-html-viewer-toggle-72uxyDSd5dnVmAQSqpMCpq\">show html</label>\n        <textarea id=\"ipyplot-html-viewer-textarea-72uxyDSd5dnVmAQSqpMCpq\" readonly>\n            \n        <style>\n        #ipyplot-imgs-container-div-jKSe63nVJfqdFF95x2aSTL {\n            width: 100%;\n            height: 100%;\n            margin: 0%;\n            overflow: auto;\n            position: relative;\n            overflow-y: scroll;\n        }\n\n        div.ipyplot-placeholder-div-jKSe63nVJfqdFF95x2aSTL {\n            width: 150px;\n            display: inline-block;\n            margin: 3px;\n            position: relative;\n        }\n\n        div.ipyplot-content-div-jKSe63nVJfqdFF95x2aSTL {\n            width: 150px;\n            background: white;\n            display: inline-block;\n            vertical-align: top;\n            text-align: center;\n            position: relative;\n            border: 2px solid #ddd;\n            top: 0;\n            left: 0;\n        }\n\n        div.ipyplot-content-div-jKSe63nVJfqdFF95x2aSTL span.ipyplot-img-close {\n            display: none;\n        }\n\n        div.ipyplot-content-div-jKSe63nVJfqdFF95x2aSTL span {\n            width: 100%;\n            height: 100%;\n            position: absolute;\n            top: 0;\n            left: 0;\n        }\n\n        div.ipyplot-content-div-jKSe63nVJfqdFF95x2aSTL img {\n            width: 150px;\n        }\n\n        div.ipyplot-content-div-jKSe63nVJfqdFF95x2aSTL span.ipyplot-img-close:hover {\n            cursor: zoom-out;\n        }\n        div.ipyplot-content-div-jKSe63nVJfqdFF95x2aSTL span.ipyplot-img-expand:hover {\n            cursor: zoom-in;\n        }\n\n        div[id^=ipyplot-content-div-jKSe63nVJfqdFF95x2aSTL]:target {\n            transform: scale(2.5);\n            transform-origin: left top;\n            z-index: 5000;\n            top: 0;\n            left: 0;\n            position: absolute;\n        }\n\n        div[id^=ipyplot-content-div-jKSe63nVJfqdFF95x2aSTL]:target span.ipyplot-img-close {\n            display: block;\n        }\n\n        div[id^=ipyplot-content-div-jKSe63nVJfqdFF95x2aSTL]:target span.ipyplot-img-expand {\n            display: none;\n        }\n        </style>\n    <div id=\"ipyplot-imgs-container-div-jKSe63nVJfqdFF95x2aSTL\">\n    <div class=\"ipyplot-placeholder-div-jKSe63nVJfqdFF95x2aSTL\">\n        <div id=\"ipyplot-content-div-jKSe63nVJfqdFF95x2aSTL-JhExLtJmVWQGi6trh5guS2\" class=\"ipyplot-content-div-jKSe63nVJfqdFF95x2aSTL\">\n            <h4 style=\"font-size: 12px; word-wrap: break-word;\">['black' 'family' 'fashion' 'friend' 'girl' 'love' 'nike' 'school' 'truth'\n 'yellow']</h4>\n            <h4 style=\"font-size: 9px; padding-left: 10px; padding-right: 10px; width: 95%; word-wrap: break-word; white-space: normal;\">../HARRISON/images/justinbieber_image_1127.jpg</h4><img src=\"../HARRISON/images/justinbieber_image_1127.jpg\"/>\n            <a href=\"#!\">\n                <span class=\"ipyplot-img-close\"/>\n            </a>\n            <a href=\"#ipyplot-content-div-jKSe63nVJfqdFF95x2aSTL-JhExLtJmVWQGi6trh5guS2\">\n                <span class=\"ipyplot-img-expand\"/>\n            </a>\n        </div>\n    </div>\n    \n    <div class=\"ipyplot-placeholder-div-jKSe63nVJfqdFF95x2aSTL\">\n        <div id=\"ipyplot-content-div-jKSe63nVJfqdFF95x2aSTL-h98gTsaSJuFiVD9acEvme8\" class=\"ipyplot-content-div-jKSe63nVJfqdFF95x2aSTL\">\n            <h4 style=\"font-size: 12px; word-wrap: break-word;\">['beach' 'beautiful' 'black' 'bored' 'family' 'fashion' 'friend' 'girl'\n 'happy' 'love']</h4>\n            <h4 style=\"font-size: 9px; padding-left: 10px; padding-right: 10px; width: 95%; word-wrap: break-word; white-space: normal;\">../HARRISON/images/makeup_image_696.jpg</h4><img src=\"../HARRISON/images/makeup_image_696.jpg\"/>\n            <a href=\"#!\">\n                <span class=\"ipyplot-img-close\"/>\n            </a>\n            <a href=\"#ipyplot-content-div-jKSe63nVJfqdFF95x2aSTL-h98gTsaSJuFiVD9acEvme8\">\n                <span class=\"ipyplot-img-expand\"/>\n            </a>\n        </div>\n    </div>\n    \n    <div class=\"ipyplot-placeholder-div-jKSe63nVJfqdFF95x2aSTL\">\n        <div id=\"ipyplot-content-div-jKSe63nVJfqdFF95x2aSTL-RyvAemCiKzeXc59pFKHnsa\" class=\"ipyplot-content-div-jKSe63nVJfqdFF95x2aSTL\">\n            <h4 style=\"font-size: 12px; word-wrap: break-word;\">['beach' 'beautiful' 'black' 'family' 'fashion' 'friend' 'girl' 'happy'\n 'instafood' 'love']</h4>\n            <h4 style=\"font-size: 9px; padding-left: 10px; padding-right: 10px; width: 95%; word-wrap: break-word; white-space: normal;\">../HARRISON/images/truth_image_2843.jpg</h4><img src=\"../HARRISON/images/truth_image_2843.jpg\"/>\n            <a href=\"#!\">\n                <span class=\"ipyplot-img-close\"/>\n            </a>\n            <a href=\"#ipyplot-content-div-jKSe63nVJfqdFF95x2aSTL-RyvAemCiKzeXc59pFKHnsa\">\n                <span class=\"ipyplot-img-expand\"/>\n            </a>\n        </div>\n    </div>\n    \n    <div class=\"ipyplot-placeholder-div-jKSe63nVJfqdFF95x2aSTL\">\n        <div id=\"ipyplot-content-div-jKSe63nVJfqdFF95x2aSTL-PeTUBEm4BFHzG7btAR3tYa\" class=\"ipyplot-content-div-jKSe63nVJfqdFF95x2aSTL\">\n            <h4 style=\"font-size: 12px; word-wrap: break-word;\">['beach' 'beautiful' 'beauty' 'black' 'bored' 'boyfriend' 'cake' 'cute'\n 'dog' 'family']</h4>\n            <h4 style=\"font-size: 9px; padding-left: 10px; padding-right: 10px; width: 95%; word-wrap: break-word; white-space: normal;\">../HARRISON/images/dog_image_1067.jpg</h4><img src=\"../HARRISON/images/dog_image_1067.jpg\"/>\n            <a href=\"#!\">\n                <span class=\"ipyplot-img-close\"/>\n            </a>\n            <a href=\"#ipyplot-content-div-jKSe63nVJfqdFF95x2aSTL-PeTUBEm4BFHzG7btAR3tYa\">\n                <span class=\"ipyplot-img-expand\"/>\n            </a>\n        </div>\n    </div>\n    \n    <div class=\"ipyplot-placeholder-div-jKSe63nVJfqdFF95x2aSTL\">\n        <div id=\"ipyplot-content-div-jKSe63nVJfqdFF95x2aSTL-NRPfoLBqXycxhjmQqPapDf\" class=\"ipyplot-content-div-jKSe63nVJfqdFF95x2aSTL\">\n            <h4 style=\"font-size: 12px; word-wrap: break-word;\">['beach' 'beautiful' 'black' 'bored' 'family' 'fashion' 'friend' 'girl'\n 'happy' 'love']</h4>\n            <h4 style=\"font-size: 9px; padding-left: 10px; padding-right: 10px; width: 95%; word-wrap: break-word; white-space: normal;\">../HARRISON/images/family_image_2692.jpg</h4><img src=\"../HARRISON/images/family_image_2692.jpg\"/>\n            <a href=\"#!\">\n                <span class=\"ipyplot-img-close\"/>\n            </a>\n            <a href=\"#ipyplot-content-div-jKSe63nVJfqdFF95x2aSTL-NRPfoLBqXycxhjmQqPapDf\">\n                <span class=\"ipyplot-img-expand\"/>\n            </a>\n        </div>\n    </div>\n    \n    <div class=\"ipyplot-placeholder-div-jKSe63nVJfqdFF95x2aSTL\">\n        <div id=\"ipyplot-content-div-jKSe63nVJfqdFF95x2aSTL-UHFRfYXzpG9ct3baKautUt\" class=\"ipyplot-content-div-jKSe63nVJfqdFF95x2aSTL\">\n            <h4 style=\"font-size: 12px; word-wrap: break-word;\">['beach' 'black' 'family' 'fashion' 'friend' 'girl' 'love' 'nike']</h4>\n            <h4 style=\"font-size: 9px; padding-left: 10px; padding-right: 10px; width: 95%; word-wrap: break-word; white-space: normal;\">../HARRISON/images/boyfriend_image_2324.jpg</h4><img src=\"../HARRISON/images/boyfriend_image_2324.jpg\"/>\n            <a href=\"#!\">\n                <span class=\"ipyplot-img-close\"/>\n            </a>\n            <a href=\"#ipyplot-content-div-jKSe63nVJfqdFF95x2aSTL-UHFRfYXzpG9ct3baKautUt\">\n                <span class=\"ipyplot-img-expand\"/>\n            </a>\n        </div>\n    </div>\n    \n    <div class=\"ipyplot-placeholder-div-jKSe63nVJfqdFF95x2aSTL\">\n        <div id=\"ipyplot-content-div-jKSe63nVJfqdFF95x2aSTL-hvHBSH4A8ii8HNSjHqPTcu\" class=\"ipyplot-content-div-jKSe63nVJfqdFF95x2aSTL\">\n            <h4 style=\"font-size: 12px; word-wrap: break-word;\">['black' 'family' 'fashion' 'friend' 'girl' 'happy' 'love' 'model' 'nike'\n 'school']</h4>\n            <h4 style=\"font-size: 9px; padding-left: 10px; padding-right: 10px; width: 95%; word-wrap: break-word; white-space: normal;\">../HARRISON/images/friends_image_3652.jpg</h4><img src=\"../HARRISON/images/friends_image_3652.jpg\"/>\n            <a href=\"#!\">\n                <span class=\"ipyplot-img-close\"/>\n            </a>\n            <a href=\"#ipyplot-content-div-jKSe63nVJfqdFF95x2aSTL-hvHBSH4A8ii8HNSjHqPTcu\">\n                <span class=\"ipyplot-img-expand\"/>\n            </a>\n        </div>\n    </div>\n    \n    <div class=\"ipyplot-placeholder-div-jKSe63nVJfqdFF95x2aSTL\">\n        <div id=\"ipyplot-content-div-jKSe63nVJfqdFF95x2aSTL-S5cbnUcu73CPUBRfYK74vv\" class=\"ipyplot-content-div-jKSe63nVJfqdFF95x2aSTL\">\n            <h4 style=\"font-size: 12px; word-wrap: break-word;\">['beautiful' 'black' 'bored' 'boyfriend' 'cake' 'family' 'fashion'\n 'friday' 'friend' 'girl']</h4>\n            <h4 style=\"font-size: 9px; padding-left: 10px; padding-right: 10px; width: 95%; word-wrap: break-word; white-space: normal;\">../HARRISON/images/instafood_image_1064.jpg</h4><img src=\"../HARRISON/images/instafood_image_1064.jpg\"/>\n            <a href=\"#!\">\n                <span class=\"ipyplot-img-close\"/>\n            </a>\n            <a href=\"#ipyplot-content-div-jKSe63nVJfqdFF95x2aSTL-S5cbnUcu73CPUBRfYK74vv\">\n                <span class=\"ipyplot-img-expand\"/>\n            </a>\n        </div>\n    </div>\n    \n    <div class=\"ipyplot-placeholder-div-jKSe63nVJfqdFF95x2aSTL\">\n        <div id=\"ipyplot-content-div-jKSe63nVJfqdFF95x2aSTL-i9SiaGnEEes5p3xYPPCVzb\" class=\"ipyplot-content-div-jKSe63nVJfqdFF95x2aSTL\">\n            <h4 style=\"font-size: 12px; word-wrap: break-word;\">['beach' 'beautiful' 'black' 'bored' 'family' 'fashion' 'friend' 'girl'\n 'goodtimes' 'happy']</h4>\n            <h4 style=\"font-size: 9px; padding-left: 10px; padding-right: 10px; width: 95%; word-wrap: break-word; white-space: normal;\">../HARRISON/images/friends_image_52.jpg</h4><img src=\"../HARRISON/images/friends_image_52.jpg\"/>\n            <a href=\"#!\">\n                <span class=\"ipyplot-img-close\"/>\n            </a>\n            <a href=\"#ipyplot-content-div-jKSe63nVJfqdFF95x2aSTL-i9SiaGnEEes5p3xYPPCVzb\">\n                <span class=\"ipyplot-img-expand\"/>\n            </a>\n        </div>\n    </div>\n    \n    <div class=\"ipyplot-placeholder-div-jKSe63nVJfqdFF95x2aSTL\">\n        <div id=\"ipyplot-content-div-jKSe63nVJfqdFF95x2aSTL-2Ctav8t5FUjcsxLoHwkUF6\" class=\"ipyplot-content-div-jKSe63nVJfqdFF95x2aSTL\">\n            <h4 style=\"font-size: 12px; word-wrap: break-word;\">['art' 'beach' 'beautiful' 'beauty' 'black' 'bored' 'boyfriend' 'cake'\n 'cool' 'cute']</h4>\n            <h4 style=\"font-size: 9px; padding-left: 10px; padding-right: 10px; width: 95%; word-wrap: break-word; white-space: normal;\">../HARRISON/images/cake_image_869.jpg</h4><img src=\"../HARRISON/images/cake_image_869.jpg\"/>\n            <a href=\"#!\">\n                <span class=\"ipyplot-img-close\"/>\n            </a>\n            <a href=\"#ipyplot-content-div-jKSe63nVJfqdFF95x2aSTL-2Ctav8t5FUjcsxLoHwkUF6\">\n                <span class=\"ipyplot-img-expand\"/>\n            </a>\n        </div>\n    </div>\n    \n    <div class=\"ipyplot-placeholder-div-jKSe63nVJfqdFF95x2aSTL\">\n        <div id=\"ipyplot-content-div-jKSe63nVJfqdFF95x2aSTL-Q5TNTX2D2FLgenYHpFkFVs\" class=\"ipyplot-content-div-jKSe63nVJfqdFF95x2aSTL\">\n            <h4 style=\"font-size: 12px; word-wrap: break-word;\">['beach' 'beautiful' 'beauty' 'black' 'bored' 'boyfriend' 'cake' 'cute'\n 'dog' 'drunk']</h4>\n            <h4 style=\"font-size: 9px; padding-left: 10px; padding-right: 10px; width: 95%; word-wrap: break-word; white-space: normal;\">../HARRISON/images/makeup_image_1294.jpg</h4><img src=\"../HARRISON/images/makeup_image_1294.jpg\"/>\n            <a href=\"#!\">\n                <span class=\"ipyplot-img-close\"/>\n            </a>\n            <a href=\"#ipyplot-content-div-jKSe63nVJfqdFF95x2aSTL-Q5TNTX2D2FLgenYHpFkFVs\">\n                <span class=\"ipyplot-img-expand\"/>\n            </a>\n        </div>\n    </div>\n    \n    <div class=\"ipyplot-placeholder-div-jKSe63nVJfqdFF95x2aSTL\">\n        <div id=\"ipyplot-content-div-jKSe63nVJfqdFF95x2aSTL-HdNf4vCG4rykNQUFfBL36x\" class=\"ipyplot-content-div-jKSe63nVJfqdFF95x2aSTL\">\n            <h4 style=\"font-size: 12px; word-wrap: break-word;\">['art' 'awesome' 'beach' 'beautiful' 'beauty' 'black' 'bored' 'boy'\n 'boyfriend' 'cake']</h4>\n            <h4 style=\"font-size: 9px; padding-left: 10px; padding-right: 10px; width: 95%; word-wrap: break-word; white-space: normal;\">../HARRISON/images/yellow_image_4941.jpg</h4><img src=\"../HARRISON/images/yellow_image_4941.jpg\"/>\n            <a href=\"#!\">\n                <span class=\"ipyplot-img-close\"/>\n            </a>\n            <a href=\"#ipyplot-content-div-jKSe63nVJfqdFF95x2aSTL-HdNf4vCG4rykNQUFfBL36x\">\n                <span class=\"ipyplot-img-expand\"/>\n            </a>\n        </div>\n    </div>\n    \n    <div class=\"ipyplot-placeholder-div-jKSe63nVJfqdFF95x2aSTL\">\n        <div id=\"ipyplot-content-div-jKSe63nVJfqdFF95x2aSTL-9mk5YMnTAXh5aqjoRgoPWA\" class=\"ipyplot-content-div-jKSe63nVJfqdFF95x2aSTL\">\n            <h4 style=\"font-size: 12px; word-wrap: break-word;\">['beautiful' 'black' 'bored' 'boyfriend' 'cake' 'cute' 'drunk' 'family'\n 'fashion' 'flower']</h4>\n            <h4 style=\"font-size: 9px; padding-left: 10px; padding-right: 10px; width: 95%; word-wrap: break-word; white-space: normal;\">../HARRISON/images/loveyou_image_690.jpg</h4><img src=\"../HARRISON/images/loveyou_image_690.jpg\"/>\n            <a href=\"#!\">\n                <span class=\"ipyplot-img-close\"/>\n            </a>\n            <a href=\"#ipyplot-content-div-jKSe63nVJfqdFF95x2aSTL-9mk5YMnTAXh5aqjoRgoPWA\">\n                <span class=\"ipyplot-img-expand\"/>\n            </a>\n        </div>\n    </div>\n    \n    <div class=\"ipyplot-placeholder-div-jKSe63nVJfqdFF95x2aSTL\">\n        <div id=\"ipyplot-content-div-jKSe63nVJfqdFF95x2aSTL-LRfjiekfmU2nndXYQWbSgB\" class=\"ipyplot-content-div-jKSe63nVJfqdFF95x2aSTL\">\n            <h4 style=\"font-size: 12px; word-wrap: break-word;\">['beach' 'black' 'family' 'fashion' 'friend' 'girl' 'happy' 'love' 'nike'\n 'school']</h4>\n            <h4 style=\"font-size: 9px; padding-left: 10px; padding-right: 10px; width: 95%; word-wrap: break-word; white-space: normal;\">../HARRISON/images/new_image_502.jpg</h4><img src=\"../HARRISON/images/new_image_502.jpg\"/>\n            <a href=\"#!\">\n                <span class=\"ipyplot-img-close\"/>\n            </a>\n            <a href=\"#ipyplot-content-div-jKSe63nVJfqdFF95x2aSTL-LRfjiekfmU2nndXYQWbSgB\">\n                <span class=\"ipyplot-img-expand\"/>\n            </a>\n        </div>\n    </div>\n    \n    <div class=\"ipyplot-placeholder-div-jKSe63nVJfqdFF95x2aSTL\">\n        <div id=\"ipyplot-content-div-jKSe63nVJfqdFF95x2aSTL-f3tp9dqVRuoNZyi8e8fc47\" class=\"ipyplot-content-div-jKSe63nVJfqdFF95x2aSTL\">\n            <h4 style=\"font-size: 12px; word-wrap: break-word;\">['beach' 'beautiful' 'black' 'bored' 'family' 'fashion' 'friend' 'girl'\n 'happy' 'home']</h4>\n            <h4 style=\"font-size: 9px; padding-left: 10px; padding-right: 10px; width: 95%; word-wrap: break-word; white-space: normal;\">../HARRISON/images/boy_image_1534.jpg</h4><img src=\"../HARRISON/images/boy_image_1534.jpg\"/>\n            <a href=\"#!\">\n                <span class=\"ipyplot-img-close\"/>\n            </a>\n            <a href=\"#ipyplot-content-div-jKSe63nVJfqdFF95x2aSTL-f3tp9dqVRuoNZyi8e8fc47\">\n                <span class=\"ipyplot-img-expand\"/>\n            </a>\n        </div>\n    </div>\n    \n    <div class=\"ipyplot-placeholder-div-jKSe63nVJfqdFF95x2aSTL\">\n        <div id=\"ipyplot-content-div-jKSe63nVJfqdFF95x2aSTL-cSjLChktyvhe7X35MZiyQC\" class=\"ipyplot-content-div-jKSe63nVJfqdFF95x2aSTL\">\n            <h4 style=\"font-size: 12px; word-wrap: break-word;\">['beach' 'beautiful' 'black' 'bored' 'family' 'fashion' 'friend' 'girl'\n 'goodtimes' 'green']</h4>\n            <h4 style=\"font-size: 9px; padding-left: 10px; padding-right: 10px; width: 95%; word-wrap: break-word; white-space: normal;\">../HARRISON/images/beach_image_2132.jpg</h4><img src=\"../HARRISON/images/beach_image_2132.jpg\"/>\n            <a href=\"#!\">\n                <span class=\"ipyplot-img-close\"/>\n            </a>\n            <a href=\"#ipyplot-content-div-jKSe63nVJfqdFF95x2aSTL-cSjLChktyvhe7X35MZiyQC\">\n                <span class=\"ipyplot-img-expand\"/>\n            </a>\n        </div>\n    </div>\n    \n    <div class=\"ipyplot-placeholder-div-jKSe63nVJfqdFF95x2aSTL\">\n        <div id=\"ipyplot-content-div-jKSe63nVJfqdFF95x2aSTL-DesSvvMjsvqvWvWhptScaT\" class=\"ipyplot-content-div-jKSe63nVJfqdFF95x2aSTL\">\n            <h4 style=\"font-size: 12px; word-wrap: break-word;\">['beach' 'beautiful' 'black' 'cake' 'family' 'fashion' 'flower' 'friend'\n 'funny' 'girl']</h4>\n            <h4 style=\"font-size: 9px; padding-left: 10px; padding-right: 10px; width: 95%; word-wrap: break-word; white-space: normal;\">../HARRISON/images/school_image_1967.jpg</h4><img src=\"../HARRISON/images/school_image_1967.jpg\"/>\n            <a href=\"#!\">\n                <span class=\"ipyplot-img-close\"/>\n            </a>\n            <a href=\"#ipyplot-content-div-jKSe63nVJfqdFF95x2aSTL-DesSvvMjsvqvWvWhptScaT\">\n                <span class=\"ipyplot-img-expand\"/>\n            </a>\n        </div>\n    </div>\n    \n    <div class=\"ipyplot-placeholder-div-jKSe63nVJfqdFF95x2aSTL\">\n        <div id=\"ipyplot-content-div-jKSe63nVJfqdFF95x2aSTL-UgMMo4fk7NsxQvhRGZ2gsw\" class=\"ipyplot-content-div-jKSe63nVJfqdFF95x2aSTL\">\n            <h4 style=\"font-size: 12px; word-wrap: break-word;\">['beach' 'beautiful' 'black' 'bored' 'family' 'fashion' 'friend' 'girl'\n 'happy' 'love']</h4>\n            <h4 style=\"font-size: 9px; padding-left: 10px; padding-right: 10px; width: 95%; word-wrap: break-word; white-space: normal;\">../HARRISON/images/green_image_1251.jpg</h4><img src=\"../HARRISON/images/green_image_1251.jpg\"/>\n            <a href=\"#!\">\n                <span class=\"ipyplot-img-close\"/>\n            </a>\n            <a href=\"#ipyplot-content-div-jKSe63nVJfqdFF95x2aSTL-UgMMo4fk7NsxQvhRGZ2gsw\">\n                <span class=\"ipyplot-img-expand\"/>\n            </a>\n        </div>\n    </div>\n    \n    <div class=\"ipyplot-placeholder-div-jKSe63nVJfqdFF95x2aSTL\">\n        <div id=\"ipyplot-content-div-jKSe63nVJfqdFF95x2aSTL-hoLDDLoCVSmeFVepxY6htz\" class=\"ipyplot-content-div-jKSe63nVJfqdFF95x2aSTL\">\n            <h4 style=\"font-size: 12px; word-wrap: break-word;\">['amazing' 'art' 'awesome' 'beach' 'beautiful' 'beauty' 'black' 'bored'\n 'boy' 'boyfriend']</h4>\n            <h4 style=\"font-size: 9px; padding-left: 10px; padding-right: 10px; width: 95%; word-wrap: break-word; white-space: normal;\">../HARRISON/images/yellow_image_3363.jpg</h4><img src=\"../HARRISON/images/yellow_image_3363.jpg\"/>\n            <a href=\"#!\">\n                <span class=\"ipyplot-img-close\"/>\n            </a>\n            <a href=\"#ipyplot-content-div-jKSe63nVJfqdFF95x2aSTL-hoLDDLoCVSmeFVepxY6htz\">\n                <span class=\"ipyplot-img-expand\"/>\n            </a>\n        </div>\n    </div>\n    \n    <div class=\"ipyplot-placeholder-div-jKSe63nVJfqdFF95x2aSTL\">\n        <div id=\"ipyplot-content-div-jKSe63nVJfqdFF95x2aSTL-JduwYmfdSrj62G6tRGwm9Q\" class=\"ipyplot-content-div-jKSe63nVJfqdFF95x2aSTL\">\n            <h4 style=\"font-size: 12px; word-wrap: break-word;\">['beautiful' 'black' 'bored' 'boyfriend' 'drunk' 'family' 'fashion'\n 'friday' 'friend' 'girl']</h4>\n            <h4 style=\"font-size: 9px; padding-left: 10px; padding-right: 10px; width: 95%; word-wrap: break-word; white-space: normal;\">../HARRISON/images/tired_image_4059.jpg</h4><img src=\"../HARRISON/images/tired_image_4059.jpg\"/>\n            <a href=\"#!\">\n                <span class=\"ipyplot-img-close\"/>\n            </a>\n            <a href=\"#ipyplot-content-div-jKSe63nVJfqdFF95x2aSTL-JduwYmfdSrj62G6tRGwm9Q\">\n                <span class=\"ipyplot-img-expand\"/>\n            </a>\n        </div>\n    </div>\n    \n    <div class=\"ipyplot-placeholder-div-jKSe63nVJfqdFF95x2aSTL\">\n        <div id=\"ipyplot-content-div-jKSe63nVJfqdFF95x2aSTL-6isLMjCoigMbQPGxN8GYHQ\" class=\"ipyplot-content-div-jKSe63nVJfqdFF95x2aSTL\">\n            <h4 style=\"font-size: 12px; word-wrap: break-word;\">['amazing' 'art' 'awesome' 'beach' 'beautiful' 'beauty' 'black'\n 'blackandwhite' 'blue' 'bored']</h4>\n            <h4 style=\"font-size: 9px; padding-left: 10px; padding-right: 10px; width: 95%; word-wrap: break-word; white-space: normal;\">../HARRISON/images/cool_image_2243.jpg</h4><img src=\"../HARRISON/images/cool_image_2243.jpg\"/>\n            <a href=\"#!\">\n                <span class=\"ipyplot-img-close\"/>\n            </a>\n            <a href=\"#ipyplot-content-div-jKSe63nVJfqdFF95x2aSTL-6isLMjCoigMbQPGxN8GYHQ\">\n                <span class=\"ipyplot-img-expand\"/>\n            </a>\n        </div>\n    </div>\n    \n    <div class=\"ipyplot-placeholder-div-jKSe63nVJfqdFF95x2aSTL\">\n        <div id=\"ipyplot-content-div-jKSe63nVJfqdFF95x2aSTL-kkppdntnhZcDCZzfdSK5Mj\" class=\"ipyplot-content-div-jKSe63nVJfqdFF95x2aSTL\">\n            <h4 style=\"font-size: 12px; word-wrap: break-word;\">['beach' 'beautiful' 'beauty' 'black' 'bored' 'boyfriend' 'cake' 'dog'\n 'family' 'fashion']</h4>\n            <h4 style=\"font-size: 9px; padding-left: 10px; padding-right: 10px; width: 95%; word-wrap: break-word; white-space: normal;\">../HARRISON/images/friends_image_2681.jpg</h4><img src=\"../HARRISON/images/friends_image_2681.jpg\"/>\n            <a href=\"#!\">\n                <span class=\"ipyplot-img-close\"/>\n            </a>\n            <a href=\"#ipyplot-content-div-jKSe63nVJfqdFF95x2aSTL-kkppdntnhZcDCZzfdSK5Mj\">\n                <span class=\"ipyplot-img-expand\"/>\n            </a>\n        </div>\n    </div>\n    \n    <div class=\"ipyplot-placeholder-div-jKSe63nVJfqdFF95x2aSTL\">\n        <div id=\"ipyplot-content-div-jKSe63nVJfqdFF95x2aSTL-KFgghcVkP7SfFfpN8X4VZL\" class=\"ipyplot-content-div-jKSe63nVJfqdFF95x2aSTL\">\n            <h4 style=\"font-size: 12px; word-wrap: break-word;\">['black' 'family' 'fashion' 'flower' 'friend' 'girl' 'love' 'school'\n 'truth' 'yellow']</h4>\n            <h4 style=\"font-size: 9px; padding-left: 10px; padding-right: 10px; width: 95%; word-wrap: break-word; white-space: normal;\">../HARRISON/images/yellow_image_1682.jpg</h4><img src=\"../HARRISON/images/yellow_image_1682.jpg\"/>\n            <a href=\"#!\">\n                <span class=\"ipyplot-img-close\"/>\n            </a>\n            <a href=\"#ipyplot-content-div-jKSe63nVJfqdFF95x2aSTL-KFgghcVkP7SfFfpN8X4VZL\">\n                <span class=\"ipyplot-img-expand\"/>\n            </a>\n        </div>\n    </div>\n    \n    <div class=\"ipyplot-placeholder-div-jKSe63nVJfqdFF95x2aSTL\">\n        <div id=\"ipyplot-content-div-jKSe63nVJfqdFF95x2aSTL-aw42dYqnMkH9i9gdTnyuGN\" class=\"ipyplot-content-div-jKSe63nVJfqdFF95x2aSTL\">\n            <h4 style=\"font-size: 12px; word-wrap: break-word;\">['cake' 'family' 'fashion' 'flower' 'food' 'friend' 'girl' 'green' 'happy'\n 'home']</h4>\n            <h4 style=\"font-size: 9px; padding-left: 10px; padding-right: 10px; width: 95%; word-wrap: break-word; white-space: normal;\">../HARRISON/images/cake_image_590.jpg</h4><img src=\"../HARRISON/images/cake_image_590.jpg\"/>\n            <a href=\"#!\">\n                <span class=\"ipyplot-img-close\"/>\n            </a>\n            <a href=\"#ipyplot-content-div-jKSe63nVJfqdFF95x2aSTL-aw42dYqnMkH9i9gdTnyuGN\">\n                <span class=\"ipyplot-img-expand\"/>\n            </a>\n        </div>\n    </div>\n    \n    <div class=\"ipyplot-placeholder-div-jKSe63nVJfqdFF95x2aSTL\">\n        <div id=\"ipyplot-content-div-jKSe63nVJfqdFF95x2aSTL-mLPNQzHiLA9ZM63f97yEpp\" class=\"ipyplot-content-div-jKSe63nVJfqdFF95x2aSTL\">\n            <h4 style=\"font-size: 12px; word-wrap: break-word;\">['beach' 'beautiful' 'black' 'bored' 'cake' 'family' 'fashion' 'flower'\n 'friend' 'girl']</h4>\n            <h4 style=\"font-size: 9px; padding-left: 10px; padding-right: 10px; width: 95%; word-wrap: break-word; white-space: normal;\">../HARRISON/images/yellow_image_4057.jpg</h4><img src=\"../HARRISON/images/yellow_image_4057.jpg\"/>\n            <a href=\"#!\">\n                <span class=\"ipyplot-img-close\"/>\n            </a>\n            <a href=\"#ipyplot-content-div-jKSe63nVJfqdFF95x2aSTL-mLPNQzHiLA9ZM63f97yEpp\">\n                <span class=\"ipyplot-img-expand\"/>\n            </a>\n        </div>\n    </div>\n    \n    <div class=\"ipyplot-placeholder-div-jKSe63nVJfqdFF95x2aSTL\">\n        <div id=\"ipyplot-content-div-jKSe63nVJfqdFF95x2aSTL-NUyim9arAmKEd7r8TreNiE\" class=\"ipyplot-content-div-jKSe63nVJfqdFF95x2aSTL\">\n            <h4 style=\"font-size: 12px; word-wrap: break-word;\">['beautiful' 'bored' 'boyfriend' 'cake' 'cute' 'family' 'fashion' 'food'\n 'friday' 'friend']</h4>\n            <h4 style=\"font-size: 9px; padding-left: 10px; padding-right: 10px; width: 95%; word-wrap: break-word; white-space: normal;\">../HARRISON/images/drunk_image_1397.jpg</h4><img src=\"../HARRISON/images/drunk_image_1397.jpg\"/>\n            <a href=\"#!\">\n                <span class=\"ipyplot-img-close\"/>\n            </a>\n            <a href=\"#ipyplot-content-div-jKSe63nVJfqdFF95x2aSTL-NUyim9arAmKEd7r8TreNiE\">\n                <span class=\"ipyplot-img-expand\"/>\n            </a>\n        </div>\n    </div>\n    \n    <div class=\"ipyplot-placeholder-div-jKSe63nVJfqdFF95x2aSTL\">\n        <div id=\"ipyplot-content-div-jKSe63nVJfqdFF95x2aSTL-Qixnz5ZiQGgLFjkDaE9nT8\" class=\"ipyplot-content-div-jKSe63nVJfqdFF95x2aSTL\">\n            <h4 style=\"font-size: 12px; word-wrap: break-word;\">['art' 'beach' 'beautiful' 'beauty' 'black' 'blue' 'bored' 'boy'\n 'boyfriend' 'cake']</h4>\n            <h4 style=\"font-size: 9px; padding-left: 10px; padding-right: 10px; width: 95%; word-wrap: break-word; white-space: normal;\">../HARRISON/images/awesome_image_270.jpg</h4><img src=\"../HARRISON/images/awesome_image_270.jpg\"/>\n            <a href=\"#!\">\n                <span class=\"ipyplot-img-close\"/>\n            </a>\n            <a href=\"#ipyplot-content-div-jKSe63nVJfqdFF95x2aSTL-Qixnz5ZiQGgLFjkDaE9nT8\">\n                <span class=\"ipyplot-img-expand\"/>\n            </a>\n        </div>\n    </div>\n    \n    <div class=\"ipyplot-placeholder-div-jKSe63nVJfqdFF95x2aSTL\">\n        <div id=\"ipyplot-content-div-jKSe63nVJfqdFF95x2aSTL-FEDshRJBabaWx67QU5DKRB\" class=\"ipyplot-content-div-jKSe63nVJfqdFF95x2aSTL\">\n            <h4 style=\"font-size: 12px; word-wrap: break-word;\">['amazing' 'art' 'awesome' 'beach' 'beautiful' 'beauty' 'black' 'blue'\n 'bored' 'boy']</h4>\n            <h4 style=\"font-size: 9px; padding-left: 10px; padding-right: 10px; width: 95%; word-wrap: break-word; white-space: normal;\">../HARRISON/images/model_image_2664.jpg</h4><img src=\"../HARRISON/images/model_image_2664.jpg\"/>\n            <a href=\"#!\">\n                <span class=\"ipyplot-img-close\"/>\n            </a>\n            <a href=\"#ipyplot-content-div-jKSe63nVJfqdFF95x2aSTL-FEDshRJBabaWx67QU5DKRB\">\n                <span class=\"ipyplot-img-expand\"/>\n            </a>\n        </div>\n    </div>\n    \n    <div class=\"ipyplot-placeholder-div-jKSe63nVJfqdFF95x2aSTL\">\n        <div id=\"ipyplot-content-div-jKSe63nVJfqdFF95x2aSTL-8HVERrnXtJbkjXkCbDQf8i\" class=\"ipyplot-content-div-jKSe63nVJfqdFF95x2aSTL\">\n            <h4 style=\"font-size: 12px; word-wrap: break-word;\">['beautiful' 'black' 'bored' 'boyfriend' 'cake' 'cute' 'dog' 'family'\n 'fashion' 'flower']</h4>\n            <h4 style=\"font-size: 9px; padding-left: 10px; padding-right: 10px; width: 95%; word-wrap: break-word; white-space: normal;\">../HARRISON/images/fashion_image_289.jpg</h4><img src=\"../HARRISON/images/fashion_image_289.jpg\"/>\n            <a href=\"#!\">\n                <span class=\"ipyplot-img-close\"/>\n            </a>\n            <a href=\"#ipyplot-content-div-jKSe63nVJfqdFF95x2aSTL-8HVERrnXtJbkjXkCbDQf8i\">\n                <span class=\"ipyplot-img-expand\"/>\n            </a>\n        </div>\n    </div>\n    \n    <div class=\"ipyplot-placeholder-div-jKSe63nVJfqdFF95x2aSTL\">\n        <div id=\"ipyplot-content-div-jKSe63nVJfqdFF95x2aSTL-afwDVKSevDuw4wCCLQM3Bp\" class=\"ipyplot-content-div-jKSe63nVJfqdFF95x2aSTL\">\n            <h4 style=\"font-size: 12px; word-wrap: break-word;\">['black' 'family' 'fashion' 'friend' 'girl' 'happy' 'love' 'model' 'nike'\n 'school']</h4>\n            <h4 style=\"font-size: 9px; padding-left: 10px; padding-right: 10px; width: 95%; word-wrap: break-word; white-space: normal;\">../HARRISON/images/instafood_image_2029.jpg</h4><img src=\"../HARRISON/images/instafood_image_2029.jpg\"/>\n            <a href=\"#!\">\n                <span class=\"ipyplot-img-close\"/>\n            </a>\n            <a href=\"#ipyplot-content-div-jKSe63nVJfqdFF95x2aSTL-afwDVKSevDuw4wCCLQM3Bp\">\n                <span class=\"ipyplot-img-expand\"/>\n            </a>\n        </div>\n    </div>\n    </div>\n        </textarea>\n    </div>\n    "
     },
     "metadata": {}
    },
    {
     "output_type": "display_data",
     "data": {
      "text/plain": "<IPython.core.display.HTML object>",
      "text/html": "\n        <style>\n        #ipyplot-imgs-container-div-jKSe63nVJfqdFF95x2aSTL {\n            width: 100%;\n            height: 100%;\n            margin: 0%;\n            overflow: auto;\n            position: relative;\n            overflow-y: scroll;\n        }\n\n        div.ipyplot-placeholder-div-jKSe63nVJfqdFF95x2aSTL {\n            width: 150px;\n            display: inline-block;\n            margin: 3px;\n            position: relative;\n        }\n\n        div.ipyplot-content-div-jKSe63nVJfqdFF95x2aSTL {\n            width: 150px;\n            background: white;\n            display: inline-block;\n            vertical-align: top;\n            text-align: center;\n            position: relative;\n            border: 2px solid #ddd;\n            top: 0;\n            left: 0;\n        }\n\n        div.ipyplot-content-div-jKSe63nVJfqdFF95x2aSTL span.ipyplot-img-close {\n            display: none;\n        }\n\n        div.ipyplot-content-div-jKSe63nVJfqdFF95x2aSTL span {\n            width: 100%;\n            height: 100%;\n            position: absolute;\n            top: 0;\n            left: 0;\n        }\n\n        div.ipyplot-content-div-jKSe63nVJfqdFF95x2aSTL img {\n            width: 150px;\n        }\n\n        div.ipyplot-content-div-jKSe63nVJfqdFF95x2aSTL span.ipyplot-img-close:hover {\n            cursor: zoom-out;\n        }\n        div.ipyplot-content-div-jKSe63nVJfqdFF95x2aSTL span.ipyplot-img-expand:hover {\n            cursor: zoom-in;\n        }\n\n        div[id^=ipyplot-content-div-jKSe63nVJfqdFF95x2aSTL]:target {\n            transform: scale(2.5);\n            transform-origin: left top;\n            z-index: 5000;\n            top: 0;\n            left: 0;\n            position: absolute;\n        }\n\n        div[id^=ipyplot-content-div-jKSe63nVJfqdFF95x2aSTL]:target span.ipyplot-img-close {\n            display: block;\n        }\n\n        div[id^=ipyplot-content-div-jKSe63nVJfqdFF95x2aSTL]:target span.ipyplot-img-expand {\n            display: none;\n        }\n        </style>\n    <div id=\"ipyplot-imgs-container-div-jKSe63nVJfqdFF95x2aSTL\">\n    <div class=\"ipyplot-placeholder-div-jKSe63nVJfqdFF95x2aSTL\">\n        <div id=\"ipyplot-content-div-jKSe63nVJfqdFF95x2aSTL-JhExLtJmVWQGi6trh5guS2\" class=\"ipyplot-content-div-jKSe63nVJfqdFF95x2aSTL\">\n            <h4 style=\"font-size: 12px; word-wrap: break-word;\">['black' 'family' 'fashion' 'friend' 'girl' 'love' 'nike' 'school' 'truth'\n 'yellow']</h4>\n            <h4 style=\"font-size: 9px; padding-left: 10px; padding-right: 10px; width: 95%; word-wrap: break-word; white-space: normal;\">../HARRISON/images/justinbieber_image_1127.jpg</h4><img src=\"../HARRISON/images/justinbieber_image_1127.jpg\"/>\n            <a href=\"#!\">\n                <span class=\"ipyplot-img-close\"/>\n            </a>\n            <a href=\"#ipyplot-content-div-jKSe63nVJfqdFF95x2aSTL-JhExLtJmVWQGi6trh5guS2\">\n                <span class=\"ipyplot-img-expand\"/>\n            </a>\n        </div>\n    </div>\n    \n    <div class=\"ipyplot-placeholder-div-jKSe63nVJfqdFF95x2aSTL\">\n        <div id=\"ipyplot-content-div-jKSe63nVJfqdFF95x2aSTL-h98gTsaSJuFiVD9acEvme8\" class=\"ipyplot-content-div-jKSe63nVJfqdFF95x2aSTL\">\n            <h4 style=\"font-size: 12px; word-wrap: break-word;\">['beach' 'beautiful' 'black' 'bored' 'family' 'fashion' 'friend' 'girl'\n 'happy' 'love']</h4>\n            <h4 style=\"font-size: 9px; padding-left: 10px; padding-right: 10px; width: 95%; word-wrap: break-word; white-space: normal;\">../HARRISON/images/makeup_image_696.jpg</h4><img src=\"../HARRISON/images/makeup_image_696.jpg\"/>\n            <a href=\"#!\">\n                <span class=\"ipyplot-img-close\"/>\n            </a>\n            <a href=\"#ipyplot-content-div-jKSe63nVJfqdFF95x2aSTL-h98gTsaSJuFiVD9acEvme8\">\n                <span class=\"ipyplot-img-expand\"/>\n            </a>\n        </div>\n    </div>\n    \n    <div class=\"ipyplot-placeholder-div-jKSe63nVJfqdFF95x2aSTL\">\n        <div id=\"ipyplot-content-div-jKSe63nVJfqdFF95x2aSTL-RyvAemCiKzeXc59pFKHnsa\" class=\"ipyplot-content-div-jKSe63nVJfqdFF95x2aSTL\">\n            <h4 style=\"font-size: 12px; word-wrap: break-word;\">['beach' 'beautiful' 'black' 'family' 'fashion' 'friend' 'girl' 'happy'\n 'instafood' 'love']</h4>\n            <h4 style=\"font-size: 9px; padding-left: 10px; padding-right: 10px; width: 95%; word-wrap: break-word; white-space: normal;\">../HARRISON/images/truth_image_2843.jpg</h4><img src=\"../HARRISON/images/truth_image_2843.jpg\"/>\n            <a href=\"#!\">\n                <span class=\"ipyplot-img-close\"/>\n            </a>\n            <a href=\"#ipyplot-content-div-jKSe63nVJfqdFF95x2aSTL-RyvAemCiKzeXc59pFKHnsa\">\n                <span class=\"ipyplot-img-expand\"/>\n            </a>\n        </div>\n    </div>\n    \n    <div class=\"ipyplot-placeholder-div-jKSe63nVJfqdFF95x2aSTL\">\n        <div id=\"ipyplot-content-div-jKSe63nVJfqdFF95x2aSTL-PeTUBEm4BFHzG7btAR3tYa\" class=\"ipyplot-content-div-jKSe63nVJfqdFF95x2aSTL\">\n            <h4 style=\"font-size: 12px; word-wrap: break-word;\">['beach' 'beautiful' 'beauty' 'black' 'bored' 'boyfriend' 'cake' 'cute'\n 'dog' 'family']</h4>\n            <h4 style=\"font-size: 9px; padding-left: 10px; padding-right: 10px; width: 95%; word-wrap: break-word; white-space: normal;\">../HARRISON/images/dog_image_1067.jpg</h4><img src=\"../HARRISON/images/dog_image_1067.jpg\"/>\n            <a href=\"#!\">\n                <span class=\"ipyplot-img-close\"/>\n            </a>\n            <a href=\"#ipyplot-content-div-jKSe63nVJfqdFF95x2aSTL-PeTUBEm4BFHzG7btAR3tYa\">\n                <span class=\"ipyplot-img-expand\"/>\n            </a>\n        </div>\n    </div>\n    \n    <div class=\"ipyplot-placeholder-div-jKSe63nVJfqdFF95x2aSTL\">\n        <div id=\"ipyplot-content-div-jKSe63nVJfqdFF95x2aSTL-NRPfoLBqXycxhjmQqPapDf\" class=\"ipyplot-content-div-jKSe63nVJfqdFF95x2aSTL\">\n            <h4 style=\"font-size: 12px; word-wrap: break-word;\">['beach' 'beautiful' 'black' 'bored' 'family' 'fashion' 'friend' 'girl'\n 'happy' 'love']</h4>\n            <h4 style=\"font-size: 9px; padding-left: 10px; padding-right: 10px; width: 95%; word-wrap: break-word; white-space: normal;\">../HARRISON/images/family_image_2692.jpg</h4><img src=\"../HARRISON/images/family_image_2692.jpg\"/>\n            <a href=\"#!\">\n                <span class=\"ipyplot-img-close\"/>\n            </a>\n            <a href=\"#ipyplot-content-div-jKSe63nVJfqdFF95x2aSTL-NRPfoLBqXycxhjmQqPapDf\">\n                <span class=\"ipyplot-img-expand\"/>\n            </a>\n        </div>\n    </div>\n    \n    <div class=\"ipyplot-placeholder-div-jKSe63nVJfqdFF95x2aSTL\">\n        <div id=\"ipyplot-content-div-jKSe63nVJfqdFF95x2aSTL-UHFRfYXzpG9ct3baKautUt\" class=\"ipyplot-content-div-jKSe63nVJfqdFF95x2aSTL\">\n            <h4 style=\"font-size: 12px; word-wrap: break-word;\">['beach' 'black' 'family' 'fashion' 'friend' 'girl' 'love' 'nike']</h4>\n            <h4 style=\"font-size: 9px; padding-left: 10px; padding-right: 10px; width: 95%; word-wrap: break-word; white-space: normal;\">../HARRISON/images/boyfriend_image_2324.jpg</h4><img src=\"../HARRISON/images/boyfriend_image_2324.jpg\"/>\n            <a href=\"#!\">\n                <span class=\"ipyplot-img-close\"/>\n            </a>\n            <a href=\"#ipyplot-content-div-jKSe63nVJfqdFF95x2aSTL-UHFRfYXzpG9ct3baKautUt\">\n                <span class=\"ipyplot-img-expand\"/>\n            </a>\n        </div>\n    </div>\n    \n    <div class=\"ipyplot-placeholder-div-jKSe63nVJfqdFF95x2aSTL\">\n        <div id=\"ipyplot-content-div-jKSe63nVJfqdFF95x2aSTL-hvHBSH4A8ii8HNSjHqPTcu\" class=\"ipyplot-content-div-jKSe63nVJfqdFF95x2aSTL\">\n            <h4 style=\"font-size: 12px; word-wrap: break-word;\">['black' 'family' 'fashion' 'friend' 'girl' 'happy' 'love' 'model' 'nike'\n 'school']</h4>\n            <h4 style=\"font-size: 9px; padding-left: 10px; padding-right: 10px; width: 95%; word-wrap: break-word; white-space: normal;\">../HARRISON/images/friends_image_3652.jpg</h4><img src=\"../HARRISON/images/friends_image_3652.jpg\"/>\n            <a href=\"#!\">\n                <span class=\"ipyplot-img-close\"/>\n            </a>\n            <a href=\"#ipyplot-content-div-jKSe63nVJfqdFF95x2aSTL-hvHBSH4A8ii8HNSjHqPTcu\">\n                <span class=\"ipyplot-img-expand\"/>\n            </a>\n        </div>\n    </div>\n    \n    <div class=\"ipyplot-placeholder-div-jKSe63nVJfqdFF95x2aSTL\">\n        <div id=\"ipyplot-content-div-jKSe63nVJfqdFF95x2aSTL-S5cbnUcu73CPUBRfYK74vv\" class=\"ipyplot-content-div-jKSe63nVJfqdFF95x2aSTL\">\n            <h4 style=\"font-size: 12px; word-wrap: break-word;\">['beautiful' 'black' 'bored' 'boyfriend' 'cake' 'family' 'fashion'\n 'friday' 'friend' 'girl']</h4>\n            <h4 style=\"font-size: 9px; padding-left: 10px; padding-right: 10px; width: 95%; word-wrap: break-word; white-space: normal;\">../HARRISON/images/instafood_image_1064.jpg</h4><img src=\"../HARRISON/images/instafood_image_1064.jpg\"/>\n            <a href=\"#!\">\n                <span class=\"ipyplot-img-close\"/>\n            </a>\n            <a href=\"#ipyplot-content-div-jKSe63nVJfqdFF95x2aSTL-S5cbnUcu73CPUBRfYK74vv\">\n                <span class=\"ipyplot-img-expand\"/>\n            </a>\n        </div>\n    </div>\n    \n    <div class=\"ipyplot-placeholder-div-jKSe63nVJfqdFF95x2aSTL\">\n        <div id=\"ipyplot-content-div-jKSe63nVJfqdFF95x2aSTL-i9SiaGnEEes5p3xYPPCVzb\" class=\"ipyplot-content-div-jKSe63nVJfqdFF95x2aSTL\">\n            <h4 style=\"font-size: 12px; word-wrap: break-word;\">['beach' 'beautiful' 'black' 'bored' 'family' 'fashion' 'friend' 'girl'\n 'goodtimes' 'happy']</h4>\n            <h4 style=\"font-size: 9px; padding-left: 10px; padding-right: 10px; width: 95%; word-wrap: break-word; white-space: normal;\">../HARRISON/images/friends_image_52.jpg</h4><img src=\"../HARRISON/images/friends_image_52.jpg\"/>\n            <a href=\"#!\">\n                <span class=\"ipyplot-img-close\"/>\n            </a>\n            <a href=\"#ipyplot-content-div-jKSe63nVJfqdFF95x2aSTL-i9SiaGnEEes5p3xYPPCVzb\">\n                <span class=\"ipyplot-img-expand\"/>\n            </a>\n        </div>\n    </div>\n    \n    <div class=\"ipyplot-placeholder-div-jKSe63nVJfqdFF95x2aSTL\">\n        <div id=\"ipyplot-content-div-jKSe63nVJfqdFF95x2aSTL-2Ctav8t5FUjcsxLoHwkUF6\" class=\"ipyplot-content-div-jKSe63nVJfqdFF95x2aSTL\">\n            <h4 style=\"font-size: 12px; word-wrap: break-word;\">['art' 'beach' 'beautiful' 'beauty' 'black' 'bored' 'boyfriend' 'cake'\n 'cool' 'cute']</h4>\n            <h4 style=\"font-size: 9px; padding-left: 10px; padding-right: 10px; width: 95%; word-wrap: break-word; white-space: normal;\">../HARRISON/images/cake_image_869.jpg</h4><img src=\"../HARRISON/images/cake_image_869.jpg\"/>\n            <a href=\"#!\">\n                <span class=\"ipyplot-img-close\"/>\n            </a>\n            <a href=\"#ipyplot-content-div-jKSe63nVJfqdFF95x2aSTL-2Ctav8t5FUjcsxLoHwkUF6\">\n                <span class=\"ipyplot-img-expand\"/>\n            </a>\n        </div>\n    </div>\n    \n    <div class=\"ipyplot-placeholder-div-jKSe63nVJfqdFF95x2aSTL\">\n        <div id=\"ipyplot-content-div-jKSe63nVJfqdFF95x2aSTL-Q5TNTX2D2FLgenYHpFkFVs\" class=\"ipyplot-content-div-jKSe63nVJfqdFF95x2aSTL\">\n            <h4 style=\"font-size: 12px; word-wrap: break-word;\">['beach' 'beautiful' 'beauty' 'black' 'bored' 'boyfriend' 'cake' 'cute'\n 'dog' 'drunk']</h4>\n            <h4 style=\"font-size: 9px; padding-left: 10px; padding-right: 10px; width: 95%; word-wrap: break-word; white-space: normal;\">../HARRISON/images/makeup_image_1294.jpg</h4><img src=\"../HARRISON/images/makeup_image_1294.jpg\"/>\n            <a href=\"#!\">\n                <span class=\"ipyplot-img-close\"/>\n            </a>\n            <a href=\"#ipyplot-content-div-jKSe63nVJfqdFF95x2aSTL-Q5TNTX2D2FLgenYHpFkFVs\">\n                <span class=\"ipyplot-img-expand\"/>\n            </a>\n        </div>\n    </div>\n    \n    <div class=\"ipyplot-placeholder-div-jKSe63nVJfqdFF95x2aSTL\">\n        <div id=\"ipyplot-content-div-jKSe63nVJfqdFF95x2aSTL-HdNf4vCG4rykNQUFfBL36x\" class=\"ipyplot-content-div-jKSe63nVJfqdFF95x2aSTL\">\n            <h4 style=\"font-size: 12px; word-wrap: break-word;\">['art' 'awesome' 'beach' 'beautiful' 'beauty' 'black' 'bored' 'boy'\n 'boyfriend' 'cake']</h4>\n            <h4 style=\"font-size: 9px; padding-left: 10px; padding-right: 10px; width: 95%; word-wrap: break-word; white-space: normal;\">../HARRISON/images/yellow_image_4941.jpg</h4><img src=\"../HARRISON/images/yellow_image_4941.jpg\"/>\n            <a href=\"#!\">\n                <span class=\"ipyplot-img-close\"/>\n            </a>\n            <a href=\"#ipyplot-content-div-jKSe63nVJfqdFF95x2aSTL-HdNf4vCG4rykNQUFfBL36x\">\n                <span class=\"ipyplot-img-expand\"/>\n            </a>\n        </div>\n    </div>\n    \n    <div class=\"ipyplot-placeholder-div-jKSe63nVJfqdFF95x2aSTL\">\n        <div id=\"ipyplot-content-div-jKSe63nVJfqdFF95x2aSTL-9mk5YMnTAXh5aqjoRgoPWA\" class=\"ipyplot-content-div-jKSe63nVJfqdFF95x2aSTL\">\n            <h4 style=\"font-size: 12px; word-wrap: break-word;\">['beautiful' 'black' 'bored' 'boyfriend' 'cake' 'cute' 'drunk' 'family'\n 'fashion' 'flower']</h4>\n            <h4 style=\"font-size: 9px; padding-left: 10px; padding-right: 10px; width: 95%; word-wrap: break-word; white-space: normal;\">../HARRISON/images/loveyou_image_690.jpg</h4><img src=\"../HARRISON/images/loveyou_image_690.jpg\"/>\n            <a href=\"#!\">\n                <span class=\"ipyplot-img-close\"/>\n            </a>\n            <a href=\"#ipyplot-content-div-jKSe63nVJfqdFF95x2aSTL-9mk5YMnTAXh5aqjoRgoPWA\">\n                <span class=\"ipyplot-img-expand\"/>\n            </a>\n        </div>\n    </div>\n    \n    <div class=\"ipyplot-placeholder-div-jKSe63nVJfqdFF95x2aSTL\">\n        <div id=\"ipyplot-content-div-jKSe63nVJfqdFF95x2aSTL-LRfjiekfmU2nndXYQWbSgB\" class=\"ipyplot-content-div-jKSe63nVJfqdFF95x2aSTL\">\n            <h4 style=\"font-size: 12px; word-wrap: break-word;\">['beach' 'black' 'family' 'fashion' 'friend' 'girl' 'happy' 'love' 'nike'\n 'school']</h4>\n            <h4 style=\"font-size: 9px; padding-left: 10px; padding-right: 10px; width: 95%; word-wrap: break-word; white-space: normal;\">../HARRISON/images/new_image_502.jpg</h4><img src=\"../HARRISON/images/new_image_502.jpg\"/>\n            <a href=\"#!\">\n                <span class=\"ipyplot-img-close\"/>\n            </a>\n            <a href=\"#ipyplot-content-div-jKSe63nVJfqdFF95x2aSTL-LRfjiekfmU2nndXYQWbSgB\">\n                <span class=\"ipyplot-img-expand\"/>\n            </a>\n        </div>\n    </div>\n    \n    <div class=\"ipyplot-placeholder-div-jKSe63nVJfqdFF95x2aSTL\">\n        <div id=\"ipyplot-content-div-jKSe63nVJfqdFF95x2aSTL-f3tp9dqVRuoNZyi8e8fc47\" class=\"ipyplot-content-div-jKSe63nVJfqdFF95x2aSTL\">\n            <h4 style=\"font-size: 12px; word-wrap: break-word;\">['beach' 'beautiful' 'black' 'bored' 'family' 'fashion' 'friend' 'girl'\n 'happy' 'home']</h4>\n            <h4 style=\"font-size: 9px; padding-left: 10px; padding-right: 10px; width: 95%; word-wrap: break-word; white-space: normal;\">../HARRISON/images/boy_image_1534.jpg</h4><img src=\"../HARRISON/images/boy_image_1534.jpg\"/>\n            <a href=\"#!\">\n                <span class=\"ipyplot-img-close\"/>\n            </a>\n            <a href=\"#ipyplot-content-div-jKSe63nVJfqdFF95x2aSTL-f3tp9dqVRuoNZyi8e8fc47\">\n                <span class=\"ipyplot-img-expand\"/>\n            </a>\n        </div>\n    </div>\n    \n    <div class=\"ipyplot-placeholder-div-jKSe63nVJfqdFF95x2aSTL\">\n        <div id=\"ipyplot-content-div-jKSe63nVJfqdFF95x2aSTL-cSjLChktyvhe7X35MZiyQC\" class=\"ipyplot-content-div-jKSe63nVJfqdFF95x2aSTL\">\n            <h4 style=\"font-size: 12px; word-wrap: break-word;\">['beach' 'beautiful' 'black' 'bored' 'family' 'fashion' 'friend' 'girl'\n 'goodtimes' 'green']</h4>\n            <h4 style=\"font-size: 9px; padding-left: 10px; padding-right: 10px; width: 95%; word-wrap: break-word; white-space: normal;\">../HARRISON/images/beach_image_2132.jpg</h4><img src=\"../HARRISON/images/beach_image_2132.jpg\"/>\n            <a href=\"#!\">\n                <span class=\"ipyplot-img-close\"/>\n            </a>\n            <a href=\"#ipyplot-content-div-jKSe63nVJfqdFF95x2aSTL-cSjLChktyvhe7X35MZiyQC\">\n                <span class=\"ipyplot-img-expand\"/>\n            </a>\n        </div>\n    </div>\n    \n    <div class=\"ipyplot-placeholder-div-jKSe63nVJfqdFF95x2aSTL\">\n        <div id=\"ipyplot-content-div-jKSe63nVJfqdFF95x2aSTL-DesSvvMjsvqvWvWhptScaT\" class=\"ipyplot-content-div-jKSe63nVJfqdFF95x2aSTL\">\n            <h4 style=\"font-size: 12px; word-wrap: break-word;\">['beach' 'beautiful' 'black' 'cake' 'family' 'fashion' 'flower' 'friend'\n 'funny' 'girl']</h4>\n            <h4 style=\"font-size: 9px; padding-left: 10px; padding-right: 10px; width: 95%; word-wrap: break-word; white-space: normal;\">../HARRISON/images/school_image_1967.jpg</h4><img src=\"../HARRISON/images/school_image_1967.jpg\"/>\n            <a href=\"#!\">\n                <span class=\"ipyplot-img-close\"/>\n            </a>\n            <a href=\"#ipyplot-content-div-jKSe63nVJfqdFF95x2aSTL-DesSvvMjsvqvWvWhptScaT\">\n                <span class=\"ipyplot-img-expand\"/>\n            </a>\n        </div>\n    </div>\n    \n    <div class=\"ipyplot-placeholder-div-jKSe63nVJfqdFF95x2aSTL\">\n        <div id=\"ipyplot-content-div-jKSe63nVJfqdFF95x2aSTL-UgMMo4fk7NsxQvhRGZ2gsw\" class=\"ipyplot-content-div-jKSe63nVJfqdFF95x2aSTL\">\n            <h4 style=\"font-size: 12px; word-wrap: break-word;\">['beach' 'beautiful' 'black' 'bored' 'family' 'fashion' 'friend' 'girl'\n 'happy' 'love']</h4>\n            <h4 style=\"font-size: 9px; padding-left: 10px; padding-right: 10px; width: 95%; word-wrap: break-word; white-space: normal;\">../HARRISON/images/green_image_1251.jpg</h4><img src=\"../HARRISON/images/green_image_1251.jpg\"/>\n            <a href=\"#!\">\n                <span class=\"ipyplot-img-close\"/>\n            </a>\n            <a href=\"#ipyplot-content-div-jKSe63nVJfqdFF95x2aSTL-UgMMo4fk7NsxQvhRGZ2gsw\">\n                <span class=\"ipyplot-img-expand\"/>\n            </a>\n        </div>\n    </div>\n    \n    <div class=\"ipyplot-placeholder-div-jKSe63nVJfqdFF95x2aSTL\">\n        <div id=\"ipyplot-content-div-jKSe63nVJfqdFF95x2aSTL-hoLDDLoCVSmeFVepxY6htz\" class=\"ipyplot-content-div-jKSe63nVJfqdFF95x2aSTL\">\n            <h4 style=\"font-size: 12px; word-wrap: break-word;\">['amazing' 'art' 'awesome' 'beach' 'beautiful' 'beauty' 'black' 'bored'\n 'boy' 'boyfriend']</h4>\n            <h4 style=\"font-size: 9px; padding-left: 10px; padding-right: 10px; width: 95%; word-wrap: break-word; white-space: normal;\">../HARRISON/images/yellow_image_3363.jpg</h4><img src=\"../HARRISON/images/yellow_image_3363.jpg\"/>\n            <a href=\"#!\">\n                <span class=\"ipyplot-img-close\"/>\n            </a>\n            <a href=\"#ipyplot-content-div-jKSe63nVJfqdFF95x2aSTL-hoLDDLoCVSmeFVepxY6htz\">\n                <span class=\"ipyplot-img-expand\"/>\n            </a>\n        </div>\n    </div>\n    \n    <div class=\"ipyplot-placeholder-div-jKSe63nVJfqdFF95x2aSTL\">\n        <div id=\"ipyplot-content-div-jKSe63nVJfqdFF95x2aSTL-JduwYmfdSrj62G6tRGwm9Q\" class=\"ipyplot-content-div-jKSe63nVJfqdFF95x2aSTL\">\n            <h4 style=\"font-size: 12px; word-wrap: break-word;\">['beautiful' 'black' 'bored' 'boyfriend' 'drunk' 'family' 'fashion'\n 'friday' 'friend' 'girl']</h4>\n            <h4 style=\"font-size: 9px; padding-left: 10px; padding-right: 10px; width: 95%; word-wrap: break-word; white-space: normal;\">../HARRISON/images/tired_image_4059.jpg</h4><img src=\"../HARRISON/images/tired_image_4059.jpg\"/>\n            <a href=\"#!\">\n                <span class=\"ipyplot-img-close\"/>\n            </a>\n            <a href=\"#ipyplot-content-div-jKSe63nVJfqdFF95x2aSTL-JduwYmfdSrj62G6tRGwm9Q\">\n                <span class=\"ipyplot-img-expand\"/>\n            </a>\n        </div>\n    </div>\n    \n    <div class=\"ipyplot-placeholder-div-jKSe63nVJfqdFF95x2aSTL\">\n        <div id=\"ipyplot-content-div-jKSe63nVJfqdFF95x2aSTL-6isLMjCoigMbQPGxN8GYHQ\" class=\"ipyplot-content-div-jKSe63nVJfqdFF95x2aSTL\">\n            <h4 style=\"font-size: 12px; word-wrap: break-word;\">['amazing' 'art' 'awesome' 'beach' 'beautiful' 'beauty' 'black'\n 'blackandwhite' 'blue' 'bored']</h4>\n            <h4 style=\"font-size: 9px; padding-left: 10px; padding-right: 10px; width: 95%; word-wrap: break-word; white-space: normal;\">../HARRISON/images/cool_image_2243.jpg</h4><img src=\"../HARRISON/images/cool_image_2243.jpg\"/>\n            <a href=\"#!\">\n                <span class=\"ipyplot-img-close\"/>\n            </a>\n            <a href=\"#ipyplot-content-div-jKSe63nVJfqdFF95x2aSTL-6isLMjCoigMbQPGxN8GYHQ\">\n                <span class=\"ipyplot-img-expand\"/>\n            </a>\n        </div>\n    </div>\n    \n    <div class=\"ipyplot-placeholder-div-jKSe63nVJfqdFF95x2aSTL\">\n        <div id=\"ipyplot-content-div-jKSe63nVJfqdFF95x2aSTL-kkppdntnhZcDCZzfdSK5Mj\" class=\"ipyplot-content-div-jKSe63nVJfqdFF95x2aSTL\">\n            <h4 style=\"font-size: 12px; word-wrap: break-word;\">['beach' 'beautiful' 'beauty' 'black' 'bored' 'boyfriend' 'cake' 'dog'\n 'family' 'fashion']</h4>\n            <h4 style=\"font-size: 9px; padding-left: 10px; padding-right: 10px; width: 95%; word-wrap: break-word; white-space: normal;\">../HARRISON/images/friends_image_2681.jpg</h4><img src=\"../HARRISON/images/friends_image_2681.jpg\"/>\n            <a href=\"#!\">\n                <span class=\"ipyplot-img-close\"/>\n            </a>\n            <a href=\"#ipyplot-content-div-jKSe63nVJfqdFF95x2aSTL-kkppdntnhZcDCZzfdSK5Mj\">\n                <span class=\"ipyplot-img-expand\"/>\n            </a>\n        </div>\n    </div>\n    \n    <div class=\"ipyplot-placeholder-div-jKSe63nVJfqdFF95x2aSTL\">\n        <div id=\"ipyplot-content-div-jKSe63nVJfqdFF95x2aSTL-KFgghcVkP7SfFfpN8X4VZL\" class=\"ipyplot-content-div-jKSe63nVJfqdFF95x2aSTL\">\n            <h4 style=\"font-size: 12px; word-wrap: break-word;\">['black' 'family' 'fashion' 'flower' 'friend' 'girl' 'love' 'school'\n 'truth' 'yellow']</h4>\n            <h4 style=\"font-size: 9px; padding-left: 10px; padding-right: 10px; width: 95%; word-wrap: break-word; white-space: normal;\">../HARRISON/images/yellow_image_1682.jpg</h4><img src=\"../HARRISON/images/yellow_image_1682.jpg\"/>\n            <a href=\"#!\">\n                <span class=\"ipyplot-img-close\"/>\n            </a>\n            <a href=\"#ipyplot-content-div-jKSe63nVJfqdFF95x2aSTL-KFgghcVkP7SfFfpN8X4VZL\">\n                <span class=\"ipyplot-img-expand\"/>\n            </a>\n        </div>\n    </div>\n    \n    <div class=\"ipyplot-placeholder-div-jKSe63nVJfqdFF95x2aSTL\">\n        <div id=\"ipyplot-content-div-jKSe63nVJfqdFF95x2aSTL-aw42dYqnMkH9i9gdTnyuGN\" class=\"ipyplot-content-div-jKSe63nVJfqdFF95x2aSTL\">\n            <h4 style=\"font-size: 12px; word-wrap: break-word;\">['cake' 'family' 'fashion' 'flower' 'food' 'friend' 'girl' 'green' 'happy'\n 'home']</h4>\n            <h4 style=\"font-size: 9px; padding-left: 10px; padding-right: 10px; width: 95%; word-wrap: break-word; white-space: normal;\">../HARRISON/images/cake_image_590.jpg</h4><img src=\"../HARRISON/images/cake_image_590.jpg\"/>\n            <a href=\"#!\">\n                <span class=\"ipyplot-img-close\"/>\n            </a>\n            <a href=\"#ipyplot-content-div-jKSe63nVJfqdFF95x2aSTL-aw42dYqnMkH9i9gdTnyuGN\">\n                <span class=\"ipyplot-img-expand\"/>\n            </a>\n        </div>\n    </div>\n    \n    <div class=\"ipyplot-placeholder-div-jKSe63nVJfqdFF95x2aSTL\">\n        <div id=\"ipyplot-content-div-jKSe63nVJfqdFF95x2aSTL-mLPNQzHiLA9ZM63f97yEpp\" class=\"ipyplot-content-div-jKSe63nVJfqdFF95x2aSTL\">\n            <h4 style=\"font-size: 12px; word-wrap: break-word;\">['beach' 'beautiful' 'black' 'bored' 'cake' 'family' 'fashion' 'flower'\n 'friend' 'girl']</h4>\n            <h4 style=\"font-size: 9px; padding-left: 10px; padding-right: 10px; width: 95%; word-wrap: break-word; white-space: normal;\">../HARRISON/images/yellow_image_4057.jpg</h4><img src=\"../HARRISON/images/yellow_image_4057.jpg\"/>\n            <a href=\"#!\">\n                <span class=\"ipyplot-img-close\"/>\n            </a>\n            <a href=\"#ipyplot-content-div-jKSe63nVJfqdFF95x2aSTL-mLPNQzHiLA9ZM63f97yEpp\">\n                <span class=\"ipyplot-img-expand\"/>\n            </a>\n        </div>\n    </div>\n    \n    <div class=\"ipyplot-placeholder-div-jKSe63nVJfqdFF95x2aSTL\">\n        <div id=\"ipyplot-content-div-jKSe63nVJfqdFF95x2aSTL-NUyim9arAmKEd7r8TreNiE\" class=\"ipyplot-content-div-jKSe63nVJfqdFF95x2aSTL\">\n            <h4 style=\"font-size: 12px; word-wrap: break-word;\">['beautiful' 'bored' 'boyfriend' 'cake' 'cute' 'family' 'fashion' 'food'\n 'friday' 'friend']</h4>\n            <h4 style=\"font-size: 9px; padding-left: 10px; padding-right: 10px; width: 95%; word-wrap: break-word; white-space: normal;\">../HARRISON/images/drunk_image_1397.jpg</h4><img src=\"../HARRISON/images/drunk_image_1397.jpg\"/>\n            <a href=\"#!\">\n                <span class=\"ipyplot-img-close\"/>\n            </a>\n            <a href=\"#ipyplot-content-div-jKSe63nVJfqdFF95x2aSTL-NUyim9arAmKEd7r8TreNiE\">\n                <span class=\"ipyplot-img-expand\"/>\n            </a>\n        </div>\n    </div>\n    \n    <div class=\"ipyplot-placeholder-div-jKSe63nVJfqdFF95x2aSTL\">\n        <div id=\"ipyplot-content-div-jKSe63nVJfqdFF95x2aSTL-Qixnz5ZiQGgLFjkDaE9nT8\" class=\"ipyplot-content-div-jKSe63nVJfqdFF95x2aSTL\">\n            <h4 style=\"font-size: 12px; word-wrap: break-word;\">['art' 'beach' 'beautiful' 'beauty' 'black' 'blue' 'bored' 'boy'\n 'boyfriend' 'cake']</h4>\n            <h4 style=\"font-size: 9px; padding-left: 10px; padding-right: 10px; width: 95%; word-wrap: break-word; white-space: normal;\">../HARRISON/images/awesome_image_270.jpg</h4><img src=\"../HARRISON/images/awesome_image_270.jpg\"/>\n            <a href=\"#!\">\n                <span class=\"ipyplot-img-close\"/>\n            </a>\n            <a href=\"#ipyplot-content-div-jKSe63nVJfqdFF95x2aSTL-Qixnz5ZiQGgLFjkDaE9nT8\">\n                <span class=\"ipyplot-img-expand\"/>\n            </a>\n        </div>\n    </div>\n    \n    <div class=\"ipyplot-placeholder-div-jKSe63nVJfqdFF95x2aSTL\">\n        <div id=\"ipyplot-content-div-jKSe63nVJfqdFF95x2aSTL-FEDshRJBabaWx67QU5DKRB\" class=\"ipyplot-content-div-jKSe63nVJfqdFF95x2aSTL\">\n            <h4 style=\"font-size: 12px; word-wrap: break-word;\">['amazing' 'art' 'awesome' 'beach' 'beautiful' 'beauty' 'black' 'blue'\n 'bored' 'boy']</h4>\n            <h4 style=\"font-size: 9px; padding-left: 10px; padding-right: 10px; width: 95%; word-wrap: break-word; white-space: normal;\">../HARRISON/images/model_image_2664.jpg</h4><img src=\"../HARRISON/images/model_image_2664.jpg\"/>\n            <a href=\"#!\">\n                <span class=\"ipyplot-img-close\"/>\n            </a>\n            <a href=\"#ipyplot-content-div-jKSe63nVJfqdFF95x2aSTL-FEDshRJBabaWx67QU5DKRB\">\n                <span class=\"ipyplot-img-expand\"/>\n            </a>\n        </div>\n    </div>\n    \n    <div class=\"ipyplot-placeholder-div-jKSe63nVJfqdFF95x2aSTL\">\n        <div id=\"ipyplot-content-div-jKSe63nVJfqdFF95x2aSTL-8HVERrnXtJbkjXkCbDQf8i\" class=\"ipyplot-content-div-jKSe63nVJfqdFF95x2aSTL\">\n            <h4 style=\"font-size: 12px; word-wrap: break-word;\">['beautiful' 'black' 'bored' 'boyfriend' 'cake' 'cute' 'dog' 'family'\n 'fashion' 'flower']</h4>\n            <h4 style=\"font-size: 9px; padding-left: 10px; padding-right: 10px; width: 95%; word-wrap: break-word; white-space: normal;\">../HARRISON/images/fashion_image_289.jpg</h4><img src=\"../HARRISON/images/fashion_image_289.jpg\"/>\n            <a href=\"#!\">\n                <span class=\"ipyplot-img-close\"/>\n            </a>\n            <a href=\"#ipyplot-content-div-jKSe63nVJfqdFF95x2aSTL-8HVERrnXtJbkjXkCbDQf8i\">\n                <span class=\"ipyplot-img-expand\"/>\n            </a>\n        </div>\n    </div>\n    \n    <div class=\"ipyplot-placeholder-div-jKSe63nVJfqdFF95x2aSTL\">\n        <div id=\"ipyplot-content-div-jKSe63nVJfqdFF95x2aSTL-afwDVKSevDuw4wCCLQM3Bp\" class=\"ipyplot-content-div-jKSe63nVJfqdFF95x2aSTL\">\n            <h4 style=\"font-size: 12px; word-wrap: break-word;\">['black' 'family' 'fashion' 'friend' 'girl' 'happy' 'love' 'model' 'nike'\n 'school']</h4>\n            <h4 style=\"font-size: 9px; padding-left: 10px; padding-right: 10px; width: 95%; word-wrap: break-word; white-space: normal;\">../HARRISON/images/instafood_image_2029.jpg</h4><img src=\"../HARRISON/images/instafood_image_2029.jpg\"/>\n            <a href=\"#!\">\n                <span class=\"ipyplot-img-close\"/>\n            </a>\n            <a href=\"#ipyplot-content-div-jKSe63nVJfqdFF95x2aSTL-afwDVKSevDuw4wCCLQM3Bp\">\n                <span class=\"ipyplot-img-expand\"/>\n            </a>\n        </div>\n    </div>\n    </div>"
     },
     "metadata": {}
    }
   ],
   "source": [
    "## Manually Check Some of the Results...\n",
    "import ipyplot\n",
    "\n",
    "paths = list(results.filename.apply(lambda x: f\"../HARRISON/images/{x}\"))\n",
    "labels = [tags[:10] for tags in results.y_pred]\n",
    "\n",
    "ipyplot.plot_images(paths, labels)"
   ]
  },
  {
   "source": [
    "## Reference\n",
    "https://medium.com/@vijayabhaskar96/multi-label-image-classification-tutorial-with-keras-imagedatagenerator-cd541f8eaf24"
   ],
   "cell_type": "markdown",
   "metadata": {}
  }
 ]
}
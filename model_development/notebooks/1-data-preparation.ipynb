{
 "metadata": {
  "language_info": {
   "codemirror_mode": {
    "name": "ipython",
    "version": 3
   },
   "file_extension": ".py",
   "mimetype": "text/x-python",
   "name": "python",
   "nbconvert_exporter": "python",
   "pygments_lexer": "ipython3",
   "version": "3.7.9-final"
  },
  "orig_nbformat": 2,
  "kernelspec": {
   "name": "Python 3.7.9 64-bit ('youreit': conda)",
   "display_name": "Python 3.7.9 64-bit ('youreit': conda)",
   "metadata": {
    "interpreter": {
     "hash": "036400ab147c727a32e1594addfccc86371338bb65175d19c34515eac00cc03e"
    }
   }
  }
 },
 "nbformat": 4,
 "nbformat_minor": 2,
 "cells": [
  {
   "source": [
    "# 1. Data Preparation"
   ],
   "cell_type": "markdown",
   "metadata": {}
  },
  {
   "cell_type": "code",
   "execution_count": 1,
   "metadata": {},
   "outputs": [],
   "source": [
    "from torrentool.api import Torrent\n",
    "\n",
    "# Reading and modifying an existing file.\n",
    "my_torrent = Torrent.from_file('../HARRISON/HARRISON_dataset.torrent')"
   ]
  },
  {
   "cell_type": "code",
   "execution_count": 2,
   "metadata": {},
   "outputs": [
    {
     "output_type": "execute_result",
     "data": {
      "text/plain": [
       "<torrentool.torrent.Torrent at 0x7fb13a942350>"
      ]
     },
     "metadata": {},
     "execution_count": 2
    }
   ],
   "source": [
    "my_torrent."
   ]
  },
  {
   "cell_type": "code",
   "execution_count": null,
   "metadata": {},
   "outputs": [],
   "source": []
  }
 ]
}
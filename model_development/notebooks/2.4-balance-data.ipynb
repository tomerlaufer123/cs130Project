{
 "cells": [
  {
   "cell_type": "markdown",
   "metadata": {},
   "source": [
    "# 2. Data Balance by Label Substitution\n",
    "---\n",
    "\n",
    "In this notebook, we will look at the hashtags labels for each image, and fix the imbalance.\n",
    "\n",
    "## Import Libraries (the following cells are copied from notebook 1)"
   ]
  },
  {
   "cell_type": "code",
   "execution_count": 1,
   "metadata": {},
   "outputs": [],
   "source": [
    "import pandas as pd\n",
    "import numpy as np\n",
    "from sklearn.feature_extraction.text import CountVectorizer\n",
    "from sklearn.utils import shuffle\n",
    "\n",
    "from PIL import ImageFile\n",
    "ImageFile.LOAD_TRUNCATED_IMAGES = True\n",
    "\n",
    "import os,sys\n",
    "sys.path.append(\"../src\")"
   ]
  },
  {
   "cell_type": "markdown",
   "metadata": {},
   "source": [
    "## Create the Target Matrix\n",
    "Form ```tag_list.txt``` and ```data_list.txt``` in HARRISON dataset, we create a target matrix as a DataFrame."
   ]
  },
  {
   "cell_type": "code",
   "execution_count": 2,
   "metadata": {},
   "outputs": [
    {
     "name": "stdout",
     "output_type": "stream",
     "text": [
      "                       ab  accessory  actor  actress  adidas  adorable  \\\n",
      "sea_image_50.jpg        0          0      0        0       0         0   \n",
      "sea_image_1284.jpg      0          0      0        0       0         0   \n",
      "sea_image_1122.jpg      0          0      0        0       0         0   \n",
      "sea_image_1679.jpg      0          0      0        0       0         0   \n",
      "sea_image_1736.jpg      0          0      0        0       0         0   \n",
      "...                    ..        ...    ...      ...     ...       ...   \n",
      "tattoo_image_796.jpg    0          0      0        0       0         0   \n",
      "tattoo_image_1309.jpg   0          0      0        0       0         0   \n",
      "tattoo_image_1276.jpg   0          0      0        0       0         0   \n",
      "tattoo_image_347.jpg    0          0      0        0       0         0   \n",
      "tattoo_image_1153.jpg   0          0      0        0       0         0   \n",
      "\n",
      "                       adventure  aesthetic  afternoon  air  ...  yellow  \\\n",
      "sea_image_50.jpg               0          0          0    0  ...       0   \n",
      "sea_image_1284.jpg             0          0          0    0  ...       0   \n",
      "sea_image_1122.jpg             0          0          0    0  ...       0   \n",
      "sea_image_1679.jpg             0          0          0    0  ...       0   \n",
      "sea_image_1736.jpg             1          0          0    0  ...       0   \n",
      "...                          ...        ...        ...  ...  ...     ...   \n",
      "tattoo_image_796.jpg           0          0          0    0  ...       0   \n",
      "tattoo_image_1309.jpg          0          0          0    0  ...       0   \n",
      "tattoo_image_1276.jpg          0          0          0    0  ...       0   \n",
      "tattoo_image_347.jpg           0          0          0    0  ...       0   \n",
      "tattoo_image_1153.jpg          0          0          0    0  ...       0   \n",
      "\n",
      "                       yoga  yolo  you  young  youtube  yum  yummy  zara  \\\n",
      "sea_image_50.jpg          0     0    0      0        0    0      0     0   \n",
      "sea_image_1284.jpg        0     0    0      0        0    0      0     0   \n",
      "sea_image_1122.jpg        0     0    0      0        0    0      0     0   \n",
      "sea_image_1679.jpg        0     0    0      0        0    0      0     0   \n",
      "sea_image_1736.jpg        0     0    0      0        0    0      0     0   \n",
      "...                     ...   ...  ...    ...      ...  ...    ...   ...   \n",
      "tattoo_image_796.jpg      0     0    0      0        0    0      0     0   \n",
      "tattoo_image_1309.jpg     0     0    0      0        0    0      0     0   \n",
      "tattoo_image_1276.jpg     0     0    0      0        0    0      0     0   \n",
      "tattoo_image_347.jpg      0     0    0      0        0    0      0     0   \n",
      "tattoo_image_1153.jpg     0     0    0      0        0    0      0     0   \n",
      "\n",
      "                       zaynmalik  \n",
      "sea_image_50.jpg               0  \n",
      "sea_image_1284.jpg             0  \n",
      "sea_image_1122.jpg             0  \n",
      "sea_image_1679.jpg             0  \n",
      "sea_image_1736.jpg             0  \n",
      "...                          ...  \n",
      "tattoo_image_796.jpg           0  \n",
      "tattoo_image_1309.jpg          0  \n",
      "tattoo_image_1276.jpg          0  \n",
      "tattoo_image_347.jpg           0  \n",
      "tattoo_image_1153.jpg          0  \n",
      "\n",
      "[57383 rows x 997 columns]\n"
     ]
    }
   ],
   "source": [
    "DATA_LIST = \"../HARRISON/data_list.txt\"\n",
    "TAG_LIST = \"../HARRISON/tag_list.txt\"\n",
    "\n",
    "#read filenames\n",
    "filenames_df = pd.read_csv(DATA_LIST, names=[\"filename\"], header=None) #read the files\n",
    "filenames_df[\"filename\"] = filenames_df[\"filename\"].apply(lambda x: \"_\".join(x.split(\"/\")[1:])) #drop dir names\n",
    "filenames_series = filenames_df.iloc[:,0]\n",
    "\n",
    "# Read hashtags\n",
    "vectorizer = CountVectorizer(binary=True)\n",
    "hashtags_df = pd.read_csv(TAG_LIST, names=[\"labels\"], header=None)\n",
    "X_arr = vectorizer.fit_transform(hashtags_df[\"labels\"]).toarray()\n",
    "X_df = pd.DataFrame(X_arr, index=filenames_series.to_numpy(), columns=vectorizer.get_feature_names())\n",
    "\n",
    "#print\n",
    "print(X_df)"
   ]
  },
  {
   "cell_type": "markdown",
   "metadata": {},
   "source": [
    "## Visualize the data imbalance"
   ]
  },
  {
   "cell_type": "code",
   "execution_count": 3,
   "metadata": {},
   "outputs": [
    {
     "data": {
      "text/plain": [
       "<Figure size 640x480 with 1 Axes>"
      ]
     },
     "metadata": {},
     "output_type": "display_data"
    },
    {
     "name": "stdout",
     "output_type": "stream",
     "text": [
      "Variance in Frequency: 6.271672470561842e-05\n",
      "5 Most Common Labels: [('love', 0.10267849363051774), ('friend', 0.06353798163219072), ('beach', 0.052715961173169755), ('family', 0.051687782095742645), ('yellow', 0.046477179652510324)]\n",
      "5 Least Common Labels: [('daytime', 3.48535280483767e-05), ('hters', 6.97070560967534e-05), ('wakingup', 6.97070560967534e-05), ('shamelessselefie', 8.713382012094175e-05), ('textgram', 8.713382012094175e-05)]\n"
     ]
    }
   ],
   "source": [
    "from data_balance import Data_Balance,Word_Similarity\n",
    "\n",
    "db = Data_Balance()\n",
    "db.visualize_pdf(X_df)"
   ]
  },
  {
   "cell_type": "markdown",
   "metadata": {},
   "source": [
    "## Balance the data"
   ]
  },
  {
   "cell_type": "code",
   "execution_count": 4,
   "metadata": {},
   "outputs": [],
   "source": [
    "#copy our old dataframe so we can preserve it\n",
    "Balanced_X_df = X_df.copy(deep=True)\n",
    "#store dimensions\n",
    "num_images,num_labels = Balanced_X_df.shape"
   ]
  },
  {
   "cell_type": "code",
   "execution_count": 5,
   "metadata": {},
   "outputs": [],
   "source": [
    "#we'd like for the model to certainly predict the image type\n",
    "#ex: the model should always predict 'snow' in a snow_image_X.jpg picture\n",
    "\n",
    "#we don't want a beach_image_X.jpg picture to be labeled as 'amazing' because amazing_image_X.jpg's exist\n",
    "col_of_zeros = np.zeros((num_images,1))\n",
    "\n",
    "#get image types\n",
    "image_types = set()\n",
    "for filename in Balanced_X_df.index:\n",
    "    image_types.add(filename.split('_')[0])\n",
    "\n",
    "#zero these columns\n",
    "#side effect: some image types like 'friends' are not tags in the data...This adds them!\n",
    "added_image_types = []\n",
    "for image_type in image_types:\n",
    "    if image_type not in Balanced_X_df.columns:\n",
    "        added_image_types.append(image_type)\n",
    "    Balanced_X_df[image_type] = col_of_zeros\n",
    "\n",
    "#add the appropiate tags back\n",
    "for filename in Balanced_X_df.index:\n",
    "    tag = filename.split('_')[0]\n",
    "    if Balanced_X_df.loc[filename,tag] == 0:\n",
    "        Balanced_X_df.loc[filename,tag] = 1\n",
    "        \n",
    "#update dimensions\n",
    "num_images,num_labels = Balanced_X_df.shape"
   ]
  },
  {
   "cell_type": "code",
   "execution_count": 6,
   "metadata": {},
   "outputs": [
    {
     "name": "stdout",
     "output_type": "stream",
     "text": [
      "{'heart', 'drunk', 'snow', 'loveyou', 'smile', 'tree', 'goodtimes', 'boy', 'black', 'bored', 'throwback', 'green', 'beauty', 'school', 'friday', 'cool', 'amazing', 'awesome', 'eyes', 'home', 'family', 'red', 'yellow', 'girls', 'instafood', 'hair', 'beach', 'dog', 'justinbieber', 'yum', 'fashion', 'nike', 'yummy', 'cake', 'sun', 'friends', 'model', 'truth', 'old', 'makeup', 'funny', 'igdaily', 'tired', 'sea', 'boyfriend', 'shoes', 'new', 'colorful', 'white', 'tattoo'}\n"
     ]
    }
   ],
   "source": [
    "print(image_types)"
   ]
  },
  {
   "cell_type": "code",
   "execution_count": 7,
   "metadata": {},
   "outputs": [],
   "source": [
    "#if a and b are very close in meaning/context, we expect to see both\n",
    "synonym_clusters = [\n",
    "        {'ab','bodybuilding','cardio','exercise','fit','fitfam','fitgirl','fitness',\n",
    "         'fitnessaddict','fitnessmodel','fitnessmotivation','fitspo','gain','gainpost',\n",
    "         'gaintrick','gym','gymlife','instafit','squat','strong','weightloss','workout','muscle'},\n",
    "        {'food','foodblogger','foodgasm','foodie','foodlover','foodphotography',\n",
    "         'foodpic','foodporn','foodpics','foodporn','foodstagram','instafood','tasty','nomnom',\n",
    "         'restaurant','yum','yummy'},\n",
    "        {'healthy','healthychoices','healthyeating','healthyfood','vegan','vegetarian',\n",
    "         'organic','salad','nutrition','cleaneating','eatclean'},\n",
    "        #{'adorable','amor','cute','cutie'},\n",
    "        #{'latepost','latergram'},\n",
    "        {'shoe','shoes','nike','justdoit','airmax','nikeairmax','sneaker','sneakerhead','adidas'},\n",
    "        {'bestfriend','bestfriends','besties','bff','friend','friends','friendship','goodfriends'},\n",
    "        {'bieber','belieber','beliebers','justinbieber','justin'},\n",
    "        {'birthday','birthdaycake','cake','cupcake','instacake','happybirthday','bday'},\n",
    "        #{'brazil','brasil'},\n",
    "        {'dog','doglover','dogoftheday','dogsofinstagram','dogstagram','ilovemydog',\n",
    "         'instadog','puppy'},\n",
    "        {'cat','catsofinstagram','kitty'},\n",
    "        #{'dance','dancer'},\n",
    "        {'sky','skylovers','skyporn','bluesky','cloud','cloudporn'},\n",
    "        {'instanature','mothernature','nature','naturelovers','naturephotography','outdoor',\n",
    "         'mountain','outdoors','tree','forest'},\n",
    "        #{'iphone','iphoneonly','iphonesia','apple'},\n",
    "        {'lol','lmao','lmfao','kik','laugh','haha','funny'},\n",
    "        {'drink','alcohol','cocktail','beer','drunk'},\n",
    "        {'basketball','lakers','kobe','kobebryant','mambaday','nba'},\n",
    "        #{'omg','wtf'},\n",
    "        #{'spring','springtime','primavera','april'},\n",
    "        {'relationship','relationshipgoals','boyfriend','girlfriend','bae','babe'},\n",
    "        {'ski','skiing','snow','snowboard','snowboarding','ice','cold','winter'},\n",
    "        {'university','school','student','teacher','college'},\n",
    "        {'instamakeup','makeup','makeupaddict','makeupartist','makeupjunkie','makeuplover',\n",
    "         'nomakeup','mac','maccosmetics','lipstick','nailart','eyeliner','eyeshadow','cosmetic','anastasiabeverlyhills'},\n",
    "        {'flower','flowerstagram','tulip','rose'},\n",
    "        #{'follow','followalways','followback','follower','followforfollow','following','followme',\n",
    "        # 'followtrain','instafollow','likeforfollow','like','likeforlike','likeforlikes','likeback',\n",
    "        # 'instalike','instalikes','likeit','likeme','tagforlikes','tagsforlike','tagsforlikes',\n",
    "        # 'tagsforlikesapp','hashtag','hashtags','instagram','instagramers','instagramhub','tag',\n",
    "        # 'tagsta','toptags','lfl','fff'},\n",
    "        {'throwback','throwbackthursday','tbt'},\n",
    "        {'sweettooth','dessert','dessertporn','chocolate'},\n",
    "        {'delish','delicious'},\n",
    "        {'art','arte','artist','artistic','artwork','instaart'},\n",
    "        {'beach','beachlife','sea','seaside','ocean','sand','playa'},\n",
    "        {'coffee','goodmorning','morning','instamorning','wake','wakeup','awake','early','earlybird','wakingup'},\n",
    "        {'travel','traveller','instatravel','travelgram','traveling','travelingram','travelling',\n",
    "         'travelphotography','trip','roadtrip','vacation','explore'},\n",
    "        {'trend','trendy'},\n",
    "        #{'sun','sunglass','sunlight','sunny','sunnyday','sunshine'},\n",
    "        #{'surf','surfing'},\n",
    "        #{'summer','summertime'},\n",
    "        #{'run','running'},\n",
    "        #{'photography','photograph','photographer','photogrid','photooftheday','pic','picoftheday',\n",
    "        #'picture','pictureoftheday'},\n",
    "        {'girls','girl','girly','instagirl'},\n",
    "        {'model','modeling'},\n",
    "        {'goodtime','goodtimes','goodvibes','positivevibes','funtimes','goodlife','lifeisgood','goodlife'},\n",
    "        {'fashion','fashionable','fashionaddict','fashionblog','fashionblogger','fashiondiaries',\n",
    "         'fashiongram','fashionista','fashionstyle','instafashion','streetfashion','outfit',\n",
    "         'outfitoftheday','dress'},\n",
    "        #{'film','movie'},\n",
    "        {'tattoo','tattooed','girlswithtattoos'},\n",
    "        #{'sleep','sleepy','tired'},\n",
    "        #{'decor','decoration'},\n",
    "        #{'clothes','clothing'},\n",
    "        {'eye','eyes','blueeyes','greeneye'},\n",
    "        {'yellow'},\n",
    "        {'loveyou'},\n",
    "        {'family'}\n",
    "    ]\n",
    "    \n",
    "#check that tags are spelled correctly (can be found in dataframe column labels)\n",
    "for cluster in synonym_clusters:\n",
    "    for c in cluster:\n",
    "        if c not in Balanced_X_df.columns:\n",
    "            print (c,'not found')\n",
    "            \n",
    "#check that tags do not belong to multiple clusters\n",
    "for i in range(len(synonym_clusters)):\n",
    "    clust_i = synonym_clusters[i]\n",
    "    for label_i in clust_i:\n",
    "        for clust_j in synonym_clusters[i+1:]:\n",
    "            if label_i in clust_j:\n",
    "                print(label_i,'in',clust_i,'and',clust_j)"
   ]
  },
  {
   "cell_type": "code",
   "execution_count": 8,
   "metadata": {},
   "outputs": [],
   "source": [
    "#turn the cluster list into a substitution dataframe\n",
    "#Substitutions_df[i,j] iff label i is in the same cluster as label j -> let's us substitute with dot product!\n",
    "zeros_arr = np.zeros((num_labels,num_labels))\n",
    "Substitutions_df = pd.DataFrame(data=zeros_arr,index=Balanced_X_df.columns, columns=Balanced_X_df.columns)\n",
    "for cluster in synonym_clusters:\n",
    "    cluster_list = list(cluster)\n",
    "    for i in range(len(cluster_list)):\n",
    "        label_i = cluster_list[i]\n",
    "        for label_j in cluster_list[i:]:\n",
    "            Substitutions_df.loc[label_i,label_j] = Substitutions_df.loc[label_j,label_i] = 1"
   ]
  },
  {
   "cell_type": "code",
   "execution_count": 9,
   "metadata": {},
   "outputs": [
    {
     "name": "stdout",
     "output_type": "stream",
     "text": [
      "Removing noisey unclustered Labels: Index(['awesome', 'beautiful', 'black', 'blackandwhite', 'blue', 'bored',\n",
      "       'boy', 'cool', 'cute', 'follow', 'followme', 'friday', 'fun', 'green',\n",
      "       'hair', 'happy', 'heart', 'holiday', 'home', 'instadaily', 'instagood',\n",
      "       'instagram', 'instalike', 'instamood', 'instapic', 'life', 'like',\n",
      "       'likeforlike', 'love', 'music', 'new', 'night', 'old', 'ootd', 'party',\n",
      "       'photo', 'photography', 'photooftheday', 'picoftheday', 'pink', 'red',\n",
      "       'selfie', 'smile', 'spring', 'style', 'summer', 'sun', 'sunday',\n",
      "       'sunset', 'tired', 'truth', 'vsco', 'vscocam', 'weekend'],\n",
      "      dtype='object')\n"
     ]
    }
   ],
   "source": [
    "#obtain the dataframe where each instance is a set of label clusters\n",
    "clustered_df = Balanced_X_df.dot(Substitutions_df).astype('int64')\n",
    "\n",
    "#keep some non-clustered uncommon tags as noise\n",
    "noisey_df = ((Balanced_X_df - clustered_df) > 0).astype('int64')\n",
    "\n",
    "#remove the very common noise\n",
    "max_freq = noisey_df.sum(axis=0).max()\n",
    "frequency_threshold = 0.1\n",
    "noisey_labels_series = (noisey_df.sum(axis=0) > (frequency_threshold*max_freq)).astype('int64')\n",
    "noisey_labels_list = noisey_labels_series[noisey_labels_series==1].index\n",
    "print('Removing noisey unclustered Labels:',noisey_labels_list)\n",
    "for label in noisey_labels_list:\n",
    "    noisey_df[label] = col_of_zeros\n",
    "\n",
    "#add filtered noise back to clustered dataframe\n",
    "Balanced_X_df = (clustered_df + noisey_df).astype('int64')"
   ]
  },
  {
   "cell_type": "code",
   "execution_count": 10,
   "metadata": {},
   "outputs": [
    {
     "data": {
      "image/png": "[encoded data removed]",
      "text/plain": [
       "<Figure size 432x288 with 1 Axes>"
      ]
     },
     "metadata": {
      "needs_background": "light"
     },
     "output_type": "display_data"
    },
    {
     "name": "stdout",
     "output_type": "stream",
     "text": [
      "Variance in Frequency: 0.0006296687582979968\n",
      "5 Most Common Labels: [('food', 0.12214418904553613), ('foodblogger', 0.12214418904553613), ('foodgasm', 0.12214418904553613), ('foodie', 0.12214418904553613), ('foodlover', 0.12214418904553613)]\n",
      "5 Least Common Labels: [('awesome', 0.0), ('beautiful', 0.0), ('black', 0.0), ('blackandwhite', 0.0), ('blue', 0.0)]\n"
     ]
    }
   ],
   "source": [
    "db.visualize_pdf(Balanced_X_df)"
   ]
  },
  {
   "cell_type": "markdown",
   "metadata": {},
   "source": [
    "The variance in the data is now actually higher, but now we've clustered related tags into several modes (rather than one). This way, the network will be biased to learn fewer, but more distinct clusters of tags. We will treat tags of frequency less than threshold L as noise (our network will not be able to \"learn\" these infrequent tags anyways), and oversample instances with tags of frequency>L."
   ]
  },
  {
   "cell_type": "code",
   "execution_count": 11,
   "metadata": {},
   "outputs": [],
   "source": [
    "#labels with frequency < L are noise\n",
    "L = 0.18\n",
    "\n",
    "#throw out instances with greater than T noisey labels\n",
    "T=1000"
   ]
  },
  {
   "cell_type": "code",
   "execution_count": 12,
   "metadata": {},
   "outputs": [
    {
     "name": "stdout",
     "output_type": "stream",
     "text": [
      "Dropped 0 noisey instances!\n",
      "Duplicating 10/14751 images...\n",
      "Duplicating 10/14751 images...\n",
      "Duplicating 10/14751 images...\n",
      "Duplicating 10/14751 images...\n",
      "Duplicating 10/14751 images...\n",
      "Duplicating 10/14751 images...\n",
      "Duplicating 10/14751 images...\n",
      "Duplicating 10/14751 images...\n",
      "Duplicating 10/14751 images...\n",
      "Duplicating 10/14751 images...\n",
      "Duplicating 10/14751 images...\n",
      "Duplicating 10/14751 images...\n",
      "Duplicating 10/14751 images...\n",
      "Duplicating 10/14751 images...\n",
      "Duplicating 10/14751 images...\n",
      "Duplicating 10/14751 images...\n",
      "Duplicating 10/14751 images...\n",
      "Duplicating 10/14751 images...\n",
      "Duplicating 10/14751 images...\n",
      "Duplicating 10/14751 images...\n",
      "Duplicating 10/14751 images...\n",
      "Duplicating 10/14751 images...\n",
      "Duplicating 10/14751 images...\n",
      "Duplicating 10/14751 images...\n",
      "Duplicating 10/14751 images...\n",
      "Duplicating 10/14751 images...\n",
      "Duplicating 10/14751 images...\n",
      "Duplicating 10/14751 images...\n",
      "Duplicating 10/14751 images...\n",
      "Duplicating 10/14751 images...\n",
      "Duplicating 10/14751 images...\n",
      "Duplicating 10/14751 images...\n",
      "Duplicating 10/14751 images...\n",
      "Duplicating 10/14751 images...\n",
      "Duplicating 10/14751 images...\n",
      "Duplicating 10/14751 images...\n",
      "Duplicating 10/14751 images...\n",
      "Duplicating 10/14751 images...\n",
      "Duplicating 10/14751 images...\n",
      "Duplicating 10/14751 images...\n",
      "Duplicating 10/14751 images...\n",
      "Duplicating 10/14751 images...\n",
      "Duplicating 10/14751 images...\n",
      "Duplicating 10/14751 images...\n",
      "Duplicating 10/14751 images...\n",
      "Duplicating 10/14751 images...\n",
      "Duplicating 10/14751 images...\n",
      "Duplicating 10/14751 images...\n",
      "Duplicating 10/14751 images...\n",
      "Duplicating 10/14751 images...\n",
      "Duplicating 10/14751 images...\n",
      "Duplicating 10/14751 images...\n",
      "Duplicating 10/14751 images...\n",
      "Duplicating 10/14751 images...\n",
      "Duplicating 10/14751 images...\n",
      "Duplicating 10/14751 images...\n",
      "Duplicating 10/14751 images...\n",
      "Duplicating 10/14751 images...\n",
      "Duplicating 10/14751 images...\n",
      "Duplicating 10/14751 images...\n",
      "Duplicating 10/14751 images...\n",
      "Duplicating 10/14751 images...\n",
      "Duplicating 10/14751 images...\n",
      "Duplicating 10/14751 images...\n",
      "Duplicating 10/14751 images...\n",
      "Duplicating 10/14751 images...\n",
      "Duplicating 10/14751 images...\n",
      "Duplicating 10/14751 images...\n",
      "Duplicating 10/14751 images...\n",
      "Duplicating 10/14751 images...\n",
      "Duplicating 10/14751 images...\n",
      "Duplicating 10/14751 images...\n",
      "Duplicating 10/14751 images...\n",
      "Duplicating 10/14751 images...\n",
      "Duplicating 10/14751 images...\n",
      "Duplicating 10/14751 images...\n",
      "Duplicating 10/14751 images...\n",
      "Duplicating 10/14751 images...\n",
      "Duplicating 10/14751 images...\n",
      "Duplicating 10/14751 images...\n",
      "Duplicating 10/14751 images...\n",
      "Duplicating 10/14751 images...\n",
      "Duplicating 10/14751 images...\n",
      "Duplicating 10/14751 images...\n",
      "Duplicating 10/14751 images...\n",
      "Duplicating 10/14751 images...\n",
      "Duplicating 10/14751 images...\n",
      "Duplicating 10/14751 images...\n",
      "Duplicating 10/14751 images...\n",
      "Duplicating 10/14751 images...\n",
      "Duplicating 10/14751 images...\n",
      "Duplicating 10/14751 images...\n",
      "Duplicating 10/14751 images...\n",
      "Duplicating 10/14751 images...\n",
      "Duplicating 10/14751 images...\n",
      "Duplicating 10/14751 images...\n",
      "Duplicating 10/14751 images...\n",
      "Duplicating 10/14751 images...\n",
      "Duplicating 10/14751 images...\n",
      "Duplicating 10/14751 images...\n",
      "Duplicating 10/14751 images...\n",
      "Duplicating 10/14751 images...\n",
      "Duplicating 10/14751 images...\n",
      "Duplicating 10/14751 images...\n",
      "Duplicating 10/14751 images...\n",
      "Duplicating 10/14751 images...\n",
      "Duplicating 10/14751 images...\n",
      "Duplicating 10/14751 images...\n",
      "Duplicating 10/14751 images...\n",
      "Duplicating 10/14751 images...\n",
      "Duplicating 10/14751 images...\n",
      "Duplicating 10/14751 images...\n",
      "Duplicating 10/14751 images...\n",
      "Duplicating 10/14751 images...\n",
      "Duplicating 10/14751 images...\n",
      "Duplicating 10/14751 images...\n",
      "Duplicating 10/14751 images...\n",
      "Duplicating 10/14751 images...\n",
      "Duplicating 10/14751 images...\n",
      "Duplicating 10/14751 images...\n",
      "Duplicating 10/14751 images...\n",
      "Duplicating 10/14751 images...\n",
      "Duplicating 10/14751 images...\n",
      "Duplicating 10/14751 images...\n",
      "Duplicating 10/14751 images...\n",
      "Duplicating 10/14751 images...\n",
      "Duplicating 10/14751 images...\n",
      "Duplicating 10/14751 images...\n",
      "Duplicating 10/14751 images...\n",
      "Duplicating 10/14751 images...\n"
     ]
    },
    {
     "ename": "KeyboardInterrupt",
     "evalue": "",
     "output_type": "error",
     "traceback": [
      "\u001b[1;31m---------------------------------------------------------------------------\u001b[0m",
      "\u001b[1;31mKeyboardInterrupt\u001b[0m                         Traceback (most recent call last)",
      "\u001b[1;32m<ipython-input-12-972e8e0308a6>\u001b[0m in \u001b[0;36m<module>\u001b[1;34m()\u001b[0m\n\u001b[0;32m     44\u001b[0m     \u001b[0mindicies_to_duplicate\u001b[0m \u001b[1;33m=\u001b[0m \u001b[0mnp\u001b[0m\u001b[1;33m.\u001b[0m\u001b[0mrandom\u001b[0m\u001b[1;33m.\u001b[0m\u001b[0mchoice\u001b[0m\u001b[1;33m(\u001b[0m\u001b[0mduplicatable_indicies\u001b[0m\u001b[1;33m,\u001b[0m\u001b[0mnum_choices\u001b[0m\u001b[1;33m,\u001b[0m\u001b[0mreplace\u001b[0m\u001b[1;33m=\u001b[0m\u001b[1;32mFalse\u001b[0m\u001b[1;33m)\u001b[0m\u001b[1;33m\u001b[0m\u001b[1;33m\u001b[0m\u001b[0m\n\u001b[0;32m     45\u001b[0m     \u001b[0mdataframe_to_append\u001b[0m \u001b[1;33m=\u001b[0m \u001b[0mBalanced_X_df\u001b[0m\u001b[1;33m.\u001b[0m\u001b[0mloc\u001b[0m\u001b[1;33m[\u001b[0m\u001b[0mindicies_to_duplicate\u001b[0m \u001b[1;33m,\u001b[0m \u001b[1;33m:\u001b[0m\u001b[1;33m]\u001b[0m\u001b[1;33m\u001b[0m\u001b[1;33m\u001b[0m\u001b[0m\n\u001b[1;32m---> 46\u001b[1;33m     \u001b[0mBalanced_X_df\u001b[0m \u001b[1;33m=\u001b[0m \u001b[0mBalanced_X_df\u001b[0m\u001b[1;33m.\u001b[0m\u001b[0mappend\u001b[0m\u001b[1;33m(\u001b[0m\u001b[0mdataframe_to_append\u001b[0m\u001b[1;33m)\u001b[0m\u001b[1;33m\u001b[0m\u001b[1;33m\u001b[0m\u001b[0m\n\u001b[0m\u001b[0;32m     47\u001b[0m \u001b[1;33m\u001b[0m\u001b[0m\n\u001b[0;32m     48\u001b[0m     \u001b[1;31m#update the number of images duplicated\u001b[0m\u001b[1;33m\u001b[0m\u001b[1;33m\u001b[0m\u001b[1;33m\u001b[0m\u001b[0m\n",
      "\u001b[1;32mC:\\Users\\Tomer\\anaconda3\\envs\\youreit\\lib\\site-packages\\pandas\\core\\frame.py\u001b[0m in \u001b[0;36mappend\u001b[1;34m(self, other, ignore_index, verify_integrity, sort)\u001b[0m\n\u001b[0;32m   7745\u001b[0m             \u001b[0mignore_index\u001b[0m\u001b[1;33m=\u001b[0m\u001b[0mignore_index\u001b[0m\u001b[1;33m,\u001b[0m\u001b[1;33m\u001b[0m\u001b[1;33m\u001b[0m\u001b[0m\n\u001b[0;32m   7746\u001b[0m             \u001b[0mverify_integrity\u001b[0m\u001b[1;33m=\u001b[0m\u001b[0mverify_integrity\u001b[0m\u001b[1;33m,\u001b[0m\u001b[1;33m\u001b[0m\u001b[1;33m\u001b[0m\u001b[0m\n\u001b[1;32m-> 7747\u001b[1;33m             \u001b[0msort\u001b[0m\u001b[1;33m=\u001b[0m\u001b[0msort\u001b[0m\u001b[1;33m,\u001b[0m\u001b[1;33m\u001b[0m\u001b[1;33m\u001b[0m\u001b[0m\n\u001b[0m\u001b[0;32m   7748\u001b[0m         )\n\u001b[0;32m   7749\u001b[0m \u001b[1;33m\u001b[0m\u001b[0m\n",
      "\u001b[1;32mC:\\Users\\Tomer\\anaconda3\\envs\\youreit\\lib\\site-packages\\pandas\\core\\reshape\\concat.py\u001b[0m in \u001b[0;36mconcat\u001b[1;34m(objs, axis, join, ignore_index, keys, levels, names, verify_integrity, sort, copy)\u001b[0m\n\u001b[0;32m    282\u001b[0m         \u001b[0mverify_integrity\u001b[0m\u001b[1;33m=\u001b[0m\u001b[0mverify_integrity\u001b[0m\u001b[1;33m,\u001b[0m\u001b[1;33m\u001b[0m\u001b[1;33m\u001b[0m\u001b[0m\n\u001b[0;32m    283\u001b[0m         \u001b[0mcopy\u001b[0m\u001b[1;33m=\u001b[0m\u001b[0mcopy\u001b[0m\u001b[1;33m,\u001b[0m\u001b[1;33m\u001b[0m\u001b[1;33m\u001b[0m\u001b[0m\n\u001b[1;32m--> 284\u001b[1;33m         \u001b[0msort\u001b[0m\u001b[1;33m=\u001b[0m\u001b[0msort\u001b[0m\u001b[1;33m,\u001b[0m\u001b[1;33m\u001b[0m\u001b[1;33m\u001b[0m\u001b[0m\n\u001b[0m\u001b[0;32m    285\u001b[0m     )\n\u001b[0;32m    286\u001b[0m \u001b[1;33m\u001b[0m\u001b[0m\n",
      "\u001b[1;32mC:\\Users\\Tomer\\anaconda3\\envs\\youreit\\lib\\site-packages\\pandas\\core\\reshape\\concat.py\u001b[0m in \u001b[0;36m__init__\u001b[1;34m(self, objs, axis, join, keys, levels, names, ignore_index, verify_integrity, copy, sort)\u001b[0m\n\u001b[0;32m    452\u001b[0m         \u001b[0mself\u001b[0m\u001b[1;33m.\u001b[0m\u001b[0mcopy\u001b[0m \u001b[1;33m=\u001b[0m \u001b[0mcopy\u001b[0m\u001b[1;33m\u001b[0m\u001b[1;33m\u001b[0m\u001b[0m\n\u001b[0;32m    453\u001b[0m \u001b[1;33m\u001b[0m\u001b[0m\n\u001b[1;32m--> 454\u001b[1;33m         \u001b[0mself\u001b[0m\u001b[1;33m.\u001b[0m\u001b[0mnew_axes\u001b[0m \u001b[1;33m=\u001b[0m \u001b[0mself\u001b[0m\u001b[1;33m.\u001b[0m\u001b[0m_get_new_axes\u001b[0m\u001b[1;33m(\u001b[0m\u001b[1;33m)\u001b[0m\u001b[1;33m\u001b[0m\u001b[1;33m\u001b[0m\u001b[0m\n\u001b[0m\u001b[0;32m    455\u001b[0m \u001b[1;33m\u001b[0m\u001b[0m\n\u001b[0;32m    456\u001b[0m     \u001b[1;32mdef\u001b[0m \u001b[0mget_result\u001b[0m\u001b[1;33m(\u001b[0m\u001b[0mself\u001b[0m\u001b[1;33m)\u001b[0m\u001b[1;33m:\u001b[0m\u001b[1;33m\u001b[0m\u001b[1;33m\u001b[0m\u001b[0m\n",
      "\u001b[1;32mC:\\Users\\Tomer\\anaconda3\\envs\\youreit\\lib\\site-packages\\pandas\\core\\reshape\\concat.py\u001b[0m in \u001b[0;36m_get_new_axes\u001b[1;34m(self)\u001b[0m\n\u001b[0;32m    519\u001b[0m         return [\n\u001b[0;32m    520\u001b[0m             \u001b[0mself\u001b[0m\u001b[1;33m.\u001b[0m\u001b[0m_get_concat_axis\u001b[0m\u001b[1;33m(\u001b[0m\u001b[1;33m)\u001b[0m \u001b[1;32mif\u001b[0m \u001b[0mi\u001b[0m \u001b[1;33m==\u001b[0m \u001b[0mself\u001b[0m\u001b[1;33m.\u001b[0m\u001b[0mbm_axis\u001b[0m \u001b[1;32melse\u001b[0m \u001b[0mself\u001b[0m\u001b[1;33m.\u001b[0m\u001b[0m_get_comb_axis\u001b[0m\u001b[1;33m(\u001b[0m\u001b[0mi\u001b[0m\u001b[1;33m)\u001b[0m\u001b[1;33m\u001b[0m\u001b[1;33m\u001b[0m\u001b[0m\n\u001b[1;32m--> 521\u001b[1;33m             \u001b[1;32mfor\u001b[0m \u001b[0mi\u001b[0m \u001b[1;32min\u001b[0m \u001b[0mrange\u001b[0m\u001b[1;33m(\u001b[0m\u001b[0mndim\u001b[0m\u001b[1;33m)\u001b[0m\u001b[1;33m\u001b[0m\u001b[1;33m\u001b[0m\u001b[0m\n\u001b[0m\u001b[0;32m    522\u001b[0m         ]\n\u001b[0;32m    523\u001b[0m \u001b[1;33m\u001b[0m\u001b[0m\n",
      "\u001b[1;32mC:\\Users\\Tomer\\anaconda3\\envs\\youreit\\lib\\site-packages\\pandas\\core\\reshape\\concat.py\u001b[0m in \u001b[0;36m<listcomp>\u001b[1;34m(.0)\u001b[0m\n\u001b[0;32m    519\u001b[0m         return [\n\u001b[0;32m    520\u001b[0m             \u001b[0mself\u001b[0m\u001b[1;33m.\u001b[0m\u001b[0m_get_concat_axis\u001b[0m\u001b[1;33m(\u001b[0m\u001b[1;33m)\u001b[0m \u001b[1;32mif\u001b[0m \u001b[0mi\u001b[0m \u001b[1;33m==\u001b[0m \u001b[0mself\u001b[0m\u001b[1;33m.\u001b[0m\u001b[0mbm_axis\u001b[0m \u001b[1;32melse\u001b[0m \u001b[0mself\u001b[0m\u001b[1;33m.\u001b[0m\u001b[0m_get_comb_axis\u001b[0m\u001b[1;33m(\u001b[0m\u001b[0mi\u001b[0m\u001b[1;33m)\u001b[0m\u001b[1;33m\u001b[0m\u001b[1;33m\u001b[0m\u001b[0m\n\u001b[1;32m--> 521\u001b[1;33m             \u001b[1;32mfor\u001b[0m \u001b[0mi\u001b[0m \u001b[1;32min\u001b[0m \u001b[0mrange\u001b[0m\u001b[1;33m(\u001b[0m\u001b[0mndim\u001b[0m\u001b[1;33m)\u001b[0m\u001b[1;33m\u001b[0m\u001b[1;33m\u001b[0m\u001b[0m\n\u001b[0m\u001b[0;32m    522\u001b[0m         ]\n\u001b[0;32m    523\u001b[0m \u001b[1;33m\u001b[0m\u001b[0m\n",
      "\u001b[1;32mC:\\Users\\Tomer\\anaconda3\\envs\\youreit\\lib\\site-packages\\pandas\\core\\reshape\\concat.py\u001b[0m in \u001b[0;36m_get_concat_axis\u001b[1;34m(self)\u001b[0m\n\u001b[0;32m    572\u001b[0m \u001b[1;33m\u001b[0m\u001b[0m\n\u001b[0;32m    573\u001b[0m         \u001b[1;32mif\u001b[0m \u001b[0mself\u001b[0m\u001b[1;33m.\u001b[0m\u001b[0mkeys\u001b[0m \u001b[1;32mis\u001b[0m \u001b[1;32mNone\u001b[0m\u001b[1;33m:\u001b[0m\u001b[1;33m\u001b[0m\u001b[1;33m\u001b[0m\u001b[0m\n\u001b[1;32m--> 574\u001b[1;33m             \u001b[0mconcat_axis\u001b[0m \u001b[1;33m=\u001b[0m \u001b[0m_concat_indexes\u001b[0m\u001b[1;33m(\u001b[0m\u001b[0mindexes\u001b[0m\u001b[1;33m)\u001b[0m\u001b[1;33m\u001b[0m\u001b[1;33m\u001b[0m\u001b[0m\n\u001b[0m\u001b[0;32m    575\u001b[0m         \u001b[1;32melse\u001b[0m\u001b[1;33m:\u001b[0m\u001b[1;33m\u001b[0m\u001b[1;33m\u001b[0m\u001b[0m\n\u001b[0;32m    576\u001b[0m             concat_axis = _make_concat_multiindex(\n",
      "\u001b[1;32mC:\\Users\\Tomer\\anaconda3\\envs\\youreit\\lib\\site-packages\\pandas\\core\\reshape\\concat.py\u001b[0m in \u001b[0;36m_concat_indexes\u001b[1;34m(indexes)\u001b[0m\n\u001b[0;32m    590\u001b[0m \u001b[1;33m\u001b[0m\u001b[0m\n\u001b[0;32m    591\u001b[0m \u001b[1;32mdef\u001b[0m \u001b[0m_concat_indexes\u001b[0m\u001b[1;33m(\u001b[0m\u001b[0mindexes\u001b[0m\u001b[1;33m)\u001b[0m \u001b[1;33m->\u001b[0m \u001b[0mIndex\u001b[0m\u001b[1;33m:\u001b[0m\u001b[1;33m\u001b[0m\u001b[1;33m\u001b[0m\u001b[0m\n\u001b[1;32m--> 592\u001b[1;33m     \u001b[1;32mreturn\u001b[0m \u001b[0mindexes\u001b[0m\u001b[1;33m[\u001b[0m\u001b[1;36m0\u001b[0m\u001b[1;33m]\u001b[0m\u001b[1;33m.\u001b[0m\u001b[0mappend\u001b[0m\u001b[1;33m(\u001b[0m\u001b[0mindexes\u001b[0m\u001b[1;33m[\u001b[0m\u001b[1;36m1\u001b[0m\u001b[1;33m:\u001b[0m\u001b[1;33m]\u001b[0m\u001b[1;33m)\u001b[0m\u001b[1;33m\u001b[0m\u001b[1;33m\u001b[0m\u001b[0m\n\u001b[0m\u001b[0;32m    593\u001b[0m \u001b[1;33m\u001b[0m\u001b[0m\n\u001b[0;32m    594\u001b[0m \u001b[1;33m\u001b[0m\u001b[0m\n",
      "\u001b[1;32mC:\\Users\\Tomer\\anaconda3\\envs\\youreit\\lib\\site-packages\\pandas\\core\\indexes\\base.py\u001b[0m in \u001b[0;36mappend\u001b[1;34m(self, other)\u001b[0m\n\u001b[0;32m   4157\u001b[0m         \u001b[0mname\u001b[0m \u001b[1;33m=\u001b[0m \u001b[1;32mNone\u001b[0m \u001b[1;32mif\u001b[0m \u001b[0mlen\u001b[0m\u001b[1;33m(\u001b[0m\u001b[0mnames\u001b[0m\u001b[1;33m)\u001b[0m \u001b[1;33m>\u001b[0m \u001b[1;36m1\u001b[0m \u001b[1;32melse\u001b[0m \u001b[0mself\u001b[0m\u001b[1;33m.\u001b[0m\u001b[0mname\u001b[0m\u001b[1;33m\u001b[0m\u001b[1;33m\u001b[0m\u001b[0m\n\u001b[0;32m   4158\u001b[0m \u001b[1;33m\u001b[0m\u001b[0m\n\u001b[1;32m-> 4159\u001b[1;33m         \u001b[1;32mreturn\u001b[0m \u001b[0mself\u001b[0m\u001b[1;33m.\u001b[0m\u001b[0m_concat\u001b[0m\u001b[1;33m(\u001b[0m\u001b[0mto_concat\u001b[0m\u001b[1;33m,\u001b[0m \u001b[0mname\u001b[0m\u001b[1;33m)\u001b[0m\u001b[1;33m\u001b[0m\u001b[1;33m\u001b[0m\u001b[0m\n\u001b[0m\u001b[0;32m   4160\u001b[0m \u001b[1;33m\u001b[0m\u001b[0m\n\u001b[0;32m   4161\u001b[0m     \u001b[1;32mdef\u001b[0m \u001b[0m_concat\u001b[0m\u001b[1;33m(\u001b[0m\u001b[0mself\u001b[0m\u001b[1;33m,\u001b[0m \u001b[0mto_concat\u001b[0m\u001b[1;33m,\u001b[0m \u001b[0mname\u001b[0m\u001b[1;33m)\u001b[0m\u001b[1;33m:\u001b[0m\u001b[1;33m\u001b[0m\u001b[1;33m\u001b[0m\u001b[0m\n",
      "\u001b[1;32mC:\\Users\\Tomer\\anaconda3\\envs\\youreit\\lib\\site-packages\\pandas\\core\\indexes\\base.py\u001b[0m in \u001b[0;36m_concat\u001b[1;34m(self, to_concat, name)\u001b[0m\n\u001b[0;32m   4165\u001b[0m         \u001b[0mto_concat\u001b[0m \u001b[1;33m=\u001b[0m \u001b[1;33m[\u001b[0m\u001b[0mx\u001b[0m\u001b[1;33m.\u001b[0m\u001b[0m_values\u001b[0m \u001b[1;32mif\u001b[0m \u001b[0misinstance\u001b[0m\u001b[1;33m(\u001b[0m\u001b[0mx\u001b[0m\u001b[1;33m,\u001b[0m \u001b[0mIndex\u001b[0m\u001b[1;33m)\u001b[0m \u001b[1;32melse\u001b[0m \u001b[0mx\u001b[0m \u001b[1;32mfor\u001b[0m \u001b[0mx\u001b[0m \u001b[1;32min\u001b[0m \u001b[0mto_concat\u001b[0m\u001b[1;33m]\u001b[0m\u001b[1;33m\u001b[0m\u001b[1;33m\u001b[0m\u001b[0m\n\u001b[0;32m   4166\u001b[0m \u001b[1;33m\u001b[0m\u001b[0m\n\u001b[1;32m-> 4167\u001b[1;33m         \u001b[0mresult\u001b[0m \u001b[1;33m=\u001b[0m \u001b[0m_concat\u001b[0m\u001b[1;33m.\u001b[0m\u001b[0mconcat_compat\u001b[0m\u001b[1;33m(\u001b[0m\u001b[0mto_concat\u001b[0m\u001b[1;33m)\u001b[0m\u001b[1;33m\u001b[0m\u001b[1;33m\u001b[0m\u001b[0m\n\u001b[0m\u001b[0;32m   4168\u001b[0m         \u001b[1;32mreturn\u001b[0m \u001b[0mIndex\u001b[0m\u001b[1;33m(\u001b[0m\u001b[0mresult\u001b[0m\u001b[1;33m,\u001b[0m \u001b[0mname\u001b[0m\u001b[1;33m=\u001b[0m\u001b[0mname\u001b[0m\u001b[1;33m)\u001b[0m\u001b[1;33m\u001b[0m\u001b[1;33m\u001b[0m\u001b[0m\n\u001b[0;32m   4169\u001b[0m \u001b[1;33m\u001b[0m\u001b[0m\n",
      "\u001b[1;32mC:\\Users\\Tomer\\anaconda3\\envs\\youreit\\lib\\site-packages\\pandas\\core\\dtypes\\concat.py\u001b[0m in \u001b[0;36mconcat_compat\u001b[1;34m(to_concat, axis)\u001b[0m\n\u001b[0;32m    178\u001b[0m                 \u001b[0mto_concat\u001b[0m \u001b[1;33m=\u001b[0m \u001b[1;33m[\u001b[0m\u001b[0mx\u001b[0m\u001b[1;33m.\u001b[0m\u001b[0mastype\u001b[0m\u001b[1;33m(\u001b[0m\u001b[1;34m\"object\"\u001b[0m\u001b[1;33m)\u001b[0m \u001b[1;32mfor\u001b[0m \u001b[0mx\u001b[0m \u001b[1;32min\u001b[0m \u001b[0mto_concat\u001b[0m\u001b[1;33m]\u001b[0m\u001b[1;33m\u001b[0m\u001b[1;33m\u001b[0m\u001b[0m\n\u001b[0;32m    179\u001b[0m \u001b[1;33m\u001b[0m\u001b[0m\n\u001b[1;32m--> 180\u001b[1;33m     \u001b[1;32mreturn\u001b[0m \u001b[0mnp\u001b[0m\u001b[1;33m.\u001b[0m\u001b[0mconcatenate\u001b[0m\u001b[1;33m(\u001b[0m\u001b[0mto_concat\u001b[0m\u001b[1;33m,\u001b[0m \u001b[0maxis\u001b[0m\u001b[1;33m=\u001b[0m\u001b[0maxis\u001b[0m\u001b[1;33m)\u001b[0m\u001b[1;33m\u001b[0m\u001b[1;33m\u001b[0m\u001b[0m\n\u001b[0m\u001b[0;32m    181\u001b[0m \u001b[1;33m\u001b[0m\u001b[0m\n\u001b[0;32m    182\u001b[0m \u001b[1;33m\u001b[0m\u001b[0m\n",
      "\u001b[1;32m<__array_function__ internals>\u001b[0m in \u001b[0;36mconcatenate\u001b[1;34m(*args, **kwargs)\u001b[0m\n",
      "\u001b[1;31mKeyboardInterrupt\u001b[0m: "
     ]
    }
   ],
   "source": [
    "#we want to avoid duplicating instances with tags:frequency < L and instances with tags:frequency=max\n",
    "max_freq = Balanced_X_df.sum().max()\n",
    "threshold_freq = L * max_freq\n",
    "\n",
    "#labels that are not noise\n",
    "labels_to_keep_series = (Balanced_X_df.sum(axis=0) > threshold_freq).astype('int64')\n",
    "labels_to_keep_list = labels_to_keep_series.loc[labels_to_keep_series==1].index\n",
    "\n",
    "#throw out instances with mostly noise\n",
    "labels_to_avoid_series = (labels_to_keep_series == 0).astype('int64')\n",
    "avoid_df = Balanced_X_df.dot(labels_to_avoid_series)\n",
    "indicies_to_drop = avoid_df.loc[avoid_df>T].index\n",
    "Balanced_X_df = Balanced_X_df.drop(indicies_to_drop,axis='index')\n",
    "print(\"Dropped\",indicies_to_drop.shape[0],\"noisey instances!\")\n",
    "\n",
    "#computationally cheaper to reduce candidates for duplication at every iteration\n",
    "duplicatable_Balanced_X_df = Balanced_X_df.copy(deep=True)\n",
    "\n",
    "#number of duplications per iteration\n",
    "k = 10\n",
    "num_images_duplicated = 0\n",
    "while (1): \n",
    "\n",
    "    #check the current frequency of the labels\n",
    "    counts = Balanced_X_df.sum(axis=0)\n",
    "    labels_to_avoid = (counts < threshold_freq).astype('int64') | (counts >= max_freq).astype('int64')\n",
    "        \n",
    "    #the dot product of Balanced_X_df and labels_to_avoid will result in a series, where 0 indicates that row can be duped\n",
    "    duplication_df = duplicatable_Balanced_X_df.dot(labels_to_avoid)\n",
    "    \n",
    "    #choose k of the indicies\n",
    "    duplicatable_indicies = duplication_df.loc[duplication_df==0].index\n",
    "    num_choices = min(k,duplicatable_indicies.shape[0])\n",
    "    if(num_choices == 0):\n",
    "        print('No more images to duplicate!')\n",
    "        break\n",
    "    else:\n",
    "        print('Duplicating '+str(num_choices)+'/'+str(duplicatable_indicies.shape[0])+' images...')\n",
    "        \n",
    "    #keep only duplicatable images\n",
    "    duplicatable_Balanced_X_df = duplicatable_Balanced_X_df.loc[duplicatable_indicies,:]\n",
    "            \n",
    "    #duplicate the indicies_to_duplicate of the dataframe\n",
    "    indicies_to_duplicate = np.random.choice(duplicatable_indicies,num_choices,replace=False)\n",
    "    dataframe_to_append = Balanced_X_df.loc[indicies_to_duplicate , :]\n",
    "    Balanced_X_df = Balanced_X_df.append(dataframe_to_append)\n",
    "    \n",
    "    #update the number of images duplicated\n",
    "    num_images_duplicated += num_choices\n",
    "print('Duplicated '+str(num_images_duplicated)+' images!')"
   ]
  },
  {
   "cell_type": "markdown",
   "metadata": {},
   "source": [
    "## Visualize the balanced data"
   ]
  },
  {
   "cell_type": "code",
   "execution_count": null,
   "metadata": {},
   "outputs": [],
   "source": [
    "db.visualize_pdf(Balanced_X_df.loc[:,labels_to_keep_list])"
   ]
  },
  {
   "cell_type": "markdown",
   "metadata": {},
   "source": [
    "## Save to .csv"
   ]
  },
  {
   "cell_type": "code",
   "execution_count": null,
   "metadata": {},
   "outputs": [],
   "source": [
    "import os\n",
    "\n",
    "#save balanced tag lists to files\n",
    "tag_list_pathname = os.path.join(\"..\",\"HARRISON\",\"2.4_3_balanced_tag_list.txt\")\n",
    "data_list_pathname = os.path.join(\"..\",\"HARRISON\",\"2.4_3_balanced_data_list.txt\")\n",
    "\n",
    "tag_list_similarity_balanced_series = Balanced_X_df.dot((Balanced_X_df.columns.to_numpy() + \" \"))\n",
    "data_list_similarity_balanced_series = pd.Series(Balanced_X_df.index)\n",
    "\n",
    "tag_list_similarity_balanced_series.to_csv(tag_list_pathname,header=False,index=False)\n",
    "data_list_similarity_balanced_series.to_csv(data_list_pathname,header=False,index=False)"
   ]
  }
 ],
 "metadata": {
  "kernelspec": {
   "display_name": "Python 3",
   "language": "python",
   "name": "python3"
  },
  "language_info": {
   "codemirror_mode": {
    "name": "ipython",
    "version": 3
   },
   "file_extension": ".py",
   "mimetype": "text/x-python",
   "name": "python",
   "nbconvert_exporter": "python",
   "pygments_lexer": "ipython3",
   "version": "3.7.9"
  }
 },
 "nbformat": 4,
 "nbformat_minor": 2
}

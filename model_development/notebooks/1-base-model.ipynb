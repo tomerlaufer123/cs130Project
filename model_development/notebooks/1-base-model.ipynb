{
 "metadata": {
  "language_info": {
   "codemirror_mode": {
    "name": "ipython",
    "version": 3
   },
   "file_extension": ".py",
   "mimetype": "text/x-python",
   "name": "python",
   "nbconvert_exporter": "python",
   "pygments_lexer": "ipython3",
   "version": "3.7.9-final"
  },
  "orig_nbformat": 2,
  "kernelspec": {
   "name": "python3",
   "display_name": "Python 3.7.9 64-bit ('youreit': conda)",
   "metadata": {
    "interpreter": {
     "hash": "036400ab147c727a32e1594addfccc86371338bb65175d19c34515eac00cc03e"
    }
   }
  }
 },
 "nbformat": 4,
 "nbformat_minor": 2,
 "cells": [
  {
   "source": [
    "# 1. Base Model\n",
    "---\n",
    "\n",
    "In this notebook, we will prepare dataset and build a base model.\n",
    "\n",
    "## Import Libraries"
   ],
   "cell_type": "markdown",
   "metadata": {}
  },
  {
   "cell_type": "code",
   "execution_count": 1,
   "metadata": {},
   "outputs": [
    {
     "output_type": "stream",
     "name": "stderr",
     "text": [
      "Using TensorFlow backend.\n"
     ]
    }
   ],
   "source": [
    "from keras import preprocessing, Input, Model, optimizers\n",
    "from keras.preprocessing.image import ImageDataGenerator\n",
    "from keras.layers import Dense, Activation, Flatten, Dropout\n",
    "from keras.layers import Conv2D, MaxPooling2D\n",
    "import pandas as pd\n",
    "import numpy as np\n",
    "from sklearn.feature_extraction.text import CountVectorizer\n",
    "from sklearn.utils import shuffle\n",
    "import matplotlib.pyplot as plt\n",
    "\n",
    "from PIL import ImageFile\n",
    "ImageFile.LOAD_TRUNCATED_IMAGES = True\n",
    "\n",
    "import sys\n",
    "sys.path.append(\"../src\")\n",
    "from utils import destination"
   ]
  },
  {
   "source": [
    "## Create the Target Matrix\n",
    "Form ```tag_list.txt``` and ```data_list.txt``` in HARRISON dataset, we create a target matrix as a DataFrame."
   ],
   "cell_type": "markdown",
   "metadata": {}
  },
  {
   "cell_type": "code",
   "execution_count": 2,
   "metadata": {},
   "outputs": [
    {
     "output_type": "execute_result",
     "data": {
      "text/plain": [
       "             filename                                             labels\n",
       "0    sea_image_50.jpg  adventure beach fly instagram instapic lake oc...\n",
       "1  sea_image_1284.jpg                  beach lake ocean river sea water \n",
       "2  sea_image_1122.jpg  beach friendship joy lake love ocean passion r...\n",
       "3  sea_image_1679.jpg  adventure america beach europe germany island ...\n",
       "4  sea_image_1736.jpg  adventure beach boyfriend brother cloud cousin..."
      ],
      "text/html": "<div>\n<style scoped>\n    .dataframe tbody tr th:only-of-type {\n        vertical-align: middle;\n    }\n\n    .dataframe tbody tr th {\n        vertical-align: top;\n    }\n\n    .dataframe thead th {\n        text-align: right;\n    }\n</style>\n<table border=\"1\" class=\"dataframe\">\n  <thead>\n    <tr style=\"text-align: right;\">\n      <th></th>\n      <th>filename</th>\n      <th>labels</th>\n    </tr>\n  </thead>\n  <tbody>\n    <tr>\n      <th>0</th>\n      <td>sea_image_50.jpg</td>\n      <td>adventure beach fly instagram instapic lake oc...</td>\n    </tr>\n    <tr>\n      <th>1</th>\n      <td>sea_image_1284.jpg</td>\n      <td>beach lake ocean river sea water</td>\n    </tr>\n    <tr>\n      <th>2</th>\n      <td>sea_image_1122.jpg</td>\n      <td>beach friendship joy lake love ocean passion r...</td>\n    </tr>\n    <tr>\n      <th>3</th>\n      <td>sea_image_1679.jpg</td>\n      <td>adventure america beach europe germany island ...</td>\n    </tr>\n    <tr>\n      <th>4</th>\n      <td>sea_image_1736.jpg</td>\n      <td>adventure beach boyfriend brother cloud cousin...</td>\n    </tr>\n  </tbody>\n</table>\n</div>"
     },
     "metadata": {},
     "execution_count": 2
    }
   ],
   "source": [
    "DATA_LIST = \"../HARRISON/data_list_oversampled.txt\"\n",
    "TAG_LIST = \"../HARRISON/tag_list_oversampled.txt\"\n",
    "\n",
    "# Read files\n",
    "filename = pd.read_csv(DATA_LIST, names=[\"filename\"], header=None)\n",
    "hashtag = pd.read_csv(TAG_LIST, names=[\"labels\"], header=None,skip_blank_lines=False).fillna(\"\")\n",
    "\n",
    "# Convert filenames from \"instagram_dataset/xxx/yyy.jpg\" to \"xxx_yyy.jpg\"\n",
    "# filename[\"filename\"] = filename[\"filename\"].apply(lambda x: \"_\".join(x.split(\"/\")[1:]))\n",
    "\n",
    "# Concatenate filname and labels\n",
    "target = pd.concat([filename, hashtag], axis=1)\n",
    "target.head(5)"
   ]
  },
  {
   "cell_type": "code",
   "execution_count": 3,
   "metadata": {},
   "outputs": [
    {
     "output_type": "stream",
     "name": "stdout",
     "text": [
      "Number of images: 107383\nNumber of hashtags: 997\n"
     ]
    }
   ],
   "source": [
    "# Use vectorizer to generate a one-hot encoding\n",
    "vectorizer = CountVectorizer(binary=True)\n",
    "X = vectorizer.fit_transform(target[\"labels\"])\n",
    "columns = vectorizer.get_feature_names()\n",
    "X_df = pd.DataFrame(X.toarray(), columns=columns)\n",
    "\n",
    "# Combine hashtag encodings with file names\n",
    "target = pd.concat([target, X_df], axis=1)\n",
    "target = shuffle(target, random_state=42)\n",
    "\n",
    "num_images = target.shape[0]\n",
    "num_hashtags = X_df.shape[1]\n",
    "\n",
    "print(f\"Number of images: {num_images}\")\n",
    "print(f\"Number of hashtags: {num_hashtags}\")"
   ]
  },
  {
   "source": [
    "## Prepare Images"
   ],
   "cell_type": "markdown",
   "metadata": {}
  },
  {
   "cell_type": "code",
   "execution_count": 4,
   "metadata": {},
   "outputs": [
    {
     "output_type": "stream",
     "name": "stdout",
     "text": [
      "Found 75168 validated image filenames.\n",
      "Found 21476 validated image filenames.\n",
      "Found 10739 validated image filenames.\n"
     ]
    }
   ],
   "source": [
    "IMAGE_DIR = \"../HARRISON/images\"\n",
    "\n",
    "# Instanciate a data generator\n",
    "datagen = ImageDataGenerator(rescale=1./255.)\n",
    "\n",
    "# Use these values to split data into train, val, and test\n",
    "train_idx = int(target.shape[0] * .70)\n",
    "val_idx = int(target.shape[0] * .90)\n",
    "\n",
    "# Create train data generator\n",
    "train_generator = datagen.flow_from_dataframe(\n",
    "        dataframe=target[:train_idx],\n",
    "        directory=IMAGE_DIR,\n",
    "        x_col=\"filename\",\n",
    "        y_col=columns,\n",
    "        batch_size=32,\n",
    "        seed=42,\n",
    "        shuffle=True,\n",
    "        class_mode=\"raw\",\n",
    "        target_size=(100,100)\n",
    "    )\n",
    "\n",
    "# Create val data generator\n",
    "valid_generator = datagen.flow_from_dataframe(\n",
    "        dataframe=target[train_idx:val_idx],\n",
    "        directory=IMAGE_DIR,\n",
    "        x_col=\"filename\",\n",
    "        y_col=columns,\n",
    "        batch_size=32,\n",
    "        seed=42,\n",
    "        shuffle=True,\n",
    "        class_mode=\"raw\",\n",
    "        target_size=(100,100)\n",
    "    )\n",
    "\n",
    "# Create test data generator\n",
    "test_generator = datagen.flow_from_dataframe(\n",
    "        dataframe=target[val_idx:],\n",
    "        directory=IMAGE_DIR,\n",
    "        x_col=\"filename\",\n",
    "        batch_size=1,\n",
    "        seed=42,\n",
    "        shuffle=False,\n",
    "        class_mode=None,\n",
    "        target_size=(100,100)\n",
    "    )"
   ]
  },
  {
   "source": [
    "## Build a Model\n",
    "### 1. Multiple Output Nodes"
   ],
   "cell_type": "markdown",
   "metadata": {}
  },
  {
   "cell_type": "code",
   "execution_count": 5,
   "metadata": {
    "tags": []
   },
   "outputs": [],
   "source": [
    "# Define model\n",
    "inp = Input(shape=(100,100,3))\n",
    "x = Conv2D(32, (3, 3), padding='same')(inp)\n",
    "x = Activation('relu')(x)\n",
    "x = Conv2D(32, (3, 3))(x)\n",
    "x = Activation('relu')(x)\n",
    "x = MaxPooling2D(pool_size=(2, 2))(x)\n",
    "x = Dropout(0.25)(x)\n",
    "x = Conv2D(64, (3, 3), padding='same')(x)\n",
    "x = Activation('relu')(x)\n",
    "x = Conv2D(64, (3, 3))(x)\n",
    "x = Activation('relu')(x)\n",
    "x = MaxPooling2D(pool_size=(2, 2))(x)\n",
    "x = Dropout(0.25)(x)\n",
    "x = Flatten()(x)\n",
    "x = Dense(512)(x)\n",
    "x = Activation('relu')(x)\n",
    "x = Dropout(0.5)(x)\n",
    "output = []\n",
    "for i in range(num_hashtags):\n",
    "    output.append(Dense(1, activation='sigmoid')(x))\n",
    "\n",
    "model = Model(inp,output)\n",
    "\n",
    "# Compile model\n",
    "model.compile(optimizers.rmsprop(\n",
    "    lr=0.0001,\n",
    "    decay=1e-6),\n",
    "    loss = [\"binary_crossentropy\" for i in range(num_hashtags)],\n",
    "    metrics=[\"accuracy\"])"
   ]
  },
  {
   "source": [
    "## Fitting the Model"
   ],
   "cell_type": "markdown",
   "metadata": {}
  },
  {
   "cell_type": "code",
   "execution_count": 6,
   "metadata": {},
   "outputs": [],
   "source": [
    "def generator_wrapper(generator):\n",
    "    for batch_x,batch_y in generator:\n",
    "        yield (batch_x,[batch_y[:,i] for i in range(num_hashtags)])\n",
    "\n",
    "STEP_SIZE_TRAIN = train_generator.n//train_generator.batch_size\n",
    "STEP_SIZE_VALID = valid_generator.n//valid_generator.batch_size\n",
    "STEP_SIZE_TEST = test_generator.n//test_generator.batch_size\n",
    "\n",
    "history = model.fit_generator(generator=generator_wrapper(train_generator),\n",
    "    steps_per_epoch=STEP_SIZE_TRAIN,\n",
    "    validation_data=generator_wrapper(valid_generator),\n",
    "    validation_steps=STEP_SIZE_VALID,\n",
    "    epochs=1,\n",
    "    verbose=0)"
   ]
  },
  {
   "cell_type": "code",
   "execution_count": 7,
   "metadata": {},
   "outputs": [],
   "source": [
    "# Save model for future use\n",
    "dest = os.path.join(\"..\", \"model\")\n",
    "model.save(destination(dest, \"keras_model_oversampled\"))"
   ]
  },
  {
   "source": [
    "## Prediction"
   ],
   "cell_type": "markdown",
   "metadata": {}
  },
  {
   "cell_type": "code",
   "execution_count": 10,
   "metadata": {},
   "outputs": [
    {
     "output_type": "stream",
     "name": "stdout",
     "text": [
      "10739/10739 [==============================] - 581s 54ms/step\n"
     ]
    }
   ],
   "source": [
    "test_generator.reset()\n",
    "pred = model.predict_generator(test_generator, steps=STEP_SIZE_TEST, verbose=1)"
   ]
  },
  {
   "cell_type": "code",
   "execution_count": 109,
   "metadata": {},
   "outputs": [
    {
     "output_type": "execute_result",
     "data": {
      "text/plain": [
       "                      filename  \\\n",
       "0        school_image_3897.jpg   \n",
       "1  justinbieber_image_3861.jpg   \n",
       "2  justinbieber_image_6242.jpg   \n",
       "3        fashion_image_457.jpg   \n",
       "4  justinbieber_image_9023.jpg   \n",
       "\n",
       "                                              y_true  \\\n",
       "0  brazil colombia country energy fly gopro outdo...   \n",
       "1  actor arianagrande dance dancer japanese justi...   \n",
       "2  belieber beliebers bizzle kidrauhl myworld pur...   \n",
       "3  chic fashion fashionable fashionista menswear ...   \n",
       "4  arianagrande followforfollow followtrain gainp...   \n",
       "\n",
       "                                              y_pred  \n",
       "0  {'wonderful': 5.5500836, 'mother': 4.6565623, ...  \n",
       "1  {'blue': 7.9821415, 'purple': 6.717256, 'yello...  \n",
       "2  {'mother': 6.5127997, 'wonderful': 5.7173877, ...  \n",
       "3  {'wonderful': 6.444609, 'mother': 6.133388, 'p...  \n",
       "4  {'mother': 4.7865744, 'wonderful': 4.5713468, ...  "
      ],
      "text/html": "<div>\n<style scoped>\n    .dataframe tbody tr th:only-of-type {\n        vertical-align: middle;\n    }\n\n    .dataframe tbody tr th {\n        vertical-align: top;\n    }\n\n    .dataframe thead th {\n        text-align: right;\n    }\n</style>\n<table border=\"1\" class=\"dataframe\">\n  <thead>\n    <tr style=\"text-align: right;\">\n      <th></th>\n      <th>filename</th>\n      <th>y_true</th>\n      <th>y_pred</th>\n    </tr>\n  </thead>\n  <tbody>\n    <tr>\n      <th>0</th>\n      <td>school_image_3897.jpg</td>\n      <td>brazil colombia country energy fly gopro outdo...</td>\n      <td>{'wonderful': 5.5500836, 'mother': 4.6565623, ...</td>\n    </tr>\n    <tr>\n      <th>1</th>\n      <td>justinbieber_image_3861.jpg</td>\n      <td>actor arianagrande dance dancer japanese justi...</td>\n      <td>{'blue': 7.9821415, 'purple': 6.717256, 'yello...</td>\n    </tr>\n    <tr>\n      <th>2</th>\n      <td>justinbieber_image_6242.jpg</td>\n      <td>belieber beliebers bizzle kidrauhl myworld pur...</td>\n      <td>{'mother': 6.5127997, 'wonderful': 5.7173877, ...</td>\n    </tr>\n    <tr>\n      <th>3</th>\n      <td>fashion_image_457.jpg</td>\n      <td>chic fashion fashionable fashionista menswear ...</td>\n      <td>{'wonderful': 6.444609, 'mother': 6.133388, 'p...</td>\n    </tr>\n    <tr>\n      <th>4</th>\n      <td>justinbieber_image_9023.jpg</td>\n      <td>arianagrande followforfollow followtrain gainp...</td>\n      <td>{'mother': 4.7865744, 'wonderful': 4.5713468, ...</td>\n    </tr>\n  </tbody>\n</table>\n</div>"
     },
     "metadata": {},
     "execution_count": 109
    }
   ],
   "source": [
    "# Zscore normalization\n",
    "pred_reshaped = np.array(pred).reshape((num_hashtags, num_images-val_idx)).transpose()\n",
    "normalized = (pred_reshaped - pred_reshaped.mean())/pred_reshaped.std()\n",
    "abv3std = np.where(normalized>3, normalized, 0)\n",
    "\n",
    "# Get lists of hashtags\n",
    "y_pred = pd.concat([\n",
    "    pd.Series(test_generator.filenames, name=\"filename\"),\n",
    "    pd.Series([get_conf(row) for row in abv3std], name=\"y_pred\")],\n",
    "    axis=1)\n",
    "\n",
    "results = target[[\"filename\", \"labels\"]][val_idx:]\n",
    "results.rename(columns={\"labels\": 'y_true'}, inplace=True)\n",
    "results.index = y_pred.index\n",
    "results[\"y_pred\"] = y_pred[\"y_pred\"]\n",
    "results.head()"
   ]
  },
  {
   "source": [
    "## Some of the Pictures with predicted hashtags\n",
    "Only 10 of the predicted hashtags are shown with the pictures."
   ],
   "cell_type": "markdown",
   "metadata": {}
  },
  {
   "cell_type": "code",
   "execution_count": 91,
   "metadata": {},
   "outputs": [
    {
     "output_type": "display_data",
     "data": {
      "text/plain": "<IPython.core.display.HTML object>",
      "text/html": "\n    <style>\n        #ipyplot-html-viewer-toggle-ZNyz3fmNZYJ24ysexyVTzR {\n            position: absolute;\n            top: -9999px;\n            left: -9999px;\n            visibility: hidden;\n        }\n\n        #ipyplot-html-viewer-label-ZNyz3fmNZYJ24ysexyVTzR { \n            position: relative;\n            display: inline-block;\n            cursor: pointer;\n            color: blue;\n            text-decoration: underline;\n        }\n\n        #ipyplot-html-viewer-textarea-ZNyz3fmNZYJ24ysexyVTzR {\n            background: lightgrey;\n            width: 100%;\n            height: 0px;\n            display: none;\n        }\n\n        #ipyplot-html-viewer-toggle-ZNyz3fmNZYJ24ysexyVTzR:checked ~ #ipyplot-html-viewer-textarea-ZNyz3fmNZYJ24ysexyVTzR {\n            height: 200px;\n            display: block;\n        }\n\n        #ipyplot-html-viewer-toggle-ZNyz3fmNZYJ24ysexyVTzR:checked + #ipyplot-html-viewer-label-ZNyz3fmNZYJ24ysexyVTzR:after {\n            content: \"hide html\";\n            position: absolute;\n            top: 0;\n            left: 0;\n            right: 0;\n            bottom: 0;\n            background: white;\n            cursor: pointer;\n            color: blue;\n            text-decoration: underline;\n        }\n    </style>\n    <div>\n        <input type=\"checkbox\" id=\"ipyplot-html-viewer-toggle-ZNyz3fmNZYJ24ysexyVTzR\">\n        <label id=\"ipyplot-html-viewer-label-ZNyz3fmNZYJ24ysexyVTzR\" for=\"ipyplot-html-viewer-toggle-ZNyz3fmNZYJ24ysexyVTzR\">show html</label>\n        <textarea id=\"ipyplot-html-viewer-textarea-ZNyz3fmNZYJ24ysexyVTzR\" readonly>\n            \n        <style>\n        #ipyplot-imgs-container-div-KrjfbwXv6KpMGWckH8uF4P {\n            width: 100%;\n            height: 100%;\n            margin: 0%;\n            overflow: auto;\n            position: relative;\n            overflow-y: scroll;\n        }\n\n        div.ipyplot-placeholder-div-KrjfbwXv6KpMGWckH8uF4P {\n            width: 150px;\n            display: inline-block;\n            margin: 3px;\n            position: relative;\n        }\n\n        div.ipyplot-content-div-KrjfbwXv6KpMGWckH8uF4P {\n            width: 150px;\n            background: white;\n            display: inline-block;\n            vertical-align: top;\n            text-align: center;\n            position: relative;\n            border: 2px solid #ddd;\n            top: 0;\n            left: 0;\n        }\n\n        div.ipyplot-content-div-KrjfbwXv6KpMGWckH8uF4P span.ipyplot-img-close {\n            display: none;\n        }\n\n        div.ipyplot-content-div-KrjfbwXv6KpMGWckH8uF4P span {\n            width: 100%;\n            height: 100%;\n            position: absolute;\n            top: 0;\n            left: 0;\n        }\n\n        div.ipyplot-content-div-KrjfbwXv6KpMGWckH8uF4P img {\n            width: 150px;\n        }\n\n        div.ipyplot-content-div-KrjfbwXv6KpMGWckH8uF4P span.ipyplot-img-close:hover {\n            cursor: zoom-out;\n        }\n        div.ipyplot-content-div-KrjfbwXv6KpMGWckH8uF4P span.ipyplot-img-expand:hover {\n            cursor: zoom-in;\n        }\n\n        div[id^=ipyplot-content-div-KrjfbwXv6KpMGWckH8uF4P]:target {\n            transform: scale(2.5);\n            transform-origin: left top;\n            z-index: 5000;\n            top: 0;\n            left: 0;\n            position: absolute;\n        }\n\n        div[id^=ipyplot-content-div-KrjfbwXv6KpMGWckH8uF4P]:target span.ipyplot-img-close {\n            display: block;\n        }\n\n        div[id^=ipyplot-content-div-KrjfbwXv6KpMGWckH8uF4P]:target span.ipyplot-img-expand {\n            display: none;\n        }\n        </style>\n    <div id=\"ipyplot-imgs-container-div-KrjfbwXv6KpMGWckH8uF4P\">\n    <div class=\"ipyplot-placeholder-div-KrjfbwXv6KpMGWckH8uF4P\">\n        <div id=\"ipyplot-content-div-KrjfbwXv6KpMGWckH8uF4P-JYy7tdEDdSQLYzLZqtshFa\" class=\"ipyplot-content-div-KrjfbwXv6KpMGWckH8uF4P\">\n            <h4 style=\"font-size: 12px; word-wrap: break-word;\">['wonderful(5.5501)', 'mother(4.6566)', 'purple(4.4671)', 'joy(4.1869)', 'yellow(4.0154)', 'red(3.9399)', 'blue(3.8152)', 'nice(3.6618)', 'daughter(3.6106)', 'pink(3.0616)']</h4>\n            <h4 style=\"font-size: 9px; padding-left: 10px; padding-right: 10px; width: 95%; word-wrap: break-word; white-space: normal;\">../HARRISON/images/school_image_3897.jpg</h4><img src=\"../HARRISON/images/school_image_3897.jpg\"/>\n            <a href=\"#!\">\n                <span class=\"ipyplot-img-close\"/>\n            </a>\n            <a href=\"#ipyplot-content-div-KrjfbwXv6KpMGWckH8uF4P-JYy7tdEDdSQLYzLZqtshFa\">\n                <span class=\"ipyplot-img-expand\"/>\n            </a>\n        </div>\n    </div>\n    \n    <div class=\"ipyplot-placeholder-div-KrjfbwXv6KpMGWckH8uF4P\">\n        <div id=\"ipyplot-content-div-KrjfbwXv6KpMGWckH8uF4P-G8qMJuWVpv9Gwht6euxyzk\" class=\"ipyplot-content-div-KrjfbwXv6KpMGWckH8uF4P\">\n            <h4 style=\"font-size: 12px; word-wrap: break-word;\">['blue(7.9821)', 'purple(6.7173)', 'yellow(6.7114)', 'pink(6.1484)', 'wonderful(5.9728)', 'mother(5.3616)', 'red(5.3574)', 'joy(5.2313)', 'yummy(5.1743)', 'orange(5.1620)']</h4>\n            <h4 style=\"font-size: 9px; padding-left: 10px; padding-right: 10px; width: 95%; word-wrap: break-word; white-space: normal;\">../HARRISON/images/justinbieber_image_3861.jpg</h4><img src=\"../HARRISON/images/justinbieber_image_3861.jpg\"/>\n            <a href=\"#!\">\n                <span class=\"ipyplot-img-close\"/>\n            </a>\n            <a href=\"#ipyplot-content-div-KrjfbwXv6KpMGWckH8uF4P-G8qMJuWVpv9Gwht6euxyzk\">\n                <span class=\"ipyplot-img-expand\"/>\n            </a>\n        </div>\n    </div>\n    \n    <div class=\"ipyplot-placeholder-div-KrjfbwXv6KpMGWckH8uF4P\">\n        <div id=\"ipyplot-content-div-KrjfbwXv6KpMGWckH8uF4P-4aCBABstWHiHNq56mpet9Q\" class=\"ipyplot-content-div-KrjfbwXv6KpMGWckH8uF4P\">\n            <h4 style=\"font-size: 12px; word-wrap: break-word;\">['mother(6.5128)', 'wonderful(5.7174)', 'daughter(4.4727)', 'joy(4.4362)', 'nice(4.1815)', 'silly(3.6145)', 'red(3.5849)', 'blue(3.5277)', 'cousin(3.4974)', 'purple(3.2012)']</h4>\n            <h4 style=\"font-size: 9px; padding-left: 10px; padding-right: 10px; width: 95%; word-wrap: break-word; white-space: normal;\">../HARRISON/images/justinbieber_image_6242.jpg</h4><img src=\"../HARRISON/images/justinbieber_image_6242.jpg\"/>\n            <a href=\"#!\">\n                <span class=\"ipyplot-img-close\"/>\n            </a>\n            <a href=\"#ipyplot-content-div-KrjfbwXv6KpMGWckH8uF4P-4aCBABstWHiHNq56mpet9Q\">\n                <span class=\"ipyplot-img-expand\"/>\n            </a>\n        </div>\n    </div>\n    \n    <div class=\"ipyplot-placeholder-div-KrjfbwXv6KpMGWckH8uF4P\">\n        <div id=\"ipyplot-content-div-KrjfbwXv6KpMGWckH8uF4P-7Evqus9yNLX2b2p45sGC5K\" class=\"ipyplot-content-div-KrjfbwXv6KpMGWckH8uF4P\">\n            <h4 style=\"font-size: 12px; word-wrap: break-word;\">['wonderful(6.4446)', 'mother(6.1334)', 'purple(5.4104)', 'blue(4.7821)', 'red(4.6030)', 'daughter(4.4250)', 'joy(4.4223)', 'nice(4.2487)', 'yellow(3.8231)', 'passion(3.6149)']</h4>\n            <h4 style=\"font-size: 9px; padding-left: 10px; padding-right: 10px; width: 95%; word-wrap: break-word; white-space: normal;\">../HARRISON/images/fashion_image_457.jpg</h4><img src=\"../HARRISON/images/fashion_image_457.jpg\"/>\n            <a href=\"#!\">\n                <span class=\"ipyplot-img-close\"/>\n            </a>\n            <a href=\"#ipyplot-content-div-KrjfbwXv6KpMGWckH8uF4P-7Evqus9yNLX2b2p45sGC5K\">\n                <span class=\"ipyplot-img-expand\"/>\n            </a>\n        </div>\n    </div>\n    \n    <div class=\"ipyplot-placeholder-div-KrjfbwXv6KpMGWckH8uF4P\">\n        <div id=\"ipyplot-content-div-KrjfbwXv6KpMGWckH8uF4P-Ka2QaXG7Mpy65Z73qZhrX3\" class=\"ipyplot-content-div-KrjfbwXv6KpMGWckH8uF4P\">\n            <h4 style=\"font-size: 12px; word-wrap: break-word;\">['mother(4.7866)', 'wonderful(4.5713)', 'pink(4.0837)', 'joy(3.9871)', 'purple(3.6577)', 'blue(3.6158)', 'silly(3.4291)', 'daughter(3.3161)', 'nice(3.2037)', 'red(3.1291)']</h4>\n            <h4 style=\"font-size: 9px; padding-left: 10px; padding-right: 10px; width: 95%; word-wrap: break-word; white-space: normal;\">../HARRISON/images/justinbieber_image_9023.jpg</h4><img src=\"../HARRISON/images/justinbieber_image_9023.jpg\"/>\n            <a href=\"#!\">\n                <span class=\"ipyplot-img-close\"/>\n            </a>\n            <a href=\"#ipyplot-content-div-KrjfbwXv6KpMGWckH8uF4P-Ka2QaXG7Mpy65Z73qZhrX3\">\n                <span class=\"ipyplot-img-expand\"/>\n            </a>\n        </div>\n    </div>\n    \n    <div class=\"ipyplot-placeholder-div-KrjfbwXv6KpMGWckH8uF4P\">\n        <div id=\"ipyplot-content-div-KrjfbwXv6KpMGWckH8uF4P-JMzqjnbKEigtMBqkgbyy8g\" class=\"ipyplot-content-div-KrjfbwXv6KpMGWckH8uF4P\">\n            <h4 style=\"font-size: 12px; word-wrap: break-word;\">['beach(10.3354)', 'ocean(9.7719)', 'wonderful(8.1995)', 'sun(7.8498)', 'island(7.0644)', 'joy(6.6172)', 'blue(6.4666)', 'winter(6.4317)', 'surf(6.3703)', 'mother(5.4958)']</h4>\n            <h4 style=\"font-size: 9px; padding-left: 10px; padding-right: 10px; width: 95%; word-wrap: break-word; white-space: normal;\">../HARRISON/images/beach_image_5369.jpg</h4><img src=\"../HARRISON/images/beach_image_5369.jpg\"/>\n            <a href=\"#!\">\n                <span class=\"ipyplot-img-close\"/>\n            </a>\n            <a href=\"#ipyplot-content-div-KrjfbwXv6KpMGWckH8uF4P-JMzqjnbKEigtMBqkgbyy8g\">\n                <span class=\"ipyplot-img-expand\"/>\n            </a>\n        </div>\n    </div>\n    \n    <div class=\"ipyplot-placeholder-div-KrjfbwXv6KpMGWckH8uF4P\">\n        <div id=\"ipyplot-content-div-KrjfbwXv6KpMGWckH8uF4P-h2XvcVBooAr2b3TGtoF9Ym\" class=\"ipyplot-content-div-KrjfbwXv6KpMGWckH8uF4P\">\n            <h4 style=\"font-size: 12px; word-wrap: break-word;\">['mother(6.5046)', 'wonderful(5.8344)', 'daughter(4.4417)', 'joy(4.3979)', 'blue(4.3903)', 'silly(4.3882)', 'nice(4.1161)', 'boyfriend(3.9550)', 'purple(3.6670)', 'cousin(3.3420)']</h4>\n            <h4 style=\"font-size: 9px; padding-left: 10px; padding-right: 10px; width: 95%; word-wrap: break-word; white-space: normal;\">../HARRISON/images/family_image_4862.jpg</h4><img src=\"../HARRISON/images/family_image_4862.jpg\"/>\n            <a href=\"#!\">\n                <span class=\"ipyplot-img-close\"/>\n            </a>\n            <a href=\"#ipyplot-content-div-KrjfbwXv6KpMGWckH8uF4P-h2XvcVBooAr2b3TGtoF9Ym\">\n                <span class=\"ipyplot-img-expand\"/>\n            </a>\n        </div>\n    </div>\n    \n    <div class=\"ipyplot-placeholder-div-KrjfbwXv6KpMGWckH8uF4P\">\n        <div id=\"ipyplot-content-div-KrjfbwXv6KpMGWckH8uF4P-TYErgQXKUg8AVHdFhTbHRh\" class=\"ipyplot-content-div-KrjfbwXv6KpMGWckH8uF4P\">\n            <h4 style=\"font-size: 12px; word-wrap: break-word;\">['beach(7.2414)', 'wonderful(6.6746)', 'mother(5.7279)', 'joy(5.6908)', 'sun(5.4828)', 'ocean(5.3534)', 'nice(4.9592)', 'blue(4.7660)', 'cousin(4.1109)', 'island(4.1009)']</h4>\n            <h4 style=\"font-size: 9px; padding-left: 10px; padding-right: 10px; width: 95%; word-wrap: break-word; white-space: normal;\">../HARRISON/images/sea_image_1122.jpg</h4><img src=\"../HARRISON/images/sea_image_1122.jpg\"/>\n            <a href=\"#!\">\n                <span class=\"ipyplot-img-close\"/>\n            </a>\n            <a href=\"#ipyplot-content-div-KrjfbwXv6KpMGWckH8uF4P-TYErgQXKUg8AVHdFhTbHRh\">\n                <span class=\"ipyplot-img-expand\"/>\n            </a>\n        </div>\n    </div>\n    \n    <div class=\"ipyplot-placeholder-div-KrjfbwXv6KpMGWckH8uF4P\">\n        <div id=\"ipyplot-content-div-KrjfbwXv6KpMGWckH8uF4P-g9Abtzpqu4HeUkh5AVeYiP\" class=\"ipyplot-content-div-KrjfbwXv6KpMGWckH8uF4P\">\n            <h4 style=\"font-size: 12px; word-wrap: break-word;\">['ocean(10.6770)', 'beach(10.0728)', 'wonderful(8.1198)', 'winter(7.1479)', 'sun(7.0831)', 'surf(6.9624)', 'joy(6.9517)', 'mother(6.7600)', 'nice(6.6393)', 'island(6.4356)']</h4>\n            <h4 style=\"font-size: 9px; padding-left: 10px; padding-right: 10px; width: 95%; word-wrap: break-word; white-space: normal;\">../HARRISON/images/snow_image_4344.jpg</h4><img src=\"../HARRISON/images/snow_image_4344.jpg\"/>\n            <a href=\"#!\">\n                <span class=\"ipyplot-img-close\"/>\n            </a>\n            <a href=\"#ipyplot-content-div-KrjfbwXv6KpMGWckH8uF4P-g9Abtzpqu4HeUkh5AVeYiP\">\n                <span class=\"ipyplot-img-expand\"/>\n            </a>\n        </div>\n    </div>\n    \n    <div class=\"ipyplot-placeholder-div-KrjfbwXv6KpMGWckH8uF4P\">\n        <div id=\"ipyplot-content-div-KrjfbwXv6KpMGWckH8uF4P-dQ5XkjePteaDdE6K35JFEL\" class=\"ipyplot-content-div-KrjfbwXv6KpMGWckH8uF4P\">\n            <h4 style=\"font-size: 12px; word-wrap: break-word;\">['wonderful(5.5052)', 'mother(5.1670)', 'joy(4.0564)', 'blue(4.0168)', 'nice(3.9190)', 'cousin(3.7388)', 'purple(3.6081)', 'red(3.5346)', 'daughter(3.4372)', 'yellow(3.3020)']</h4>\n            <h4 style=\"font-size: 9px; padding-left: 10px; padding-right: 10px; width: 95%; word-wrap: break-word; white-space: normal;\">../HARRISON/images/friends_image_1691.jpg</h4><img src=\"../HARRISON/images/friends_image_1691.jpg\"/>\n            <a href=\"#!\">\n                <span class=\"ipyplot-img-close\"/>\n            </a>\n            <a href=\"#ipyplot-content-div-KrjfbwXv6KpMGWckH8uF4P-dQ5XkjePteaDdE6K35JFEL\">\n                <span class=\"ipyplot-img-expand\"/>\n            </a>\n        </div>\n    </div>\n    \n    <div class=\"ipyplot-placeholder-div-KrjfbwXv6KpMGWckH8uF4P\">\n        <div id=\"ipyplot-content-div-KrjfbwXv6KpMGWckH8uF4P-Be8pgZw5aabbMV5BJsgPJT\" class=\"ipyplot-content-div-KrjfbwXv6KpMGWckH8uF4P\">\n            <h4 style=\"font-size: 12px; word-wrap: break-word;\">['mother(5.7878)', 'wonderful(5.4383)', 'daughter(4.6657)', 'blue(4.2904)', 'silly(4.0390)', 'purple(3.9793)', 'nice(3.9648)', 'love(3.9178)', 'joy(3.7508)', 'passion(3.6507)']</h4>\n            <h4 style=\"font-size: 9px; padding-left: 10px; padding-right: 10px; width: 95%; word-wrap: break-word; white-space: normal;\">../HARRISON/images/justinbieber_image_4026.jpg</h4><img src=\"../HARRISON/images/justinbieber_image_4026.jpg\"/>\n            <a href=\"#!\">\n                <span class=\"ipyplot-img-close\"/>\n            </a>\n            <a href=\"#ipyplot-content-div-KrjfbwXv6KpMGWckH8uF4P-Be8pgZw5aabbMV5BJsgPJT\">\n                <span class=\"ipyplot-img-expand\"/>\n            </a>\n        </div>\n    </div>\n    \n    <div class=\"ipyplot-placeholder-div-KrjfbwXv6KpMGWckH8uF4P\">\n        <div id=\"ipyplot-content-div-KrjfbwXv6KpMGWckH8uF4P-F4NxgWuRLZSwzNUDCvmYwr\" class=\"ipyplot-content-div-KrjfbwXv6KpMGWckH8uF4P\">\n            <h4 style=\"font-size: 12px; word-wrap: break-word;\">['purple(7.8207)', 'blue(7.6718)', 'yellow(6.7375)', 'wonderful(5.8873)', 'red(5.8052)', 'nice(5.7142)', 'mother(5.6438)', 'pink(5.5403)', 'yummy(5.0484)', 'daughter(5.0065)']</h4>\n            <h4 style=\"font-size: 9px; padding-left: 10px; padding-right: 10px; width: 95%; word-wrap: break-word; white-space: normal;\">../HARRISON/images/tree_image_668.jpg</h4><img src=\"../HARRISON/images/tree_image_668.jpg\"/>\n            <a href=\"#!\">\n                <span class=\"ipyplot-img-close\"/>\n            </a>\n            <a href=\"#ipyplot-content-div-KrjfbwXv6KpMGWckH8uF4P-F4NxgWuRLZSwzNUDCvmYwr\">\n                <span class=\"ipyplot-img-expand\"/>\n            </a>\n        </div>\n    </div>\n    \n    <div class=\"ipyplot-placeholder-div-KrjfbwXv6KpMGWckH8uF4P\">\n        <div id=\"ipyplot-content-div-KrjfbwXv6KpMGWckH8uF4P-d5Bx4bqEAHLVNPHtZTXoyz\" class=\"ipyplot-content-div-KrjfbwXv6KpMGWckH8uF4P\">\n            <h4 style=\"font-size: 12px; word-wrap: break-word;\">['mother(6.0437)', 'wonderful(4.5980)', 'daughter(3.9144)', 'joy(3.9061)', 'silly(3.6147)', 'red(3.0768)', 'romance(3.0049)']</h4>\n            <h4 style=\"font-size: 9px; padding-left: 10px; padding-right: 10px; width: 95%; word-wrap: break-word; white-space: normal;\">../HARRISON/images/makeup_image_331.jpg</h4><img src=\"../HARRISON/images/makeup_image_331.jpg\"/>\n            <a href=\"#!\">\n                <span class=\"ipyplot-img-close\"/>\n            </a>\n            <a href=\"#ipyplot-content-div-KrjfbwXv6KpMGWckH8uF4P-d5Bx4bqEAHLVNPHtZTXoyz\">\n                <span class=\"ipyplot-img-expand\"/>\n            </a>\n        </div>\n    </div>\n    \n    <div class=\"ipyplot-placeholder-div-KrjfbwXv6KpMGWckH8uF4P\">\n        <div id=\"ipyplot-content-div-KrjfbwXv6KpMGWckH8uF4P-agiEWTTu37RdGM5dzoH7o7\" class=\"ipyplot-content-div-KrjfbwXv6KpMGWckH8uF4P\">\n            <h4 style=\"font-size: 12px; word-wrap: break-word;\">['mother(5.3384)', 'wonderful(4.6236)', 'purple(4.1401)', 'yummy(4.0045)', 'dessert(3.9607)', 'daughter(3.9310)', 'pink(3.7924)', 'blue(3.7163)', 'nice(3.5183)', 'red(3.4263)']</h4>\n            <h4 style=\"font-size: 9px; padding-left: 10px; padding-right: 10px; width: 95%; word-wrap: break-word; white-space: normal;\">../HARRISON/images/makeup_image_826.jpg</h4><img src=\"../HARRISON/images/makeup_image_826.jpg\"/>\n            <a href=\"#!\">\n                <span class=\"ipyplot-img-close\"/>\n            </a>\n            <a href=\"#ipyplot-content-div-KrjfbwXv6KpMGWckH8uF4P-agiEWTTu37RdGM5dzoH7o7\">\n                <span class=\"ipyplot-img-expand\"/>\n            </a>\n        </div>\n    </div>\n    \n    <div class=\"ipyplot-placeholder-div-KrjfbwXv6KpMGWckH8uF4P\">\n        <div id=\"ipyplot-content-div-KrjfbwXv6KpMGWckH8uF4P-TtydFmAz49bRcX6vWamMoX\" class=\"ipyplot-content-div-KrjfbwXv6KpMGWckH8uF4P\">\n            <h4 style=\"font-size: 12px; word-wrap: break-word;\">['blue(8.7726)', 'purple(8.1104)', 'wonderful(6.4961)', 'red(6.4914)', 'nice(6.4122)', 'mother(6.1574)', 'yellow(5.9516)', 'daughter(5.8519)', 'joy(5.5276)', 'pink(5.4377)']</h4>\n            <h4 style=\"font-size: 9px; padding-left: 10px; padding-right: 10px; width: 95%; word-wrap: break-word; white-space: normal;\">../HARRISON/images/yellow_image_1890.jpg</h4><img src=\"../HARRISON/images/yellow_image_1890.jpg\"/>\n            <a href=\"#!\">\n                <span class=\"ipyplot-img-close\"/>\n            </a>\n            <a href=\"#ipyplot-content-div-KrjfbwXv6KpMGWckH8uF4P-TtydFmAz49bRcX6vWamMoX\">\n                <span class=\"ipyplot-img-expand\"/>\n            </a>\n        </div>\n    </div>\n    \n    <div class=\"ipyplot-placeholder-div-KrjfbwXv6KpMGWckH8uF4P\">\n        <div id=\"ipyplot-content-div-KrjfbwXv6KpMGWckH8uF4P-UBHPTUuE2AHaw3QxatM9CE\" class=\"ipyplot-content-div-KrjfbwXv6KpMGWckH8uF4P\">\n            <h4 style=\"font-size: 12px; word-wrap: break-word;\">['wonderful(7.6493)', 'mother(6.6298)', 'nice(5.8320)', 'daughter(5.8221)', 'joy(5.6093)', 'purple(5.4799)', 'red(5.2107)', 'blue(5.1652)', 'ocean(5.0874)', 'silly(5.0622)']</h4>\n            <h4 style=\"font-size: 9px; padding-left: 10px; padding-right: 10px; width: 95%; word-wrap: break-word; white-space: normal;\">../HARRISON/images/bored_image_6820.jpg</h4><img src=\"../HARRISON/images/bored_image_6820.jpg\"/>\n            <a href=\"#!\">\n                <span class=\"ipyplot-img-close\"/>\n            </a>\n            <a href=\"#ipyplot-content-div-KrjfbwXv6KpMGWckH8uF4P-UBHPTUuE2AHaw3QxatM9CE\">\n                <span class=\"ipyplot-img-expand\"/>\n            </a>\n        </div>\n    </div>\n    \n    <div class=\"ipyplot-placeholder-div-KrjfbwXv6KpMGWckH8uF4P\">\n        <div id=\"ipyplot-content-div-KrjfbwXv6KpMGWckH8uF4P-YVadaTetgTuTpuwV5dyJbM\" class=\"ipyplot-content-div-KrjfbwXv6KpMGWckH8uF4P\">\n            <h4 style=\"font-size: 12px; word-wrap: break-word;\">['beach(13.2779)', 'ocean(13.0059)', 'surf(10.4829)', 'island(9.1309)', 'winter(8.4899)', 'wonderful(8.4747)', 'yellow(7.9446)', 'seaside(7.8448)', 'sand(7.8241)', 'sun(7.7851)']</h4>\n            <h4 style=\"font-size: 9px; padding-left: 10px; padding-right: 10px; width: 95%; word-wrap: break-word; white-space: normal;\">../HARRISON/images/yellow_image_1082.jpg</h4><img src=\"../HARRISON/images/yellow_image_1082.jpg\"/>\n            <a href=\"#!\">\n                <span class=\"ipyplot-img-close\"/>\n            </a>\n            <a href=\"#ipyplot-content-div-KrjfbwXv6KpMGWckH8uF4P-YVadaTetgTuTpuwV5dyJbM\">\n                <span class=\"ipyplot-img-expand\"/>\n            </a>\n        </div>\n    </div>\n    \n    <div class=\"ipyplot-placeholder-div-KrjfbwXv6KpMGWckH8uF4P\">\n        <div id=\"ipyplot-content-div-KrjfbwXv6KpMGWckH8uF4P-9vqvkAszh46KiXV6sTFBrP\" class=\"ipyplot-content-div-KrjfbwXv6KpMGWckH8uF4P\">\n            <h4 style=\"font-size: 12px; word-wrap: break-word;\">['wonderful(7.1245)', 'joy(5.0243)', 'mother(4.8649)', 'purple(4.6374)', 'nice(4.5913)', 'blue(4.4943)', 'cousin(4.3785)', 'yellow(4.3627)', 'romance(4.1570)', 'friendship(4.1555)']</h4>\n            <h4 style=\"font-size: 9px; padding-left: 10px; padding-right: 10px; width: 95%; word-wrap: break-word; white-space: normal;\">../HARRISON/images/old_image_874.jpg</h4><img src=\"../HARRISON/images/old_image_874.jpg\"/>\n            <a href=\"#!\">\n                <span class=\"ipyplot-img-close\"/>\n            </a>\n            <a href=\"#ipyplot-content-div-KrjfbwXv6KpMGWckH8uF4P-9vqvkAszh46KiXV6sTFBrP\">\n                <span class=\"ipyplot-img-expand\"/>\n            </a>\n        </div>\n    </div>\n    \n    <div class=\"ipyplot-placeholder-div-KrjfbwXv6KpMGWckH8uF4P\">\n        <div id=\"ipyplot-content-div-KrjfbwXv6KpMGWckH8uF4P-8aGQacvdTGSz2C2sgHZKbC\" class=\"ipyplot-content-div-KrjfbwXv6KpMGWckH8uF4P\">\n            <h4 style=\"font-size: 12px; word-wrap: break-word;\">['wonderful(5.4989)', 'mother(4.8807)', 'daughter(3.5713)', 'nice(3.5241)', 'joy(3.4140)', 'purple(3.2497)', 'silly(3.1554)', 'blue(3.1076)', 'cousin(3.0704)']</h4>\n            <h4 style=\"font-size: 9px; padding-left: 10px; padding-right: 10px; width: 95%; word-wrap: break-word; white-space: normal;\">../HARRISON/images/yum_image_350.jpg</h4><img src=\"../HARRISON/images/yum_image_350.jpg\"/>\n            <a href=\"#!\">\n                <span class=\"ipyplot-img-close\"/>\n            </a>\n            <a href=\"#ipyplot-content-div-KrjfbwXv6KpMGWckH8uF4P-8aGQacvdTGSz2C2sgHZKbC\">\n                <span class=\"ipyplot-img-expand\"/>\n            </a>\n        </div>\n    </div>\n    \n    <div class=\"ipyplot-placeholder-div-KrjfbwXv6KpMGWckH8uF4P\">\n        <div id=\"ipyplot-content-div-KrjfbwXv6KpMGWckH8uF4P-MAftU8fU3ar2xZYJxtxadv\" class=\"ipyplot-content-div-KrjfbwXv6KpMGWckH8uF4P\">\n            <h4 style=\"font-size: 12px; word-wrap: break-word;\">['mother(5.4567)', 'wonderful(4.5968)', 'silly(4.5125)', 'daughter(3.6060)', 'cousin(3.5404)', 'joy(3.5318)', 'romance(3.1856)']</h4>\n            <h4 style=\"font-size: 9px; padding-left: 10px; padding-right: 10px; width: 95%; word-wrap: break-word; white-space: normal;\">../HARRISON/images/snow_image_1668.jpg</h4><img src=\"../HARRISON/images/snow_image_1668.jpg\"/>\n            <a href=\"#!\">\n                <span class=\"ipyplot-img-close\"/>\n            </a>\n            <a href=\"#ipyplot-content-div-KrjfbwXv6KpMGWckH8uF4P-MAftU8fU3ar2xZYJxtxadv\">\n                <span class=\"ipyplot-img-expand\"/>\n            </a>\n        </div>\n    </div>\n    \n    <div class=\"ipyplot-placeholder-div-KrjfbwXv6KpMGWckH8uF4P\">\n        <div id=\"ipyplot-content-div-KrjfbwXv6KpMGWckH8uF4P-Ta8UrMyy473pejyLQyzdJK\" class=\"ipyplot-content-div-KrjfbwXv6KpMGWckH8uF4P\">\n            <h4 style=\"font-size: 12px; word-wrap: break-word;\">['wonderful(5.9143)', 'mother(5.5965)', 'joy(4.5186)', 'daughter(4.4324)', 'nice(4.4279)', 'purple(4.4148)', 'passion(3.9437)', 'red(3.8910)', 'yellow(3.8848)', 'cousin(3.8703)']</h4>\n            <h4 style=\"font-size: 9px; padding-left: 10px; padding-right: 10px; width: 95%; word-wrap: break-word; white-space: normal;\">../HARRISON/images/justinbieber_image_1219.jpg</h4><img src=\"../HARRISON/images/justinbieber_image_1219.jpg\"/>\n            <a href=\"#!\">\n                <span class=\"ipyplot-img-close\"/>\n            </a>\n            <a href=\"#ipyplot-content-div-KrjfbwXv6KpMGWckH8uF4P-Ta8UrMyy473pejyLQyzdJK\">\n                <span class=\"ipyplot-img-expand\"/>\n            </a>\n        </div>\n    </div>\n    \n    <div class=\"ipyplot-placeholder-div-KrjfbwXv6KpMGWckH8uF4P\">\n        <div id=\"ipyplot-content-div-KrjfbwXv6KpMGWckH8uF4P-5gA6XpJjj2N3j4bU4SLACC\" class=\"ipyplot-content-div-KrjfbwXv6KpMGWckH8uF4P\">\n            <h4 style=\"font-size: 12px; word-wrap: break-word;\">['mother(6.3116)', 'wonderful(5.8985)', 'daughter(4.6295)', 'silly(4.3399)', 'joy(4.1308)', 'nice(4.0828)', 'cousin(3.7711)', 'red(3.3841)', 'passion(3.3219)', 'romance(3.3191)']</h4>\n            <h4 style=\"font-size: 9px; padding-left: 10px; padding-right: 10px; width: 95%; word-wrap: break-word; white-space: normal;\">../HARRISON/images/dog_image_67.jpg</h4><img src=\"../HARRISON/images/dog_image_67.jpg\"/>\n            <a href=\"#!\">\n                <span class=\"ipyplot-img-close\"/>\n            </a>\n            <a href=\"#ipyplot-content-div-KrjfbwXv6KpMGWckH8uF4P-5gA6XpJjj2N3j4bU4SLACC\">\n                <span class=\"ipyplot-img-expand\"/>\n            </a>\n        </div>\n    </div>\n    \n    <div class=\"ipyplot-placeholder-div-KrjfbwXv6KpMGWckH8uF4P\">\n        <div id=\"ipyplot-content-div-KrjfbwXv6KpMGWckH8uF4P-CiWuLtJLisfbKRxmSVPtHZ\" class=\"ipyplot-content-div-KrjfbwXv6KpMGWckH8uF4P\">\n            <h4 style=\"font-size: 12px; word-wrap: break-word;\">['mother(6.7522)', 'wonderful(6.2752)', 'nice(5.8982)', 'daughter(5.1028)', 'joy(4.5696)', 'cousin(4.5279)', 'blue(4.4136)', 'purple(4.3352)', 'red(4.3007)', 'silly(4.1214)']</h4>\n            <h4 style=\"font-size: 9px; padding-left: 10px; padding-right: 10px; width: 95%; word-wrap: break-word; white-space: normal;\">../HARRISON/images/school_image_1769.jpg</h4><img src=\"../HARRISON/images/school_image_1769.jpg\"/>\n            <a href=\"#!\">\n                <span class=\"ipyplot-img-close\"/>\n            </a>\n            <a href=\"#ipyplot-content-div-KrjfbwXv6KpMGWckH8uF4P-CiWuLtJLisfbKRxmSVPtHZ\">\n                <span class=\"ipyplot-img-expand\"/>\n            </a>\n        </div>\n    </div>\n    \n    <div class=\"ipyplot-placeholder-div-KrjfbwXv6KpMGWckH8uF4P\">\n        <div id=\"ipyplot-content-div-KrjfbwXv6KpMGWckH8uF4P-dYfHKq3NR75FesfPkazLrH\" class=\"ipyplot-content-div-KrjfbwXv6KpMGWckH8uF4P\">\n            <h4 style=\"font-size: 12px; word-wrap: break-word;\">['mother(6.6094)', 'wonderful(6.2166)', 'joy(5.6485)', 'daughter(5.2050)', 'silly(5.1619)', 'purple(4.3369)', 'red(4.2877)', 'pink(4.2566)', 'blue(4.1118)', 'nice(3.9882)']</h4>\n            <h4 style=\"font-size: 9px; padding-left: 10px; padding-right: 10px; width: 95%; word-wrap: break-word; white-space: normal;\">../HARRISON/images/nike_image_3795.jpg</h4><img src=\"../HARRISON/images/nike_image_3795.jpg\"/>\n            <a href=\"#!\">\n                <span class=\"ipyplot-img-close\"/>\n            </a>\n            <a href=\"#ipyplot-content-div-KrjfbwXv6KpMGWckH8uF4P-dYfHKq3NR75FesfPkazLrH\">\n                <span class=\"ipyplot-img-expand\"/>\n            </a>\n        </div>\n    </div>\n    \n    <div class=\"ipyplot-placeholder-div-KrjfbwXv6KpMGWckH8uF4P\">\n        <div id=\"ipyplot-content-div-KrjfbwXv6KpMGWckH8uF4P-YBmUwhwBZZcSWqJ3TL4RgC\" class=\"ipyplot-content-div-KrjfbwXv6KpMGWckH8uF4P\">\n            <h4 style=\"font-size: 12px; word-wrap: break-word;\">['wonderful(5.7416)', 'mother(5.5873)', 'blue(5.0250)', 'purple(5.0152)', 'red(4.8499)', 'daughter(4.5159)', 'nice(4.4652)', 'joy(4.4352)', 'pink(4.3513)', 'cousin(3.7519)']</h4>\n            <h4 style=\"font-size: 9px; padding-left: 10px; padding-right: 10px; width: 95%; word-wrap: break-word; white-space: normal;\">../HARRISON/images/friday_image_947.jpg</h4><img src=\"../HARRISON/images/friday_image_947.jpg\"/>\n            <a href=\"#!\">\n                <span class=\"ipyplot-img-close\"/>\n            </a>\n            <a href=\"#ipyplot-content-div-KrjfbwXv6KpMGWckH8uF4P-YBmUwhwBZZcSWqJ3TL4RgC\">\n                <span class=\"ipyplot-img-expand\"/>\n            </a>\n        </div>\n    </div>\n    \n    <div class=\"ipyplot-placeholder-div-KrjfbwXv6KpMGWckH8uF4P\">\n        <div id=\"ipyplot-content-div-KrjfbwXv6KpMGWckH8uF4P-EFZ7hEAkmgkocmKyMXn5YT\" class=\"ipyplot-content-div-KrjfbwXv6KpMGWckH8uF4P\">\n            <h4 style=\"font-size: 12px; word-wrap: break-word;\">['mother(7.7752)', 'wonderful(6.2197)', 'silly(5.7815)', 'daughter(5.5494)', 'nice(4.7130)', 'joy(4.5556)', 'girl(3.9726)', 'cousin(3.9403)', 'love(3.9135)', 'crazy(3.7332)']</h4>\n            <h4 style=\"font-size: 9px; padding-left: 10px; padding-right: 10px; width: 95%; word-wrap: break-word; white-space: normal;\">../HARRISON/images/goodtimes_image_477.jpg</h4><img src=\"../HARRISON/images/goodtimes_image_477.jpg\"/>\n            <a href=\"#!\">\n                <span class=\"ipyplot-img-close\"/>\n            </a>\n            <a href=\"#ipyplot-content-div-KrjfbwXv6KpMGWckH8uF4P-EFZ7hEAkmgkocmKyMXn5YT\">\n                <span class=\"ipyplot-img-expand\"/>\n            </a>\n        </div>\n    </div>\n    \n    <div class=\"ipyplot-placeholder-div-KrjfbwXv6KpMGWckH8uF4P\">\n        <div id=\"ipyplot-content-div-KrjfbwXv6KpMGWckH8uF4P-j2gUQxuj9oWPcqdg2jsvah\" class=\"ipyplot-content-div-KrjfbwXv6KpMGWckH8uF4P\">\n            <h4 style=\"font-size: 12px; word-wrap: break-word;\">['mother(6.7629)', 'wonderful(6.5810)', 'daughter(5.9114)', 'purple(5.7168)', 'nice(5.1369)', 'blue(5.0542)', 'joy(4.8578)', 'red(4.6817)', 'passion(4.5932)', 'cousin(3.9966)']</h4>\n            <h4 style=\"font-size: 9px; padding-left: 10px; padding-right: 10px; width: 95%; word-wrap: break-word; white-space: normal;\">../HARRISON/images/hair_image_1740.jpg</h4><img src=\"../HARRISON/images/hair_image_1740.jpg\"/>\n            <a href=\"#!\">\n                <span class=\"ipyplot-img-close\"/>\n            </a>\n            <a href=\"#ipyplot-content-div-KrjfbwXv6KpMGWckH8uF4P-j2gUQxuj9oWPcqdg2jsvah\">\n                <span class=\"ipyplot-img-expand\"/>\n            </a>\n        </div>\n    </div>\n    \n    <div class=\"ipyplot-placeholder-div-KrjfbwXv6KpMGWckH8uF4P\">\n        <div id=\"ipyplot-content-div-KrjfbwXv6KpMGWckH8uF4P-DELkwqLvsRSK9wFWkpFibM\" class=\"ipyplot-content-div-KrjfbwXv6KpMGWckH8uF4P\">\n            <h4 style=\"font-size: 12px; word-wrap: break-word;\">['wonderful(5.0845)', 'mother(5.0120)', 'daughter(4.0672)', 'purple(3.9815)', 'blue(3.8545)', 'nice(3.5743)', 'joy(3.2885)', 'yellow(3.2655)', 'red(3.1786)', 'passion(3.1713)']</h4>\n            <h4 style=\"font-size: 9px; padding-left: 10px; padding-right: 10px; width: 95%; word-wrap: break-word; white-space: normal;\">../HARRISON/images/tree_image_1725.jpg</h4><img src=\"../HARRISON/images/tree_image_1725.jpg\"/>\n            <a href=\"#!\">\n                <span class=\"ipyplot-img-close\"/>\n            </a>\n            <a href=\"#ipyplot-content-div-KrjfbwXv6KpMGWckH8uF4P-DELkwqLvsRSK9wFWkpFibM\">\n                <span class=\"ipyplot-img-expand\"/>\n            </a>\n        </div>\n    </div>\n    \n    <div class=\"ipyplot-placeholder-div-KrjfbwXv6KpMGWckH8uF4P\">\n        <div id=\"ipyplot-content-div-KrjfbwXv6KpMGWckH8uF4P-VxjAgCNs7gAcwwwyr27rfx\" class=\"ipyplot-content-div-KrjfbwXv6KpMGWckH8uF4P\">\n            <h4 style=\"font-size: 12px; word-wrap: break-word;\">['wonderful(6.1487)', 'mother(5.8819)', 'daughter(4.6475)', 'silly(4.3836)', 'joy(4.0664)', 'nice(3.9542)', 'red(3.7030)', 'blue(3.6572)', 'purple(3.5854)', 'romance(3.5849)']</h4>\n            <h4 style=\"font-size: 9px; padding-left: 10px; padding-right: 10px; width: 95%; word-wrap: break-word; white-space: normal;\">../HARRISON/images/model_image_3525.jpg</h4><img src=\"../HARRISON/images/model_image_3525.jpg\"/>\n            <a href=\"#!\">\n                <span class=\"ipyplot-img-close\"/>\n            </a>\n            <a href=\"#ipyplot-content-div-KrjfbwXv6KpMGWckH8uF4P-VxjAgCNs7gAcwwwyr27rfx\">\n                <span class=\"ipyplot-img-expand\"/>\n            </a>\n        </div>\n    </div>\n    \n    <div class=\"ipyplot-placeholder-div-KrjfbwXv6KpMGWckH8uF4P\">\n        <div id=\"ipyplot-content-div-KrjfbwXv6KpMGWckH8uF4P-2krbkQKkcL7DZdvvzGnFS7\" class=\"ipyplot-content-div-KrjfbwXv6KpMGWckH8uF4P\">\n            <h4 style=\"font-size: 12px; word-wrap: break-word;\">['mother(7.7567)', 'wonderful(7.7217)', 'nice(7.3836)', 'ocean(6.9100)', 'daughter(6.6006)', 'joy(6.5540)', 'beach(6.4671)', 'blue(6.3944)', 'purple(6.1157)', 'cousin(6.0942)']</h4>\n            <h4 style=\"font-size: 9px; padding-left: 10px; padding-right: 10px; width: 95%; word-wrap: break-word; white-space: normal;\">../HARRISON/images/snow_image_1068.jpg</h4><img src=\"../HARRISON/images/snow_image_1068.jpg\"/>\n            <a href=\"#!\">\n                <span class=\"ipyplot-img-close\"/>\n            </a>\n            <a href=\"#ipyplot-content-div-KrjfbwXv6KpMGWckH8uF4P-2krbkQKkcL7DZdvvzGnFS7\">\n                <span class=\"ipyplot-img-expand\"/>\n            </a>\n        </div>\n    </div>\n    </div>\n        </textarea>\n    </div>\n    "
     },
     "metadata": {}
    },
    {
     "output_type": "display_data",
     "data": {
      "text/plain": "<IPython.core.display.HTML object>",
      "text/html": "\n        <style>\n        #ipyplot-imgs-container-div-KrjfbwXv6KpMGWckH8uF4P {\n            width: 100%;\n            height: 100%;\n            margin: 0%;\n            overflow: auto;\n            position: relative;\n            overflow-y: scroll;\n        }\n\n        div.ipyplot-placeholder-div-KrjfbwXv6KpMGWckH8uF4P {\n            width: 150px;\n            display: inline-block;\n            margin: 3px;\n            position: relative;\n        }\n\n        div.ipyplot-content-div-KrjfbwXv6KpMGWckH8uF4P {\n            width: 150px;\n            background: white;\n            display: inline-block;\n            vertical-align: top;\n            text-align: center;\n            position: relative;\n            border: 2px solid #ddd;\n            top: 0;\n            left: 0;\n        }\n\n        div.ipyplot-content-div-KrjfbwXv6KpMGWckH8uF4P span.ipyplot-img-close {\n            display: none;\n        }\n\n        div.ipyplot-content-div-KrjfbwXv6KpMGWckH8uF4P span {\n            width: 100%;\n            height: 100%;\n            position: absolute;\n            top: 0;\n            left: 0;\n        }\n\n        div.ipyplot-content-div-KrjfbwXv6KpMGWckH8uF4P img {\n            width: 150px;\n        }\n\n        div.ipyplot-content-div-KrjfbwXv6KpMGWckH8uF4P span.ipyplot-img-close:hover {\n            cursor: zoom-out;\n        }\n        div.ipyplot-content-div-KrjfbwXv6KpMGWckH8uF4P span.ipyplot-img-expand:hover {\n            cursor: zoom-in;\n        }\n\n        div[id^=ipyplot-content-div-KrjfbwXv6KpMGWckH8uF4P]:target {\n            transform: scale(2.5);\n            transform-origin: left top;\n            z-index: 5000;\n            top: 0;\n            left: 0;\n            position: absolute;\n        }\n\n        div[id^=ipyplot-content-div-KrjfbwXv6KpMGWckH8uF4P]:target span.ipyplot-img-close {\n            display: block;\n        }\n\n        div[id^=ipyplot-content-div-KrjfbwXv6KpMGWckH8uF4P]:target span.ipyplot-img-expand {\n            display: none;\n        }\n        </style>\n    <div id=\"ipyplot-imgs-container-div-KrjfbwXv6KpMGWckH8uF4P\">\n    <div class=\"ipyplot-placeholder-div-KrjfbwXv6KpMGWckH8uF4P\">\n        <div id=\"ipyplot-content-div-KrjfbwXv6KpMGWckH8uF4P-JYy7tdEDdSQLYzLZqtshFa\" class=\"ipyplot-content-div-KrjfbwXv6KpMGWckH8uF4P\">\n            <h4 style=\"font-size: 12px; word-wrap: break-word;\">['wonderful(5.5501)', 'mother(4.6566)', 'purple(4.4671)', 'joy(4.1869)', 'yellow(4.0154)', 'red(3.9399)', 'blue(3.8152)', 'nice(3.6618)', 'daughter(3.6106)', 'pink(3.0616)']</h4>\n            <h4 style=\"font-size: 9px; padding-left: 10px; padding-right: 10px; width: 95%; word-wrap: break-word; white-space: normal;\">../HARRISON/images/school_image_3897.jpg</h4><img src=\"../HARRISON/images/school_image_3897.jpg\"/>\n            <a href=\"#!\">\n                <span class=\"ipyplot-img-close\"/>\n            </a>\n            <a href=\"#ipyplot-content-div-KrjfbwXv6KpMGWckH8uF4P-JYy7tdEDdSQLYzLZqtshFa\">\n                <span class=\"ipyplot-img-expand\"/>\n            </a>\n        </div>\n    </div>\n    \n    <div class=\"ipyplot-placeholder-div-KrjfbwXv6KpMGWckH8uF4P\">\n        <div id=\"ipyplot-content-div-KrjfbwXv6KpMGWckH8uF4P-G8qMJuWVpv9Gwht6euxyzk\" class=\"ipyplot-content-div-KrjfbwXv6KpMGWckH8uF4P\">\n            <h4 style=\"font-size: 12px; word-wrap: break-word;\">['blue(7.9821)', 'purple(6.7173)', 'yellow(6.7114)', 'pink(6.1484)', 'wonderful(5.9728)', 'mother(5.3616)', 'red(5.3574)', 'joy(5.2313)', 'yummy(5.1743)', 'orange(5.1620)']</h4>\n            <h4 style=\"font-size: 9px; padding-left: 10px; padding-right: 10px; width: 95%; word-wrap: break-word; white-space: normal;\">../HARRISON/images/justinbieber_image_3861.jpg</h4><img src=\"../HARRISON/images/justinbieber_image_3861.jpg\"/>\n            <a href=\"#!\">\n                <span class=\"ipyplot-img-close\"/>\n            </a>\n            <a href=\"#ipyplot-content-div-KrjfbwXv6KpMGWckH8uF4P-G8qMJuWVpv9Gwht6euxyzk\">\n                <span class=\"ipyplot-img-expand\"/>\n            </a>\n        </div>\n    </div>\n    \n    <div class=\"ipyplot-placeholder-div-KrjfbwXv6KpMGWckH8uF4P\">\n        <div id=\"ipyplot-content-div-KrjfbwXv6KpMGWckH8uF4P-4aCBABstWHiHNq56mpet9Q\" class=\"ipyplot-content-div-KrjfbwXv6KpMGWckH8uF4P\">\n            <h4 style=\"font-size: 12px; word-wrap: break-word;\">['mother(6.5128)', 'wonderful(5.7174)', 'daughter(4.4727)', 'joy(4.4362)', 'nice(4.1815)', 'silly(3.6145)', 'red(3.5849)', 'blue(3.5277)', 'cousin(3.4974)', 'purple(3.2012)']</h4>\n            <h4 style=\"font-size: 9px; padding-left: 10px; padding-right: 10px; width: 95%; word-wrap: break-word; white-space: normal;\">../HARRISON/images/justinbieber_image_6242.jpg</h4><img src=\"../HARRISON/images/justinbieber_image_6242.jpg\"/>\n            <a href=\"#!\">\n                <span class=\"ipyplot-img-close\"/>\n            </a>\n            <a href=\"#ipyplot-content-div-KrjfbwXv6KpMGWckH8uF4P-4aCBABstWHiHNq56mpet9Q\">\n                <span class=\"ipyplot-img-expand\"/>\n            </a>\n        </div>\n    </div>\n    \n    <div class=\"ipyplot-placeholder-div-KrjfbwXv6KpMGWckH8uF4P\">\n        <div id=\"ipyplot-content-div-KrjfbwXv6KpMGWckH8uF4P-7Evqus9yNLX2b2p45sGC5K\" class=\"ipyplot-content-div-KrjfbwXv6KpMGWckH8uF4P\">\n            <h4 style=\"font-size: 12px; word-wrap: break-word;\">['wonderful(6.4446)', 'mother(6.1334)', 'purple(5.4104)', 'blue(4.7821)', 'red(4.6030)', 'daughter(4.4250)', 'joy(4.4223)', 'nice(4.2487)', 'yellow(3.8231)', 'passion(3.6149)']</h4>\n            <h4 style=\"font-size: 9px; padding-left: 10px; padding-right: 10px; width: 95%; word-wrap: break-word; white-space: normal;\">../HARRISON/images/fashion_image_457.jpg</h4><img src=\"../HARRISON/images/fashion_image_457.jpg\"/>\n            <a href=\"#!\">\n                <span class=\"ipyplot-img-close\"/>\n            </a>\n            <a href=\"#ipyplot-content-div-KrjfbwXv6KpMGWckH8uF4P-7Evqus9yNLX2b2p45sGC5K\">\n                <span class=\"ipyplot-img-expand\"/>\n            </a>\n        </div>\n    </div>\n    \n    <div class=\"ipyplot-placeholder-div-KrjfbwXv6KpMGWckH8uF4P\">\n        <div id=\"ipyplot-content-div-KrjfbwXv6KpMGWckH8uF4P-Ka2QaXG7Mpy65Z73qZhrX3\" class=\"ipyplot-content-div-KrjfbwXv6KpMGWckH8uF4P\">\n            <h4 style=\"font-size: 12px; word-wrap: break-word;\">['mother(4.7866)', 'wonderful(4.5713)', 'pink(4.0837)', 'joy(3.9871)', 'purple(3.6577)', 'blue(3.6158)', 'silly(3.4291)', 'daughter(3.3161)', 'nice(3.2037)', 'red(3.1291)']</h4>\n            <h4 style=\"font-size: 9px; padding-left: 10px; padding-right: 10px; width: 95%; word-wrap: break-word; white-space: normal;\">../HARRISON/images/justinbieber_image_9023.jpg</h4><img src=\"../HARRISON/images/justinbieber_image_9023.jpg\"/>\n            <a href=\"#!\">\n                <span class=\"ipyplot-img-close\"/>\n            </a>\n            <a href=\"#ipyplot-content-div-KrjfbwXv6KpMGWckH8uF4P-Ka2QaXG7Mpy65Z73qZhrX3\">\n                <span class=\"ipyplot-img-expand\"/>\n            </a>\n        </div>\n    </div>\n    \n    <div class=\"ipyplot-placeholder-div-KrjfbwXv6KpMGWckH8uF4P\">\n        <div id=\"ipyplot-content-div-KrjfbwXv6KpMGWckH8uF4P-JMzqjnbKEigtMBqkgbyy8g\" class=\"ipyplot-content-div-KrjfbwXv6KpMGWckH8uF4P\">\n            <h4 style=\"font-size: 12px; word-wrap: break-word;\">['beach(10.3354)', 'ocean(9.7719)', 'wonderful(8.1995)', 'sun(7.8498)', 'island(7.0644)', 'joy(6.6172)', 'blue(6.4666)', 'winter(6.4317)', 'surf(6.3703)', 'mother(5.4958)']</h4>\n            <h4 style=\"font-size: 9px; padding-left: 10px; padding-right: 10px; width: 95%; word-wrap: break-word; white-space: normal;\">../HARRISON/images/beach_image_5369.jpg</h4><img src=\"../HARRISON/images/beach_image_5369.jpg\"/>\n            <a href=\"#!\">\n                <span class=\"ipyplot-img-close\"/>\n            </a>\n            <a href=\"#ipyplot-content-div-KrjfbwXv6KpMGWckH8uF4P-JMzqjnbKEigtMBqkgbyy8g\">\n                <span class=\"ipyplot-img-expand\"/>\n            </a>\n        </div>\n    </div>\n    \n    <div class=\"ipyplot-placeholder-div-KrjfbwXv6KpMGWckH8uF4P\">\n        <div id=\"ipyplot-content-div-KrjfbwXv6KpMGWckH8uF4P-h2XvcVBooAr2b3TGtoF9Ym\" class=\"ipyplot-content-div-KrjfbwXv6KpMGWckH8uF4P\">\n            <h4 style=\"font-size: 12px; word-wrap: break-word;\">['mother(6.5046)', 'wonderful(5.8344)', 'daughter(4.4417)', 'joy(4.3979)', 'blue(4.3903)', 'silly(4.3882)', 'nice(4.1161)', 'boyfriend(3.9550)', 'purple(3.6670)', 'cousin(3.3420)']</h4>\n            <h4 style=\"font-size: 9px; padding-left: 10px; padding-right: 10px; width: 95%; word-wrap: break-word; white-space: normal;\">../HARRISON/images/family_image_4862.jpg</h4><img src=\"../HARRISON/images/family_image_4862.jpg\"/>\n            <a href=\"#!\">\n                <span class=\"ipyplot-img-close\"/>\n            </a>\n            <a href=\"#ipyplot-content-div-KrjfbwXv6KpMGWckH8uF4P-h2XvcVBooAr2b3TGtoF9Ym\">\n                <span class=\"ipyplot-img-expand\"/>\n            </a>\n        </div>\n    </div>\n    \n    <div class=\"ipyplot-placeholder-div-KrjfbwXv6KpMGWckH8uF4P\">\n        <div id=\"ipyplot-content-div-KrjfbwXv6KpMGWckH8uF4P-TYErgQXKUg8AVHdFhTbHRh\" class=\"ipyplot-content-div-KrjfbwXv6KpMGWckH8uF4P\">\n            <h4 style=\"font-size: 12px; word-wrap: break-word;\">['beach(7.2414)', 'wonderful(6.6746)', 'mother(5.7279)', 'joy(5.6908)', 'sun(5.4828)', 'ocean(5.3534)', 'nice(4.9592)', 'blue(4.7660)', 'cousin(4.1109)', 'island(4.1009)']</h4>\n            <h4 style=\"font-size: 9px; padding-left: 10px; padding-right: 10px; width: 95%; word-wrap: break-word; white-space: normal;\">../HARRISON/images/sea_image_1122.jpg</h4><img src=\"../HARRISON/images/sea_image_1122.jpg\"/>\n            <a href=\"#!\">\n                <span class=\"ipyplot-img-close\"/>\n            </a>\n            <a href=\"#ipyplot-content-div-KrjfbwXv6KpMGWckH8uF4P-TYErgQXKUg8AVHdFhTbHRh\">\n                <span class=\"ipyplot-img-expand\"/>\n            </a>\n        </div>\n    </div>\n    \n    <div class=\"ipyplot-placeholder-div-KrjfbwXv6KpMGWckH8uF4P\">\n        <div id=\"ipyplot-content-div-KrjfbwXv6KpMGWckH8uF4P-g9Abtzpqu4HeUkh5AVeYiP\" class=\"ipyplot-content-div-KrjfbwXv6KpMGWckH8uF4P\">\n            <h4 style=\"font-size: 12px; word-wrap: break-word;\">['ocean(10.6770)', 'beach(10.0728)', 'wonderful(8.1198)', 'winter(7.1479)', 'sun(7.0831)', 'surf(6.9624)', 'joy(6.9517)', 'mother(6.7600)', 'nice(6.6393)', 'island(6.4356)']</h4>\n            <h4 style=\"font-size: 9px; padding-left: 10px; padding-right: 10px; width: 95%; word-wrap: break-word; white-space: normal;\">../HARRISON/images/snow_image_4344.jpg</h4><img src=\"../HARRISON/images/snow_image_4344.jpg\"/>\n            <a href=\"#!\">\n                <span class=\"ipyplot-img-close\"/>\n            </a>\n            <a href=\"#ipyplot-content-div-KrjfbwXv6KpMGWckH8uF4P-g9Abtzpqu4HeUkh5AVeYiP\">\n                <span class=\"ipyplot-img-expand\"/>\n            </a>\n        </div>\n    </div>\n    \n    <div class=\"ipyplot-placeholder-div-KrjfbwXv6KpMGWckH8uF4P\">\n        <div id=\"ipyplot-content-div-KrjfbwXv6KpMGWckH8uF4P-dQ5XkjePteaDdE6K35JFEL\" class=\"ipyplot-content-div-KrjfbwXv6KpMGWckH8uF4P\">\n            <h4 style=\"font-size: 12px; word-wrap: break-word;\">['wonderful(5.5052)', 'mother(5.1670)', 'joy(4.0564)', 'blue(4.0168)', 'nice(3.9190)', 'cousin(3.7388)', 'purple(3.6081)', 'red(3.5346)', 'daughter(3.4372)', 'yellow(3.3020)']</h4>\n            <h4 style=\"font-size: 9px; padding-left: 10px; padding-right: 10px; width: 95%; word-wrap: break-word; white-space: normal;\">../HARRISON/images/friends_image_1691.jpg</h4><img src=\"../HARRISON/images/friends_image_1691.jpg\"/>\n            <a href=\"#!\">\n                <span class=\"ipyplot-img-close\"/>\n            </a>\n            <a href=\"#ipyplot-content-div-KrjfbwXv6KpMGWckH8uF4P-dQ5XkjePteaDdE6K35JFEL\">\n                <span class=\"ipyplot-img-expand\"/>\n            </a>\n        </div>\n    </div>\n    \n    <div class=\"ipyplot-placeholder-div-KrjfbwXv6KpMGWckH8uF4P\">\n        <div id=\"ipyplot-content-div-KrjfbwXv6KpMGWckH8uF4P-Be8pgZw5aabbMV5BJsgPJT\" class=\"ipyplot-content-div-KrjfbwXv6KpMGWckH8uF4P\">\n            <h4 style=\"font-size: 12px; word-wrap: break-word;\">['mother(5.7878)', 'wonderful(5.4383)', 'daughter(4.6657)', 'blue(4.2904)', 'silly(4.0390)', 'purple(3.9793)', 'nice(3.9648)', 'love(3.9178)', 'joy(3.7508)', 'passion(3.6507)']</h4>\n            <h4 style=\"font-size: 9px; padding-left: 10px; padding-right: 10px; width: 95%; word-wrap: break-word; white-space: normal;\">../HARRISON/images/justinbieber_image_4026.jpg</h4><img src=\"../HARRISON/images/justinbieber_image_4026.jpg\"/>\n            <a href=\"#!\">\n                <span class=\"ipyplot-img-close\"/>\n            </a>\n            <a href=\"#ipyplot-content-div-KrjfbwXv6KpMGWckH8uF4P-Be8pgZw5aabbMV5BJsgPJT\">\n                <span class=\"ipyplot-img-expand\"/>\n            </a>\n        </div>\n    </div>\n    \n    <div class=\"ipyplot-placeholder-div-KrjfbwXv6KpMGWckH8uF4P\">\n        <div id=\"ipyplot-content-div-KrjfbwXv6KpMGWckH8uF4P-F4NxgWuRLZSwzNUDCvmYwr\" class=\"ipyplot-content-div-KrjfbwXv6KpMGWckH8uF4P\">\n            <h4 style=\"font-size: 12px; word-wrap: break-word;\">['purple(7.8207)', 'blue(7.6718)', 'yellow(6.7375)', 'wonderful(5.8873)', 'red(5.8052)', 'nice(5.7142)', 'mother(5.6438)', 'pink(5.5403)', 'yummy(5.0484)', 'daughter(5.0065)']</h4>\n            <h4 style=\"font-size: 9px; padding-left: 10px; padding-right: 10px; width: 95%; word-wrap: break-word; white-space: normal;\">../HARRISON/images/tree_image_668.jpg</h4><img src=\"../HARRISON/images/tree_image_668.jpg\"/>\n            <a href=\"#!\">\n                <span class=\"ipyplot-img-close\"/>\n            </a>\n            <a href=\"#ipyplot-content-div-KrjfbwXv6KpMGWckH8uF4P-F4NxgWuRLZSwzNUDCvmYwr\">\n                <span class=\"ipyplot-img-expand\"/>\n            </a>\n        </div>\n    </div>\n    \n    <div class=\"ipyplot-placeholder-div-KrjfbwXv6KpMGWckH8uF4P\">\n        <div id=\"ipyplot-content-div-KrjfbwXv6KpMGWckH8uF4P-d5Bx4bqEAHLVNPHtZTXoyz\" class=\"ipyplot-content-div-KrjfbwXv6KpMGWckH8uF4P\">\n            <h4 style=\"font-size: 12px; word-wrap: break-word;\">['mother(6.0437)', 'wonderful(4.5980)', 'daughter(3.9144)', 'joy(3.9061)', 'silly(3.6147)', 'red(3.0768)', 'romance(3.0049)']</h4>\n            <h4 style=\"font-size: 9px; padding-left: 10px; padding-right: 10px; width: 95%; word-wrap: break-word; white-space: normal;\">../HARRISON/images/makeup_image_331.jpg</h4><img src=\"../HARRISON/images/makeup_image_331.jpg\"/>\n            <a href=\"#!\">\n                <span class=\"ipyplot-img-close\"/>\n            </a>\n            <a href=\"#ipyplot-content-div-KrjfbwXv6KpMGWckH8uF4P-d5Bx4bqEAHLVNPHtZTXoyz\">\n                <span class=\"ipyplot-img-expand\"/>\n            </a>\n        </div>\n    </div>\n    \n    <div class=\"ipyplot-placeholder-div-KrjfbwXv6KpMGWckH8uF4P\">\n        <div id=\"ipyplot-content-div-KrjfbwXv6KpMGWckH8uF4P-agiEWTTu37RdGM5dzoH7o7\" class=\"ipyplot-content-div-KrjfbwXv6KpMGWckH8uF4P\">\n            <h4 style=\"font-size: 12px; word-wrap: break-word;\">['mother(5.3384)', 'wonderful(4.6236)', 'purple(4.1401)', 'yummy(4.0045)', 'dessert(3.9607)', 'daughter(3.9310)', 'pink(3.7924)', 'blue(3.7163)', 'nice(3.5183)', 'red(3.4263)']</h4>\n            <h4 style=\"font-size: 9px; padding-left: 10px; padding-right: 10px; width: 95%; word-wrap: break-word; white-space: normal;\">../HARRISON/images/makeup_image_826.jpg</h4><img src=\"../HARRISON/images/makeup_image_826.jpg\"/>\n            <a href=\"#!\">\n                <span class=\"ipyplot-img-close\"/>\n            </a>\n            <a href=\"#ipyplot-content-div-KrjfbwXv6KpMGWckH8uF4P-agiEWTTu37RdGM5dzoH7o7\">\n                <span class=\"ipyplot-img-expand\"/>\n            </a>\n        </div>\n    </div>\n    \n    <div class=\"ipyplot-placeholder-div-KrjfbwXv6KpMGWckH8uF4P\">\n        <div id=\"ipyplot-content-div-KrjfbwXv6KpMGWckH8uF4P-TtydFmAz49bRcX6vWamMoX\" class=\"ipyplot-content-div-KrjfbwXv6KpMGWckH8uF4P\">\n            <h4 style=\"font-size: 12px; word-wrap: break-word;\">['blue(8.7726)', 'purple(8.1104)', 'wonderful(6.4961)', 'red(6.4914)', 'nice(6.4122)', 'mother(6.1574)', 'yellow(5.9516)', 'daughter(5.8519)', 'joy(5.5276)', 'pink(5.4377)']</h4>\n            <h4 style=\"font-size: 9px; padding-left: 10px; padding-right: 10px; width: 95%; word-wrap: break-word; white-space: normal;\">../HARRISON/images/yellow_image_1890.jpg</h4><img src=\"../HARRISON/images/yellow_image_1890.jpg\"/>\n            <a href=\"#!\">\n                <span class=\"ipyplot-img-close\"/>\n            </a>\n            <a href=\"#ipyplot-content-div-KrjfbwXv6KpMGWckH8uF4P-TtydFmAz49bRcX6vWamMoX\">\n                <span class=\"ipyplot-img-expand\"/>\n            </a>\n        </div>\n    </div>\n    \n    <div class=\"ipyplot-placeholder-div-KrjfbwXv6KpMGWckH8uF4P\">\n        <div id=\"ipyplot-content-div-KrjfbwXv6KpMGWckH8uF4P-UBHPTUuE2AHaw3QxatM9CE\" class=\"ipyplot-content-div-KrjfbwXv6KpMGWckH8uF4P\">\n            <h4 style=\"font-size: 12px; word-wrap: break-word;\">['wonderful(7.6493)', 'mother(6.6298)', 'nice(5.8320)', 'daughter(5.8221)', 'joy(5.6093)', 'purple(5.4799)', 'red(5.2107)', 'blue(5.1652)', 'ocean(5.0874)', 'silly(5.0622)']</h4>\n            <h4 style=\"font-size: 9px; padding-left: 10px; padding-right: 10px; width: 95%; word-wrap: break-word; white-space: normal;\">../HARRISON/images/bored_image_6820.jpg</h4><img src=\"../HARRISON/images/bored_image_6820.jpg\"/>\n            <a href=\"#!\">\n                <span class=\"ipyplot-img-close\"/>\n            </a>\n            <a href=\"#ipyplot-content-div-KrjfbwXv6KpMGWckH8uF4P-UBHPTUuE2AHaw3QxatM9CE\">\n                <span class=\"ipyplot-img-expand\"/>\n            </a>\n        </div>\n    </div>\n    \n    <div class=\"ipyplot-placeholder-div-KrjfbwXv6KpMGWckH8uF4P\">\n        <div id=\"ipyplot-content-div-KrjfbwXv6KpMGWckH8uF4P-YVadaTetgTuTpuwV5dyJbM\" class=\"ipyplot-content-div-KrjfbwXv6KpMGWckH8uF4P\">\n            <h4 style=\"font-size: 12px; word-wrap: break-word;\">['beach(13.2779)', 'ocean(13.0059)', 'surf(10.4829)', 'island(9.1309)', 'winter(8.4899)', 'wonderful(8.4747)', 'yellow(7.9446)', 'seaside(7.8448)', 'sand(7.8241)', 'sun(7.7851)']</h4>\n            <h4 style=\"font-size: 9px; padding-left: 10px; padding-right: 10px; width: 95%; word-wrap: break-word; white-space: normal;\">../HARRISON/images/yellow_image_1082.jpg</h4><img src=\"../HARRISON/images/yellow_image_1082.jpg\"/>\n            <a href=\"#!\">\n                <span class=\"ipyplot-img-close\"/>\n            </a>\n            <a href=\"#ipyplot-content-div-KrjfbwXv6KpMGWckH8uF4P-YVadaTetgTuTpuwV5dyJbM\">\n                <span class=\"ipyplot-img-expand\"/>\n            </a>\n        </div>\n    </div>\n    \n    <div class=\"ipyplot-placeholder-div-KrjfbwXv6KpMGWckH8uF4P\">\n        <div id=\"ipyplot-content-div-KrjfbwXv6KpMGWckH8uF4P-9vqvkAszh46KiXV6sTFBrP\" class=\"ipyplot-content-div-KrjfbwXv6KpMGWckH8uF4P\">\n            <h4 style=\"font-size: 12px; word-wrap: break-word;\">['wonderful(7.1245)', 'joy(5.0243)', 'mother(4.8649)', 'purple(4.6374)', 'nice(4.5913)', 'blue(4.4943)', 'cousin(4.3785)', 'yellow(4.3627)', 'romance(4.1570)', 'friendship(4.1555)']</h4>\n            <h4 style=\"font-size: 9px; padding-left: 10px; padding-right: 10px; width: 95%; word-wrap: break-word; white-space: normal;\">../HARRISON/images/old_image_874.jpg</h4><img src=\"../HARRISON/images/old_image_874.jpg\"/>\n            <a href=\"#!\">\n                <span class=\"ipyplot-img-close\"/>\n            </a>\n            <a href=\"#ipyplot-content-div-KrjfbwXv6KpMGWckH8uF4P-9vqvkAszh46KiXV6sTFBrP\">\n                <span class=\"ipyplot-img-expand\"/>\n            </a>\n        </div>\n    </div>\n    \n    <div class=\"ipyplot-placeholder-div-KrjfbwXv6KpMGWckH8uF4P\">\n        <div id=\"ipyplot-content-div-KrjfbwXv6KpMGWckH8uF4P-8aGQacvdTGSz2C2sgHZKbC\" class=\"ipyplot-content-div-KrjfbwXv6KpMGWckH8uF4P\">\n            <h4 style=\"font-size: 12px; word-wrap: break-word;\">['wonderful(5.4989)', 'mother(4.8807)', 'daughter(3.5713)', 'nice(3.5241)', 'joy(3.4140)', 'purple(3.2497)', 'silly(3.1554)', 'blue(3.1076)', 'cousin(3.0704)']</h4>\n            <h4 style=\"font-size: 9px; padding-left: 10px; padding-right: 10px; width: 95%; word-wrap: break-word; white-space: normal;\">../HARRISON/images/yum_image_350.jpg</h4><img src=\"../HARRISON/images/yum_image_350.jpg\"/>\n            <a href=\"#!\">\n                <span class=\"ipyplot-img-close\"/>\n            </a>\n            <a href=\"#ipyplot-content-div-KrjfbwXv6KpMGWckH8uF4P-8aGQacvdTGSz2C2sgHZKbC\">\n                <span class=\"ipyplot-img-expand\"/>\n            </a>\n        </div>\n    </div>\n    \n    <div class=\"ipyplot-placeholder-div-KrjfbwXv6KpMGWckH8uF4P\">\n        <div id=\"ipyplot-content-div-KrjfbwXv6KpMGWckH8uF4P-MAftU8fU3ar2xZYJxtxadv\" class=\"ipyplot-content-div-KrjfbwXv6KpMGWckH8uF4P\">\n            <h4 style=\"font-size: 12px; word-wrap: break-word;\">['mother(5.4567)', 'wonderful(4.5968)', 'silly(4.5125)', 'daughter(3.6060)', 'cousin(3.5404)', 'joy(3.5318)', 'romance(3.1856)']</h4>\n            <h4 style=\"font-size: 9px; padding-left: 10px; padding-right: 10px; width: 95%; word-wrap: break-word; white-space: normal;\">../HARRISON/images/snow_image_1668.jpg</h4><img src=\"../HARRISON/images/snow_image_1668.jpg\"/>\n            <a href=\"#!\">\n                <span class=\"ipyplot-img-close\"/>\n            </a>\n            <a href=\"#ipyplot-content-div-KrjfbwXv6KpMGWckH8uF4P-MAftU8fU3ar2xZYJxtxadv\">\n                <span class=\"ipyplot-img-expand\"/>\n            </a>\n        </div>\n    </div>\n    \n    <div class=\"ipyplot-placeholder-div-KrjfbwXv6KpMGWckH8uF4P\">\n        <div id=\"ipyplot-content-div-KrjfbwXv6KpMGWckH8uF4P-Ta8UrMyy473pejyLQyzdJK\" class=\"ipyplot-content-div-KrjfbwXv6KpMGWckH8uF4P\">\n            <h4 style=\"font-size: 12px; word-wrap: break-word;\">['wonderful(5.9143)', 'mother(5.5965)', 'joy(4.5186)', 'daughter(4.4324)', 'nice(4.4279)', 'purple(4.4148)', 'passion(3.9437)', 'red(3.8910)', 'yellow(3.8848)', 'cousin(3.8703)']</h4>\n            <h4 style=\"font-size: 9px; padding-left: 10px; padding-right: 10px; width: 95%; word-wrap: break-word; white-space: normal;\">../HARRISON/images/justinbieber_image_1219.jpg</h4><img src=\"../HARRISON/images/justinbieber_image_1219.jpg\"/>\n            <a href=\"#!\">\n                <span class=\"ipyplot-img-close\"/>\n            </a>\n            <a href=\"#ipyplot-content-div-KrjfbwXv6KpMGWckH8uF4P-Ta8UrMyy473pejyLQyzdJK\">\n                <span class=\"ipyplot-img-expand\"/>\n            </a>\n        </div>\n    </div>\n    \n    <div class=\"ipyplot-placeholder-div-KrjfbwXv6KpMGWckH8uF4P\">\n        <div id=\"ipyplot-content-div-KrjfbwXv6KpMGWckH8uF4P-5gA6XpJjj2N3j4bU4SLACC\" class=\"ipyplot-content-div-KrjfbwXv6KpMGWckH8uF4P\">\n            <h4 style=\"font-size: 12px; word-wrap: break-word;\">['mother(6.3116)', 'wonderful(5.8985)', 'daughter(4.6295)', 'silly(4.3399)', 'joy(4.1308)', 'nice(4.0828)', 'cousin(3.7711)', 'red(3.3841)', 'passion(3.3219)', 'romance(3.3191)']</h4>\n            <h4 style=\"font-size: 9px; padding-left: 10px; padding-right: 10px; width: 95%; word-wrap: break-word; white-space: normal;\">../HARRISON/images/dog_image_67.jpg</h4><img src=\"../HARRISON/images/dog_image_67.jpg\"/>\n            <a href=\"#!\">\n                <span class=\"ipyplot-img-close\"/>\n            </a>\n            <a href=\"#ipyplot-content-div-KrjfbwXv6KpMGWckH8uF4P-5gA6XpJjj2N3j4bU4SLACC\">\n                <span class=\"ipyplot-img-expand\"/>\n            </a>\n        </div>\n    </div>\n    \n    <div class=\"ipyplot-placeholder-div-KrjfbwXv6KpMGWckH8uF4P\">\n        <div id=\"ipyplot-content-div-KrjfbwXv6KpMGWckH8uF4P-CiWuLtJLisfbKRxmSVPtHZ\" class=\"ipyplot-content-div-KrjfbwXv6KpMGWckH8uF4P\">\n            <h4 style=\"font-size: 12px; word-wrap: break-word;\">['mother(6.7522)', 'wonderful(6.2752)', 'nice(5.8982)', 'daughter(5.1028)', 'joy(4.5696)', 'cousin(4.5279)', 'blue(4.4136)', 'purple(4.3352)', 'red(4.3007)', 'silly(4.1214)']</h4>\n            <h4 style=\"font-size: 9px; padding-left: 10px; padding-right: 10px; width: 95%; word-wrap: break-word; white-space: normal;\">../HARRISON/images/school_image_1769.jpg</h4><img src=\"../HARRISON/images/school_image_1769.jpg\"/>\n            <a href=\"#!\">\n                <span class=\"ipyplot-img-close\"/>\n            </a>\n            <a href=\"#ipyplot-content-div-KrjfbwXv6KpMGWckH8uF4P-CiWuLtJLisfbKRxmSVPtHZ\">\n                <span class=\"ipyplot-img-expand\"/>\n            </a>\n        </div>\n    </div>\n    \n    <div class=\"ipyplot-placeholder-div-KrjfbwXv6KpMGWckH8uF4P\">\n        <div id=\"ipyplot-content-div-KrjfbwXv6KpMGWckH8uF4P-dYfHKq3NR75FesfPkazLrH\" class=\"ipyplot-content-div-KrjfbwXv6KpMGWckH8uF4P\">\n            <h4 style=\"font-size: 12px; word-wrap: break-word;\">['mother(6.6094)', 'wonderful(6.2166)', 'joy(5.6485)', 'daughter(5.2050)', 'silly(5.1619)', 'purple(4.3369)', 'red(4.2877)', 'pink(4.2566)', 'blue(4.1118)', 'nice(3.9882)']</h4>\n            <h4 style=\"font-size: 9px; padding-left: 10px; padding-right: 10px; width: 95%; word-wrap: break-word; white-space: normal;\">../HARRISON/images/nike_image_3795.jpg</h4><img src=\"../HARRISON/images/nike_image_3795.jpg\"/>\n            <a href=\"#!\">\n                <span class=\"ipyplot-img-close\"/>\n            </a>\n            <a href=\"#ipyplot-content-div-KrjfbwXv6KpMGWckH8uF4P-dYfHKq3NR75FesfPkazLrH\">\n                <span class=\"ipyplot-img-expand\"/>\n            </a>\n        </div>\n    </div>\n    \n    <div class=\"ipyplot-placeholder-div-KrjfbwXv6KpMGWckH8uF4P\">\n        <div id=\"ipyplot-content-div-KrjfbwXv6KpMGWckH8uF4P-YBmUwhwBZZcSWqJ3TL4RgC\" class=\"ipyplot-content-div-KrjfbwXv6KpMGWckH8uF4P\">\n            <h4 style=\"font-size: 12px; word-wrap: break-word;\">['wonderful(5.7416)', 'mother(5.5873)', 'blue(5.0250)', 'purple(5.0152)', 'red(4.8499)', 'daughter(4.5159)', 'nice(4.4652)', 'joy(4.4352)', 'pink(4.3513)', 'cousin(3.7519)']</h4>\n            <h4 style=\"font-size: 9px; padding-left: 10px; padding-right: 10px; width: 95%; word-wrap: break-word; white-space: normal;\">../HARRISON/images/friday_image_947.jpg</h4><img src=\"../HARRISON/images/friday_image_947.jpg\"/>\n            <a href=\"#!\">\n                <span class=\"ipyplot-img-close\"/>\n            </a>\n            <a href=\"#ipyplot-content-div-KrjfbwXv6KpMGWckH8uF4P-YBmUwhwBZZcSWqJ3TL4RgC\">\n                <span class=\"ipyplot-img-expand\"/>\n            </a>\n        </div>\n    </div>\n    \n    <div class=\"ipyplot-placeholder-div-KrjfbwXv6KpMGWckH8uF4P\">\n        <div id=\"ipyplot-content-div-KrjfbwXv6KpMGWckH8uF4P-EFZ7hEAkmgkocmKyMXn5YT\" class=\"ipyplot-content-div-KrjfbwXv6KpMGWckH8uF4P\">\n            <h4 style=\"font-size: 12px; word-wrap: break-word;\">['mother(7.7752)', 'wonderful(6.2197)', 'silly(5.7815)', 'daughter(5.5494)', 'nice(4.7130)', 'joy(4.5556)', 'girl(3.9726)', 'cousin(3.9403)', 'love(3.9135)', 'crazy(3.7332)']</h4>\n            <h4 style=\"font-size: 9px; padding-left: 10px; padding-right: 10px; width: 95%; word-wrap: break-word; white-space: normal;\">../HARRISON/images/goodtimes_image_477.jpg</h4><img src=\"../HARRISON/images/goodtimes_image_477.jpg\"/>\n            <a href=\"#!\">\n                <span class=\"ipyplot-img-close\"/>\n            </a>\n            <a href=\"#ipyplot-content-div-KrjfbwXv6KpMGWckH8uF4P-EFZ7hEAkmgkocmKyMXn5YT\">\n                <span class=\"ipyplot-img-expand\"/>\n            </a>\n        </div>\n    </div>\n    \n    <div class=\"ipyplot-placeholder-div-KrjfbwXv6KpMGWckH8uF4P\">\n        <div id=\"ipyplot-content-div-KrjfbwXv6KpMGWckH8uF4P-j2gUQxuj9oWPcqdg2jsvah\" class=\"ipyplot-content-div-KrjfbwXv6KpMGWckH8uF4P\">\n            <h4 style=\"font-size: 12px; word-wrap: break-word;\">['mother(6.7629)', 'wonderful(6.5810)', 'daughter(5.9114)', 'purple(5.7168)', 'nice(5.1369)', 'blue(5.0542)', 'joy(4.8578)', 'red(4.6817)', 'passion(4.5932)', 'cousin(3.9966)']</h4>\n            <h4 style=\"font-size: 9px; padding-left: 10px; padding-right: 10px; width: 95%; word-wrap: break-word; white-space: normal;\">../HARRISON/images/hair_image_1740.jpg</h4><img src=\"../HARRISON/images/hair_image_1740.jpg\"/>\n            <a href=\"#!\">\n                <span class=\"ipyplot-img-close\"/>\n            </a>\n            <a href=\"#ipyplot-content-div-KrjfbwXv6KpMGWckH8uF4P-j2gUQxuj9oWPcqdg2jsvah\">\n                <span class=\"ipyplot-img-expand\"/>\n            </a>\n        </div>\n    </div>\n    \n    <div class=\"ipyplot-placeholder-div-KrjfbwXv6KpMGWckH8uF4P\">\n        <div id=\"ipyplot-content-div-KrjfbwXv6KpMGWckH8uF4P-DELkwqLvsRSK9wFWkpFibM\" class=\"ipyplot-content-div-KrjfbwXv6KpMGWckH8uF4P\">\n            <h4 style=\"font-size: 12px; word-wrap: break-word;\">['wonderful(5.0845)', 'mother(5.0120)', 'daughter(4.0672)', 'purple(3.9815)', 'blue(3.8545)', 'nice(3.5743)', 'joy(3.2885)', 'yellow(3.2655)', 'red(3.1786)', 'passion(3.1713)']</h4>\n            <h4 style=\"font-size: 9px; padding-left: 10px; padding-right: 10px; width: 95%; word-wrap: break-word; white-space: normal;\">../HARRISON/images/tree_image_1725.jpg</h4><img src=\"../HARRISON/images/tree_image_1725.jpg\"/>\n            <a href=\"#!\">\n                <span class=\"ipyplot-img-close\"/>\n            </a>\n            <a href=\"#ipyplot-content-div-KrjfbwXv6KpMGWckH8uF4P-DELkwqLvsRSK9wFWkpFibM\">\n                <span class=\"ipyplot-img-expand\"/>\n            </a>\n        </div>\n    </div>\n    \n    <div class=\"ipyplot-placeholder-div-KrjfbwXv6KpMGWckH8uF4P\">\n        <div id=\"ipyplot-content-div-KrjfbwXv6KpMGWckH8uF4P-VxjAgCNs7gAcwwwyr27rfx\" class=\"ipyplot-content-div-KrjfbwXv6KpMGWckH8uF4P\">\n            <h4 style=\"font-size: 12px; word-wrap: break-word;\">['wonderful(6.1487)', 'mother(5.8819)', 'daughter(4.6475)', 'silly(4.3836)', 'joy(4.0664)', 'nice(3.9542)', 'red(3.7030)', 'blue(3.6572)', 'purple(3.5854)', 'romance(3.5849)']</h4>\n            <h4 style=\"font-size: 9px; padding-left: 10px; padding-right: 10px; width: 95%; word-wrap: break-word; white-space: normal;\">../HARRISON/images/model_image_3525.jpg</h4><img src=\"../HARRISON/images/model_image_3525.jpg\"/>\n            <a href=\"#!\">\n                <span class=\"ipyplot-img-close\"/>\n            </a>\n            <a href=\"#ipyplot-content-div-KrjfbwXv6KpMGWckH8uF4P-VxjAgCNs7gAcwwwyr27rfx\">\n                <span class=\"ipyplot-img-expand\"/>\n            </a>\n        </div>\n    </div>\n    \n    <div class=\"ipyplot-placeholder-div-KrjfbwXv6KpMGWckH8uF4P\">\n        <div id=\"ipyplot-content-div-KrjfbwXv6KpMGWckH8uF4P-2krbkQKkcL7DZdvvzGnFS7\" class=\"ipyplot-content-div-KrjfbwXv6KpMGWckH8uF4P\">\n            <h4 style=\"font-size: 12px; word-wrap: break-word;\">['mother(7.7567)', 'wonderful(7.7217)', 'nice(7.3836)', 'ocean(6.9100)', 'daughter(6.6006)', 'joy(6.5540)', 'beach(6.4671)', 'blue(6.3944)', 'purple(6.1157)', 'cousin(6.0942)']</h4>\n            <h4 style=\"font-size: 9px; padding-left: 10px; padding-right: 10px; width: 95%; word-wrap: break-word; white-space: normal;\">../HARRISON/images/snow_image_1068.jpg</h4><img src=\"../HARRISON/images/snow_image_1068.jpg\"/>\n            <a href=\"#!\">\n                <span class=\"ipyplot-img-close\"/>\n            </a>\n            <a href=\"#ipyplot-content-div-KrjfbwXv6KpMGWckH8uF4P-2krbkQKkcL7DZdvvzGnFS7\">\n                <span class=\"ipyplot-img-expand\"/>\n            </a>\n        </div>\n    </div>\n    </div>"
     },
     "metadata": {}
    }
   ],
   "source": [
    "## Manually Check Some of the Results...\n",
    "import ipyplot\n",
    "from heapq import nlargest\n",
    "\n",
    "paths = list(results.filename.apply(lambda x: f\"../HARRISON/images/{x}\"))\n",
    "labels = [[f\"{key}({d[key]:.4f})\" for key in nlargest(10, d, key=d.get)] for d in results[\"y_pred\"]]\n",
    "\n",
    "ipyplot.plot_images(paths, labels)"
   ]
  },
  {
   "source": [
    "## Reference\n",
    "https://medium.com/@vijayabhaskar96/multi-label-image-classification-tutorial-with-keras-imagedatagenerator-cd541f8eaf24"
   ],
   "cell_type": "markdown",
   "metadata": {}
  }
 ]
}
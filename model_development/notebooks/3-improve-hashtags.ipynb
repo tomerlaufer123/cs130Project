{
 "metadata": {
  "language_info": {
   "codemirror_mode": {
    "name": "ipython",
    "version": 3
   },
   "file_extension": ".py",
   "mimetype": "text/x-python",
   "name": "python",
   "nbconvert_exporter": "python",
   "pygments_lexer": "ipython3",
   "version": 3
  },
  "orig_nbformat": 2
 },
 "nbformat": 4,
 "nbformat_minor": 2,
 "cells": [
  {
   "source": [
    "# 3. Improve Hashtags\n",
    "\n",
    "HARRISON dataset provides us with images along with their hashtags. But those provided hashtags are not enough to train a model with. For example, a picture of the beach has only one hashtag `sea`, so the model learns the image is associated with `sea` but not `ocean`, `beach`, or any other similar tags.\n",
    "\n",
    "In this section, we improve groud truth values (i.e. provided hashtags) by adding more related hashtags.\n",
    "To do so, we consider two approaches:\n",
    "\n",
    "1. Using synonyms\n",
    "\n",
    "    Using [WordNet](https://www.nltk.org/howto/wordnet.html), we can get synoyms for any hashtag. We can then add those hashtags as ground truth values.\n",
    "\n",
    "\n",
    "\n",
    "2. "
   ],
   "cell_type": "markdown",
   "metadata": {}
  },
  {
   "cell_type": "code",
   "execution_count": null,
   "metadata": {},
   "outputs": [],
   "source": []
  }
 ]
}
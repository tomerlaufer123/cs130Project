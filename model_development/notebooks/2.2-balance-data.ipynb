{
 "cells": [
  {
   "cell_type": "markdown",
   "metadata": {},
   "source": [
    "# 2. Data Balance by Label Substitution\n",
    "---\n",
    "\n",
    "In this notebook, we will look at the hashtags labels for each image, and fix the imbalance.\n",
    "\n",
    "## Import Libraries (the following cells are copied from notebook 1)"
   ]
  },
  {
   "source": [
    "import pandas as pd\n",
    "from sklearn.feature_extraction.text import CountVectorizer\n",
    "from sklearn.utils import shuffle\n",
    "\n",
    "from PIL import ImageFile\n",
    "ImageFile.LOAD_TRUNCATED_IMAGES = True\n",
    "\n",
    "import os,sys\n",
    "sys.path.append(\"../src\")"
   ],
   "cell_type": "code",
   "metadata": {},
   "execution_count": 1,
   "outputs": []
  },
  {
   "cell_type": "markdown",
   "metadata": {},
   "source": [
    "## Create the Target Matrix\n",
    "Form ```tag_list.txt``` and ```data_list.txt``` in HARRISON dataset, we create a target matrix as a DataFrame."
   ]
  },
  {
   "cell_type": "code",
   "execution_count": 2,
   "metadata": {},
   "outputs": [
    {
     "output_type": "execute_result",
     "data": {
      "text/plain": [
       "             filename                                             labels\n",
       "0    sea_image_50.jpg                sea instapic instagram trip travel \n",
       "1  sea_image_1284.jpg                                               sea \n",
       "2  sea_image_1122.jpg                                          sea love \n",
       "3  sea_image_1679.jpg                       beach sea trip island japan \n",
       "4  sea_image_1736.jpg  sun sand sea sky friend beach thailand trip ad..."
      ],
      "text/html": "<div>\n<style scoped>\n    .dataframe tbody tr th:only-of-type {\n        vertical-align: middle;\n    }\n\n    .dataframe tbody tr th {\n        vertical-align: top;\n    }\n\n    .dataframe thead th {\n        text-align: right;\n    }\n</style>\n<table border=\"1\" class=\"dataframe\">\n  <thead>\n    <tr style=\"text-align: right;\">\n      <th></th>\n      <th>filename</th>\n      <th>labels</th>\n    </tr>\n  </thead>\n  <tbody>\n    <tr>\n      <th>0</th>\n      <td>sea_image_50.jpg</td>\n      <td>sea instapic instagram trip travel</td>\n    </tr>\n    <tr>\n      <th>1</th>\n      <td>sea_image_1284.jpg</td>\n      <td>sea</td>\n    </tr>\n    <tr>\n      <th>2</th>\n      <td>sea_image_1122.jpg</td>\n      <td>sea love</td>\n    </tr>\n    <tr>\n      <th>3</th>\n      <td>sea_image_1679.jpg</td>\n      <td>beach sea trip island japan</td>\n    </tr>\n    <tr>\n      <th>4</th>\n      <td>sea_image_1736.jpg</td>\n      <td>sun sand sea sky friend beach thailand trip ad...</td>\n    </tr>\n  </tbody>\n</table>\n</div>"
     },
     "metadata": {},
     "execution_count": 2
    }
   ],
   "source": [
    "DATA_LIST = \"../HARRISON/data_list.txt\"\n",
    "TAG_LIST = \"../HARRISON/tag_list.txt\"\n",
    "\n",
    "# Read files\n",
    "filename = pd.read_csv(DATA_LIST, names=[\"filename\"], header=None)\n",
    "hashtag = pd.read_csv(TAG_LIST, names=[\"labels\"], header=None)\n",
    "\n",
    "# Convert filenames from \"instagram_dataset/xxx/yyy.jpg\" to \"xxx_yyy.jpg\"\n",
    "filename[\"filename\"] = filename[\"filename\"].apply(lambda x: \"_\".join(x.split(\"/\")[1:]))\n",
    "\n",
    "# Concatenate filname and labels\n",
    "target = pd.concat([filename, hashtag], axis=1)\n",
    "target.head(5)"
   ]
  },
  {
   "cell_type": "code",
   "execution_count": 3,
   "metadata": {},
   "outputs": [],
   "source": [
    "# Use vectorizer to generate a one-hot encoding\n",
    "vectorizer = CountVectorizer(binary=True)\n",
    "X = vectorizer.fit_transform(target[\"labels\"])\n",
    "columns = vectorizer.get_feature_names()\n",
    "X_df = pd.DataFrame(X.toarray(), columns=columns)\n",
    "\n",
    "# Combine hashtag encodings with file names\n",
    "target = pd.concat([target, X_df], axis=1)\n",
    "target = shuffle(target, random_state=42)\n",
    "\n",
    "num_images = target.shape[0]\n",
    "num_hashtags = X_df.shape[1]"
   ]
  },
  {
   "cell_type": "markdown",
   "metadata": {},
   "source": [
    "## Visualize the data imbalance"
   ]
  },
  {
   "cell_type": "code",
   "execution_count": 5,
   "metadata": {},
   "outputs": [
    {
     "output_type": "display_data",
     "data": {
      "text/plain": "<Figure size 432x288 with 1 Axes>",
      "image/png": "[encoded data removed]"
     },
     "metadata": {
      "needs_background": "light"
     }
    },
    {
     "output_type": "stream",
     "name": "stdout",
     "text": [
      "Variance in Frequency: 6.271672470561842e-05\n5 Most Common Labels: [('love', 0.10267849363051774), ('friend', 0.06353798163219072), ('beach', 0.052715961173169755), ('family', 0.051687782095742645), ('yellow', 0.046477179652510324)]\n"
     ]
    }
   ],
   "source": [
    "from data_balance import Data_Balance,Word_Similarity\n",
    "\n",
    "db = Data_Balance()\n",
    "db.visualize_pdf(X_df)"
   ]
  },
  {
   "cell_type": "markdown",
   "metadata": {},
   "source": [
    "## Balance the data"
   ]
  },
  {
   "cell_type": "code",
   "execution_count": 6,
   "metadata": {},
   "outputs": [
    {
     "output_type": "stream",
     "name": "stdout",
     "text": [
      "Meanings Dictionary successfully loaded from file.\n",
      "Updating Similarity_Matrix...\n",
      "Similarity Matrix successfully built.\n",
      "Similarity Matrix successfully saved to file.\n"
     ]
    }
   ],
   "source": [
    "#create Similarity Matrix. Matrix[i,j] == \"path_similarity\" between labels i and j\n",
    "ws = Word_Similarity()\n",
    "labels = X_df.columns.values\n",
    "#if you do not yet have a Meanings_Dictionary, use labels=label below. That will generate a default dictionary and csv\n",
    "ws.load_Similarity_Matrix(labels=None,force_rebuild=True)"
   ]
  },
  {
   "cell_type": "code",
   "execution_count": 7,
   "metadata": {
    "tags": []
   },
   "outputs": [
    {
     "output_type": "stream",
     "name": "stdout",
     "text": [
      "['anastasiabeverlyhills', 'and', 'arianagrande', 'arte', 'belieber', 'beliebers', 'bestoftheday', 'beyonce', 'bieber', 'blackandwhite', 'bnw', 'boanoite', 'boho', 'bomdia', 'chanel', 'demilovato', 'doubletap', 'for', 'harrystyles', 'hkig', 'hudabeauty', 'inlove', 'inshot', 'inspo', 'instachile', 'instaselfie', 'instasize', 'jelena', 'justin', 'justinbieber', 'kawaii', 'kendalljenner', 'kidrauhl', 'kimkardashian', 'kyliejenner', 'longhair', 'losangeles', 'mcm', 'mileycyrus', 'newyork', 'niallhoran', 'nyc', 'onedirection', 'onlineshop', 'ootd', 'purposetour', 'redhair', 'rihanna', 'selca', 'selenagomez', 'sepatu', 'sepatumurah', 'spb', 'statigram', 'taylorswift', 'the', 'tweegram', 'uae', 'vsco', 'vscocam', 'vscogood', 'vscogram', 'vscophile', 'vscorussia', 'wcw', 'with', 'zaynmalik']\n"
     ]
    }
   ],
   "source": [
    "#check which labels have no definitions in the nltk wordnet corpus\n",
    "#it is recommended that these words are redefined to words that are in the wordnet corpus\n",
    "#this can be done in model_development/misc/meanings.csv\n",
    "#BE CAREFUL using Microsoft Excel, which automatically changes 'true' tag to TRUE truth value\n",
    "#when done, run the next cell\n",
    "print([l for l in labels if (ws.word2synset(ws.Meanings_Dict[l]) is None)])"
   ]
  },
  {
   "cell_type": "code",
   "execution_count": 8,
   "metadata": {
    "tags": []
   },
   "outputs": [
    {
     "output_type": "stream",
     "name": "stdout",
     "text": [
      "All structures successfully loaded!\n"
     ]
    }
   ],
   "source": [
    "#rebuild the similarity matrix using the new Meanings Dictionary from disk\n",
    "#if any updates were made, should say \"Meanings Dictionary has been updated on disk.\"\n",
    "ws.load_Similarity_Matrix(labels=None,force_rebuild=False)"
   ]
  },
  {
   "cell_type": "code",
   "execution_count": 9,
   "metadata": {},
   "outputs": [
    {
     "output_type": "stream",
     "name": "stdout",
     "text": [
      "Starting Variance: 6.271672470561842e-05\n",
      "Completed 1 iterations! | Ending Variance: 1.8729301573045893e-05\n"
     ]
    }
   ],
   "source": [
    "#use Similarity Matrix to balance the Data\n",
    "Similarity_Matrix = ws.get_Similarity_Matrix(threshold=0.4)\n",
    "db.load_X_df(X_df)\n",
    "db.balance_data(Similarity_Matrix)\n",
    "Balanced_X_df = db.Balanced_X_df"
   ]
  },
  {
   "source": [
    "## Visualize the balanced data"
   ],
   "cell_type": "markdown",
   "metadata": {}
  },
  {
   "cell_type": "code",
   "execution_count": 10,
   "metadata": {},
   "outputs": [
    {
     "output_type": "display_data",
     "data": {
      "text/plain": "<Figure size 432x288 with 1 Axes>",
      "image/png": "[encoded data removed]"
     },
     "metadata": {
      "needs_background": "light"
     }
    },
    {
     "output_type": "stream",
     "name": "stdout",
     "text": [
      "Variance in Frequency: 1.8729301573045893e-05\n5 Most Common Labels: [('yellow', 0.046477179652510324), ('snow', 0.03854800202150463), ('bored', 0.03690988620323092), ('school', 0.03617796211421501), ('tired', 0.03433072512765105)]\n"
     ]
    }
   ],
   "source": [
    "db.visualize_pdf(Balanced_X_df)"
   ]
  },
  {
   "cell_type": "code",
   "execution_count": 11,
   "metadata": {},
   "outputs": [],
   "source": [
    "import os\n",
    "\n",
    "#save balanced tag lists to files\n",
    "tag_list_pathname = os.path.join(\"..\",\"HARRISON\",\"tag_list_similarity_balanced.txt\")\n",
    "data_list_pathname = os.path.join(\"..\",\"HARRISON\",\"data_list_similarity_balanced.txt\")\n",
    "\n",
    "tag_list_oversampled_df = Balanced_X_df.dot((Balanced_X_df.columns.to_numpy() + \" \"))\n",
    "data_list_oversampled_df = target.loc[Balanced_X_df.index,'filename']\n",
    "\n",
    "tag_list_oversampled_df.to_csv(tag_list_pathname,header=False,index=False)\n",
    "data_list_oversampled_df.to_csv(data_list_pathname,header=False,index=False)"
   ]
  }
 ],
 "metadata": {
  "kernelspec": {
   "name": "python3",
   "display_name": "Python 3.7.9 64-bit ('youreit': conda)",
   "metadata": {
    "interpreter": {
     "hash": "0c870e019c90769de045673a1821d00d7a09c609b5ae451eabf21e99386d813d"
    }
   }
  },
  "language_info": {
   "codemirror_mode": {
    "name": "ipython",
    "version": 3
   },
   "file_extension": ".py",
   "mimetype": "text/x-python",
   "name": "python",
   "nbconvert_exporter": "python",
   "pygments_lexer": "ipython3",
   "version": "3.7.9-final"
  }
 },
 "nbformat": 4,
 "nbformat_minor": 2
}